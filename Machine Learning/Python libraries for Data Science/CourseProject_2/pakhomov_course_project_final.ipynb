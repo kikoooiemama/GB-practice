{
 "cells": [
  {
   "cell_type": "markdown",
   "id": "531ed128",
   "metadata": {},
   "source": [
    "# Итоговоый проект по курсу \"Библиотеки Python для Data Science\" <a class='anchor' id='begin'>\n",
    "\n",
    "Тема: \"Построение модели машинного обучения для предсказания факта невыполнения кредитных обязательств\"<br>\n",
    "Студент: Николай Пахомов ([kaggle](https://www.kaggle.com/kikoooiemama), [telegram](https://t.me/kikoooiemama))<br>\n",
    "Преподаватель: Светлана Медведева<br>"
   ]
  },
  {
   "cell_type": "markdown",
   "id": "cf4a15c7",
   "metadata": {},
   "source": [
    "## Содержание\n",
    "* [Итоговоый проект по курсу \"Библиотеки Python для Data Science: продолжение\"](#begin) \n",
    "    * [Задание](#task)\n",
    "    * [Загрузка библиотек и скриптов](#load_help)\n",
    "    * [Загрузка данных](#load_data)\n",
    "    * [1. Анализ данных](#eda)\n",
    "    * [2. Обработка выбросов и пропусков](#nan)\n",
    "    * [3. Построение новых признаков](#features)\n",
    "    * [4. Отбор признаков](#features_selection)\n",
    "    * [5. Разбиение на train и test](#split)\n",
    "    * [6. Построение модели](#modeling)\n",
    "    * [7. Прогнозирование на тестовом датасете](#prediction)"
   ]
  },
  {
   "cell_type": "markdown",
   "id": "acdb0f70",
   "metadata": {},
   "source": [
    "---\n",
    "## Задание <a class='anchor' id='task'>\n",
    "\n",
    "_Требуется, на основании имеющихся данных о клиентах банка, построить модель, используя обучающий датасет, для прогнозирования невыполнения долговых обязательств по текущему кредиту. Выполнить прогноз для примеров из тестового датасета._\n",
    "    \n",
    "    \n",
    "**Материалы к проекту (файлы):** \n",
    "* [train.csv](https://www.kaggle.com/c/gb-credit-default/data?select=train.csv), \n",
    "* [test.csv](https://www.kaggle.com/c/gb-credit-default/data?select=test.csv),\n",
    "* [sample_submission.csv](https://www.kaggle.com/c/gb-credit-default/data?select=sample_submission.csv)\n",
    "\n",
    "**Целевая переменная:**\n",
    "Credit Default - факт невыполнения кредитных обязательств\n",
    "\n",
    "**Основная метрика:**\n",
    "F1-score (sklearn.metrics.f1_score)\n",
    "\n",
    "**Требования к решению**\n",
    "\n",
    "*Целевая метрика*\n",
    "* F1 > 0.5\n",
    "* Метрика оценивается по качеству прогноза для главного класса (1 - просрочка по кредиту)\n",
    "\n",
    "*Решение должно содержать*\n",
    "1. Тетрадка Jupyter Notebook с кодом Вашего решения, названная по образцу {ФИО}\\_solution.ipynb, пример SShirkin\\_solution.ipynb\n",
    "2. Файл CSV с прогнозами целевой переменной для тестового датасета, названный по образцу {ФИО}\\_predictions.csv, пример SShirkin\\_predictions.csv\n",
    "\n",
    "*Рекомендации для файла с кодом (ipynb)*\n",
    "1. Файл должен содержать заголовки и комментарии (markdown)\n",
    "2. Повторяющиеся операции лучше оформлять в виде функций\n",
    "3. Не делать вывод большого количества строк таблиц (5-10 достаточно)\n",
    "4. По возможности добавлять графики, описывающие данные (около 3-5)\n",
    "5. Добавлять только лучшую модель, то есть не включать в код все варианты решения проекта\n",
    "6. Скрипт проекта должен отрабатывать от начала и до конца (от загрузки данных до выгрузки предсказаний)\n",
    "7. Весь проект должен быть в одном скрипте (файл ipynb).\n",
    "8. Допускается применение библиотек Python и моделей машинного обучения,\n",
    "которые были в данном курсе.\n",
    "\n",
    "**Сроки сдачи**\n",
    "\n",
    "Cдать проект нужно в течение 5 дней после окончания последнего вебинара.\n",
    "Оценки работ, сданных до дедлайна, будут представлены в виде рейтинга, ранжированного по заданной метрике качества.\n",
    "Проекты, сданные после дедлайна или сданные повторно, не попадают в рейтинг, но можно будет узнать результат."
   ]
  },
  {
   "cell_type": "markdown",
   "id": "19bd9eb0",
   "metadata": {},
   "source": [
    "---\n",
    "## Загрузка библиотек и скриптов <a class='anchor' id='load_help'>"
   ]
  },
  {
   "cell_type": "code",
   "execution_count": 1,
   "id": "cc0326e6",
   "metadata": {},
   "outputs": [],
   "source": [
    "import numpy as np\n",
    "import pandas as pd\n",
    "import random\n",
    "\n",
    "from sklearn.model_selection import train_test_split, cross_val_score\n",
    "# from sklearn.preprocessing import StandardScaler, RobustScaler\n",
    "# from sklearn.ensemble import RandomForestRegressor\n",
    "# from sklearn.ensemble import GradientBoostingRegressor\n",
    "from sklearn.metrics import classification_report, f1_score, precision_score, recall_score\n",
    "from sklearn.model_selection import KFold, GridSearchCV\n",
    "# import xgboost as xgb\n",
    "\n",
    "from catboost import CatBoostClassifier\n",
    "\n",
    "import matplotlib\n",
    "import matplotlib.pyplot as plt\n",
    "import seaborn as sns\n",
    "\n",
    "import warnings\n",
    "warnings.filterwarnings('ignore')\n",
    "\n",
    "%matplotlib inline\n",
    "matplotlib.rcParams.update({'font.size': 14})\n",
    "plt.style.use('seaborn')"
   ]
  },
  {
   "cell_type": "code",
   "execution_count": 2,
   "id": "87514994",
   "metadata": {},
   "outputs": [],
   "source": [
    "def evaluate_preds(train_true_values, train_pred_values, test_true_values, test_pred_values):\n",
    "    \"\"\"       \n",
    "    \"\"\"\n",
    "    print(\"Train F1:\\t\" + str(round(f1_score(train_true_values, train_pred_values), 4)))\n",
    "    print(\"Test F1:\\t\" + str(round(f1_score(test_true_values, test_pred_values), 4)))\n",
    "    get_classification_report(train_true_values, train_pred_values, test_true_values, test_pred_values)"
   ]
  },
  {
   "cell_type": "code",
   "execution_count": 3,
   "id": "d24f054f",
   "metadata": {},
   "outputs": [],
   "source": [
    "def get_classification_report(y_train_true, y_train_pred, y_test_true, y_test_pred):\n",
    "    print('TRAIN\\n\\n' + classification_report(y_train_true, y_train_pred))\n",
    "    print('TEST\\n\\n' + classification_report(y_test_true, y_test_pred))\n",
    "    print('CONFUSION MATRIX\\n')\n",
    "    print(pd.crosstab(y_test_true, y_test_pred))"
   ]
  },
  {
   "cell_type": "code",
   "execution_count": 4,
   "id": "dd9d6573",
   "metadata": {},
   "outputs": [],
   "source": [
    "def show_feature_importances(feature_names, feature_importances, get_top=None):\n",
    "    feature_importances = pd.DataFrame({'feature': feature_names, 'importance': feature_importances})\n",
    "    feature_importances = feature_importances.sort_values('importance', ascending=False)\n",
    "       \n",
    "    plt.figure(figsize = (20, len(feature_importances) * 0.355))\n",
    "    \n",
    "    sns.barplot(feature_importances['importance'], feature_importances['feature'])\n",
    "    \n",
    "    plt.xlabel('Importance')\n",
    "    plt.title('Importance of features')\n",
    "    plt.show()"
   ]
  },
  {
   "cell_type": "code",
   "execution_count": 5,
   "id": "fdfbed3b",
   "metadata": {},
   "outputs": [],
   "source": [
    "def reduce_mem_usage(df):\n",
    "    \"\"\" \n",
    "    Выполнение итерации по всем столбцам фрейма данных, чтобы изменить тип данных для уменьшения используемой памяти.\n",
    "    \"\"\"\n",
    "    start_mem = df.memory_usage().sum() / 1024**2\n",
    "    print('Memory usage of dataframe is {:.2f} MB'.format(start_mem))\n",
    "    \n",
    "    for col in df.columns:\n",
    "        col_type = df[col].dtype\n",
    "        \n",
    "        if col_type != object:\n",
    "            c_min = df[col].min()\n",
    "            c_max = df[col].max()\n",
    "            if str(col_type)[:3] == 'int':\n",
    "                if c_min > np.iinfo(np.int8).min and c_max < np.iinfo(np.int8).max:\n",
    "                    df[col] = df[col].astype(np.int8)\n",
    "                elif c_min > np.iinfo(np.int16).min and c_max < np.iinfo(np.int16).max:\n",
    "                    df[col] = df[col].astype(np.int16)\n",
    "                elif c_min > np.iinfo(np.int32).min and c_max < np.iinfo(np.int32).max:\n",
    "                    df[col] = df[col].astype(np.int32)\n",
    "                elif c_min > np.iinfo(np.int64).min and c_max < np.iinfo(np.int64).max:\n",
    "                    df[col] = df[col].astype(np.int64)  \n",
    "            else:\n",
    "                if c_min > np.finfo(np.float32).min and c_max < np.finfo(np.float32).max:\n",
    "                    df[col] = df[col].astype(np.float32)\n",
    "                else:\n",
    "                    df[col] = df[col].astype(np.float64)\n",
    "        else:\n",
    "            df[col] = df[col].astype('category')\n",
    "\n",
    "    end_mem = df.memory_usage().sum() / 1024**2\n",
    "    print('Memory usage after optimization is: {:.2f} MB'.format(end_mem))\n",
    "    print('Decreased by {:.1f}%'.format(100 * (start_mem - end_mem) / start_mem))\n",
    "    \n",
    "    return df"
   ]
  },
  {
   "cell_type": "markdown",
   "id": "9dd6e10e",
   "metadata": {},
   "source": [
    "---\n",
    "## Загрузка данных <a class='anchor' id='load_data'>"
   ]
  },
  {
   "cell_type": "markdown",
   "id": "8d047760",
   "metadata": {},
   "source": [
    "### Описание датасета\n",
    "* **Home Ownership** - домовладение\n",
    "* **Annual Income** - годовой доход\n",
    "* **Years in current job** - количество лет на текущем месте работы\n",
    "* **Tax Liens** - налоговые обременения\n",
    "* **Number of Open Accounts** - количество открытых счетов\n",
    "* **Years of Credit History** - количество лет кредитной истории\n",
    "* **Maximum Open Credit** - наибольший открытый кредит (максимальная сумма, которая когда-либо была доступна клиенту)\n",
    "* **Number of Credit Problems** - количество проблем с кредитом\n",
    "* **Months since last delinquent** - количество месяцев с последней просрочки платежа\n",
    "* **Bankruptcies** - банкротства\n",
    "* **Purpose** - цель кредита\n",
    "* **Term** - срок кредита\n",
    "* **Current Loan Amount** - текущая сумма кредита (сумма, которую еще предстоит выплатить клиенту)\n",
    "* **Current Credit Balance** - текущий кредитный баланс (сумма, которую может тратить клиент с кредитного счета)\n",
    "* **Monthly Debt** - ежемесячный долг\n",
    "* **Credit Score** - баллы кредитного рейтинга\n",
    "* **Credit Default** - факт невыполнения кредитных обязательств (0 - погашен вовремя, 1 - просрочка)"
   ]
  },
  {
   "cell_type": "markdown",
   "id": "e047b87e",
   "metadata": {},
   "source": [
    "### Путь к директориям и файлам"
   ]
  },
  {
   "cell_type": "code",
   "execution_count": 6,
   "id": "0373c25c",
   "metadata": {},
   "outputs": [],
   "source": [
    "TRAIN_DATASET_PATH = './Datasets/train.csv' # y_train, y_valid\n",
    "TEST_DATASET_PATH = './Datasets/test.csv' # y_test\n",
    "SUBMIT_DATASET_PATH = './Datasets/sample_submission.csv'\n",
    "SUBMIT_FILE_NAME = 'pakhomov_predictions.csv'"
   ]
  },
  {
   "cell_type": "code",
   "execution_count": 7,
   "id": "a407515b",
   "metadata": {},
   "outputs": [],
   "source": [
    "train_df = pd.read_csv(TRAIN_DATASET_PATH)\n",
    "test_df = pd.read_csv(TEST_DATASET_PATH)"
   ]
  },
  {
   "cell_type": "code",
   "execution_count": 8,
   "id": "d4591f4f",
   "metadata": {},
   "outputs": [
    {
     "data": {
      "text/html": [
       "<div>\n",
       "<style scoped>\n",
       "    .dataframe tbody tr th:only-of-type {\n",
       "        vertical-align: middle;\n",
       "    }\n",
       "\n",
       "    .dataframe tbody tr th {\n",
       "        vertical-align: top;\n",
       "    }\n",
       "\n",
       "    .dataframe thead th {\n",
       "        text-align: right;\n",
       "    }\n",
       "</style>\n",
       "<table border=\"1\" class=\"dataframe\">\n",
       "  <thead>\n",
       "    <tr style=\"text-align: right;\">\n",
       "      <th></th>\n",
       "      <th>Home Ownership</th>\n",
       "      <th>Annual Income</th>\n",
       "      <th>Years in current job</th>\n",
       "      <th>Tax Liens</th>\n",
       "      <th>Number of Open Accounts</th>\n",
       "      <th>Years of Credit History</th>\n",
       "      <th>Maximum Open Credit</th>\n",
       "      <th>Number of Credit Problems</th>\n",
       "      <th>Months since last delinquent</th>\n",
       "      <th>Bankruptcies</th>\n",
       "      <th>Purpose</th>\n",
       "      <th>Term</th>\n",
       "      <th>Current Loan Amount</th>\n",
       "      <th>Current Credit Balance</th>\n",
       "      <th>Monthly Debt</th>\n",
       "      <th>Credit Score</th>\n",
       "      <th>Credit Default</th>\n",
       "    </tr>\n",
       "  </thead>\n",
       "  <tbody>\n",
       "    <tr>\n",
       "      <th>0</th>\n",
       "      <td>Own Home</td>\n",
       "      <td>482087.0</td>\n",
       "      <td>NaN</td>\n",
       "      <td>0.0</td>\n",
       "      <td>11.0</td>\n",
       "      <td>26.3</td>\n",
       "      <td>685960.0</td>\n",
       "      <td>1.0</td>\n",
       "      <td>NaN</td>\n",
       "      <td>1.0</td>\n",
       "      <td>debt consolidation</td>\n",
       "      <td>Short Term</td>\n",
       "      <td>99999999.0</td>\n",
       "      <td>47386.0</td>\n",
       "      <td>7914.0</td>\n",
       "      <td>749.0</td>\n",
       "      <td>0</td>\n",
       "    </tr>\n",
       "    <tr>\n",
       "      <th>1</th>\n",
       "      <td>Own Home</td>\n",
       "      <td>1025487.0</td>\n",
       "      <td>10+ years</td>\n",
       "      <td>0.0</td>\n",
       "      <td>15.0</td>\n",
       "      <td>15.3</td>\n",
       "      <td>1181730.0</td>\n",
       "      <td>0.0</td>\n",
       "      <td>NaN</td>\n",
       "      <td>0.0</td>\n",
       "      <td>debt consolidation</td>\n",
       "      <td>Long Term</td>\n",
       "      <td>264968.0</td>\n",
       "      <td>394972.0</td>\n",
       "      <td>18373.0</td>\n",
       "      <td>737.0</td>\n",
       "      <td>1</td>\n",
       "    </tr>\n",
       "    <tr>\n",
       "      <th>2</th>\n",
       "      <td>Home Mortgage</td>\n",
       "      <td>751412.0</td>\n",
       "      <td>8 years</td>\n",
       "      <td>0.0</td>\n",
       "      <td>11.0</td>\n",
       "      <td>35.0</td>\n",
       "      <td>1182434.0</td>\n",
       "      <td>0.0</td>\n",
       "      <td>NaN</td>\n",
       "      <td>0.0</td>\n",
       "      <td>debt consolidation</td>\n",
       "      <td>Short Term</td>\n",
       "      <td>99999999.0</td>\n",
       "      <td>308389.0</td>\n",
       "      <td>13651.0</td>\n",
       "      <td>742.0</td>\n",
       "      <td>0</td>\n",
       "    </tr>\n",
       "    <tr>\n",
       "      <th>3</th>\n",
       "      <td>Own Home</td>\n",
       "      <td>805068.0</td>\n",
       "      <td>6 years</td>\n",
       "      <td>0.0</td>\n",
       "      <td>8.0</td>\n",
       "      <td>22.5</td>\n",
       "      <td>147400.0</td>\n",
       "      <td>1.0</td>\n",
       "      <td>NaN</td>\n",
       "      <td>1.0</td>\n",
       "      <td>debt consolidation</td>\n",
       "      <td>Short Term</td>\n",
       "      <td>121396.0</td>\n",
       "      <td>95855.0</td>\n",
       "      <td>11338.0</td>\n",
       "      <td>694.0</td>\n",
       "      <td>0</td>\n",
       "    </tr>\n",
       "    <tr>\n",
       "      <th>4</th>\n",
       "      <td>Rent</td>\n",
       "      <td>776264.0</td>\n",
       "      <td>8 years</td>\n",
       "      <td>0.0</td>\n",
       "      <td>13.0</td>\n",
       "      <td>13.6</td>\n",
       "      <td>385836.0</td>\n",
       "      <td>1.0</td>\n",
       "      <td>NaN</td>\n",
       "      <td>0.0</td>\n",
       "      <td>debt consolidation</td>\n",
       "      <td>Short Term</td>\n",
       "      <td>125840.0</td>\n",
       "      <td>93309.0</td>\n",
       "      <td>7180.0</td>\n",
       "      <td>719.0</td>\n",
       "      <td>0</td>\n",
       "    </tr>\n",
       "  </tbody>\n",
       "</table>\n",
       "</div>"
      ],
      "text/plain": [
       "  Home Ownership  Annual Income Years in current job  Tax Liens  \\\n",
       "0       Own Home       482087.0                  NaN        0.0   \n",
       "1       Own Home      1025487.0            10+ years        0.0   \n",
       "2  Home Mortgage       751412.0              8 years        0.0   \n",
       "3       Own Home       805068.0              6 years        0.0   \n",
       "4           Rent       776264.0              8 years        0.0   \n",
       "\n",
       "   Number of Open Accounts  Years of Credit History  Maximum Open Credit  \\\n",
       "0                     11.0                     26.3             685960.0   \n",
       "1                     15.0                     15.3            1181730.0   \n",
       "2                     11.0                     35.0            1182434.0   \n",
       "3                      8.0                     22.5             147400.0   \n",
       "4                     13.0                     13.6             385836.0   \n",
       "\n",
       "   Number of Credit Problems  Months since last delinquent  Bankruptcies  \\\n",
       "0                        1.0                           NaN           1.0   \n",
       "1                        0.0                           NaN           0.0   \n",
       "2                        0.0                           NaN           0.0   \n",
       "3                        1.0                           NaN           1.0   \n",
       "4                        1.0                           NaN           0.0   \n",
       "\n",
       "              Purpose        Term  Current Loan Amount  \\\n",
       "0  debt consolidation  Short Term           99999999.0   \n",
       "1  debt consolidation   Long Term             264968.0   \n",
       "2  debt consolidation  Short Term           99999999.0   \n",
       "3  debt consolidation  Short Term             121396.0   \n",
       "4  debt consolidation  Short Term             125840.0   \n",
       "\n",
       "   Current Credit Balance  Monthly Debt  Credit Score  Credit Default  \n",
       "0                 47386.0        7914.0         749.0               0  \n",
       "1                394972.0       18373.0         737.0               1  \n",
       "2                308389.0       13651.0         742.0               0  \n",
       "3                 95855.0       11338.0         694.0               0  \n",
       "4                 93309.0        7180.0         719.0               0  "
      ]
     },
     "execution_count": 8,
     "metadata": {},
     "output_type": "execute_result"
    }
   ],
   "source": [
    "train_df.head()"
   ]
  },
  {
   "cell_type": "code",
   "execution_count": 9,
   "id": "1af1d8fa",
   "metadata": {
    "scrolled": false
   },
   "outputs": [
    {
     "data": {
      "text/html": [
       "<div>\n",
       "<style scoped>\n",
       "    .dataframe tbody tr th:only-of-type {\n",
       "        vertical-align: middle;\n",
       "    }\n",
       "\n",
       "    .dataframe tbody tr th {\n",
       "        vertical-align: top;\n",
       "    }\n",
       "\n",
       "    .dataframe thead th {\n",
       "        text-align: right;\n",
       "    }\n",
       "</style>\n",
       "<table border=\"1\" class=\"dataframe\">\n",
       "  <thead>\n",
       "    <tr style=\"text-align: right;\">\n",
       "      <th></th>\n",
       "      <th>Home Ownership</th>\n",
       "      <th>Annual Income</th>\n",
       "      <th>Years in current job</th>\n",
       "      <th>Tax Liens</th>\n",
       "      <th>Number of Open Accounts</th>\n",
       "      <th>Years of Credit History</th>\n",
       "      <th>Maximum Open Credit</th>\n",
       "      <th>Number of Credit Problems</th>\n",
       "      <th>Months since last delinquent</th>\n",
       "      <th>Bankruptcies</th>\n",
       "      <th>Purpose</th>\n",
       "      <th>Term</th>\n",
       "      <th>Current Loan Amount</th>\n",
       "      <th>Current Credit Balance</th>\n",
       "      <th>Monthly Debt</th>\n",
       "      <th>Credit Score</th>\n",
       "    </tr>\n",
       "  </thead>\n",
       "  <tbody>\n",
       "    <tr>\n",
       "      <th>0</th>\n",
       "      <td>Rent</td>\n",
       "      <td>NaN</td>\n",
       "      <td>4 years</td>\n",
       "      <td>0.0</td>\n",
       "      <td>9.0</td>\n",
       "      <td>12.5</td>\n",
       "      <td>220968.0</td>\n",
       "      <td>0.0</td>\n",
       "      <td>70.0</td>\n",
       "      <td>0.0</td>\n",
       "      <td>debt consolidation</td>\n",
       "      <td>Short Term</td>\n",
       "      <td>162470.0</td>\n",
       "      <td>105906.0</td>\n",
       "      <td>6813.0</td>\n",
       "      <td>NaN</td>\n",
       "    </tr>\n",
       "    <tr>\n",
       "      <th>1</th>\n",
       "      <td>Rent</td>\n",
       "      <td>231838.0</td>\n",
       "      <td>1 year</td>\n",
       "      <td>0.0</td>\n",
       "      <td>6.0</td>\n",
       "      <td>32.7</td>\n",
       "      <td>55946.0</td>\n",
       "      <td>0.0</td>\n",
       "      <td>8.0</td>\n",
       "      <td>0.0</td>\n",
       "      <td>educational expenses</td>\n",
       "      <td>Short Term</td>\n",
       "      <td>78298.0</td>\n",
       "      <td>46037.0</td>\n",
       "      <td>2318.0</td>\n",
       "      <td>699.0</td>\n",
       "    </tr>\n",
       "    <tr>\n",
       "      <th>2</th>\n",
       "      <td>Home Mortgage</td>\n",
       "      <td>1152540.0</td>\n",
       "      <td>3 years</td>\n",
       "      <td>0.0</td>\n",
       "      <td>10.0</td>\n",
       "      <td>13.7</td>\n",
       "      <td>204600.0</td>\n",
       "      <td>0.0</td>\n",
       "      <td>NaN</td>\n",
       "      <td>0.0</td>\n",
       "      <td>debt consolidation</td>\n",
       "      <td>Short Term</td>\n",
       "      <td>200178.0</td>\n",
       "      <td>146490.0</td>\n",
       "      <td>18729.0</td>\n",
       "      <td>7260.0</td>\n",
       "    </tr>\n",
       "    <tr>\n",
       "      <th>3</th>\n",
       "      <td>Home Mortgage</td>\n",
       "      <td>1220313.0</td>\n",
       "      <td>10+ years</td>\n",
       "      <td>0.0</td>\n",
       "      <td>16.0</td>\n",
       "      <td>17.0</td>\n",
       "      <td>456302.0</td>\n",
       "      <td>0.0</td>\n",
       "      <td>70.0</td>\n",
       "      <td>0.0</td>\n",
       "      <td>debt consolidation</td>\n",
       "      <td>Short Term</td>\n",
       "      <td>217382.0</td>\n",
       "      <td>213199.0</td>\n",
       "      <td>27559.0</td>\n",
       "      <td>739.0</td>\n",
       "    </tr>\n",
       "    <tr>\n",
       "      <th>4</th>\n",
       "      <td>Home Mortgage</td>\n",
       "      <td>2340952.0</td>\n",
       "      <td>6 years</td>\n",
       "      <td>0.0</td>\n",
       "      <td>11.0</td>\n",
       "      <td>23.6</td>\n",
       "      <td>1207272.0</td>\n",
       "      <td>0.0</td>\n",
       "      <td>NaN</td>\n",
       "      <td>0.0</td>\n",
       "      <td>debt consolidation</td>\n",
       "      <td>Long Term</td>\n",
       "      <td>777634.0</td>\n",
       "      <td>425391.0</td>\n",
       "      <td>42605.0</td>\n",
       "      <td>706.0</td>\n",
       "    </tr>\n",
       "  </tbody>\n",
       "</table>\n",
       "</div>"
      ],
      "text/plain": [
       "  Home Ownership  Annual Income Years in current job  Tax Liens  \\\n",
       "0           Rent            NaN              4 years        0.0   \n",
       "1           Rent       231838.0               1 year        0.0   \n",
       "2  Home Mortgage      1152540.0              3 years        0.0   \n",
       "3  Home Mortgage      1220313.0            10+ years        0.0   \n",
       "4  Home Mortgage      2340952.0              6 years        0.0   \n",
       "\n",
       "   Number of Open Accounts  Years of Credit History  Maximum Open Credit  \\\n",
       "0                      9.0                     12.5             220968.0   \n",
       "1                      6.0                     32.7              55946.0   \n",
       "2                     10.0                     13.7             204600.0   \n",
       "3                     16.0                     17.0             456302.0   \n",
       "4                     11.0                     23.6            1207272.0   \n",
       "\n",
       "   Number of Credit Problems  Months since last delinquent  Bankruptcies  \\\n",
       "0                        0.0                          70.0           0.0   \n",
       "1                        0.0                           8.0           0.0   \n",
       "2                        0.0                           NaN           0.0   \n",
       "3                        0.0                          70.0           0.0   \n",
       "4                        0.0                           NaN           0.0   \n",
       "\n",
       "                Purpose        Term  Current Loan Amount  \\\n",
       "0    debt consolidation  Short Term             162470.0   \n",
       "1  educational expenses  Short Term              78298.0   \n",
       "2    debt consolidation  Short Term             200178.0   \n",
       "3    debt consolidation  Short Term             217382.0   \n",
       "4    debt consolidation   Long Term             777634.0   \n",
       "\n",
       "   Current Credit Balance  Monthly Debt  Credit Score  \n",
       "0                105906.0        6813.0           NaN  \n",
       "1                 46037.0        2318.0         699.0  \n",
       "2                146490.0       18729.0        7260.0  \n",
       "3                213199.0       27559.0         739.0  \n",
       "4                425391.0       42605.0         706.0  "
      ]
     },
     "execution_count": 9,
     "metadata": {},
     "output_type": "execute_result"
    }
   ],
   "source": [
    "test_df.head()"
   ]
  },
  {
   "cell_type": "code",
   "execution_count": 10,
   "id": "a25f75d9",
   "metadata": {},
   "outputs": [
    {
     "data": {
      "text/plain": [
       "((7500, 17), (2500, 16))"
      ]
     },
     "execution_count": 10,
     "metadata": {},
     "output_type": "execute_result"
    }
   ],
   "source": [
    "train_df.shape, test_df.shape"
   ]
  },
  {
   "cell_type": "code",
   "execution_count": 11,
   "id": "7c7ad400",
   "metadata": {
    "scrolled": true
   },
   "outputs": [
    {
     "data": {
      "text/plain": [
       "Home Ownership                   object\n",
       "Annual Income                   float64\n",
       "Years in current job             object\n",
       "Tax Liens                       float64\n",
       "Number of Open Accounts         float64\n",
       "Years of Credit History         float64\n",
       "Maximum Open Credit             float64\n",
       "Number of Credit Problems       float64\n",
       "Months since last delinquent    float64\n",
       "Bankruptcies                    float64\n",
       "Purpose                          object\n",
       "Term                             object\n",
       "Current Loan Amount             float64\n",
       "Current Credit Balance          float64\n",
       "Monthly Debt                    float64\n",
       "Credit Score                    float64\n",
       "Credit Default                    int64\n",
       "dtype: object"
      ]
     },
     "execution_count": 11,
     "metadata": {},
     "output_type": "execute_result"
    }
   ],
   "source": [
    "train_df.dtypes"
   ]
  },
  {
   "cell_type": "code",
   "execution_count": 12,
   "id": "8ba064b6",
   "metadata": {},
   "outputs": [
    {
     "data": {
      "text/plain": [
       "True"
      ]
     },
     "execution_count": 12,
     "metadata": {},
     "output_type": "execute_result"
    }
   ],
   "source": [
    "train_df.shape[1]-1 == test_df.shape[1]"
   ]
  },
  {
   "cell_type": "markdown",
   "id": "dafdc674",
   "metadata": {},
   "source": [
    "### Приведение типов"
   ]
  },
  {
   "cell_type": "code",
   "execution_count": 13,
   "id": "53e3da8e",
   "metadata": {
    "scrolled": true
   },
   "outputs": [
    {
     "name": "stdout",
     "output_type": "stream",
     "text": [
      "<class 'pandas.core.frame.DataFrame'>\n",
      "RangeIndex: 7500 entries, 0 to 7499\n",
      "Data columns (total 17 columns):\n",
      " #   Column                        Non-Null Count  Dtype  \n",
      "---  ------                        --------------  -----  \n",
      " 0   Home Ownership                7500 non-null   object \n",
      " 1   Annual Income                 5943 non-null   float64\n",
      " 2   Years in current job          7129 non-null   object \n",
      " 3   Tax Liens                     7500 non-null   float64\n",
      " 4   Number of Open Accounts       7500 non-null   float64\n",
      " 5   Years of Credit History       7500 non-null   float64\n",
      " 6   Maximum Open Credit           7500 non-null   float64\n",
      " 7   Number of Credit Problems     7500 non-null   float64\n",
      " 8   Months since last delinquent  3419 non-null   float64\n",
      " 9   Bankruptcies                  7486 non-null   float64\n",
      " 10  Purpose                       7500 non-null   object \n",
      " 11  Term                          7500 non-null   object \n",
      " 12  Current Loan Amount           7500 non-null   float64\n",
      " 13  Current Credit Balance        7500 non-null   float64\n",
      " 14  Monthly Debt                  7500 non-null   float64\n",
      " 15  Credit Score                  5943 non-null   float64\n",
      " 16  Credit Default                7500 non-null   int64  \n",
      "dtypes: float64(12), int64(1), object(4)\n",
      "memory usage: 2.7 MB\n"
     ]
    }
   ],
   "source": [
    "train_df.info(memory_usage='deep')"
   ]
  },
  {
   "cell_type": "code",
   "execution_count": 14,
   "id": "be5793e0",
   "metadata": {},
   "outputs": [
    {
     "name": "stdout",
     "output_type": "stream",
     "text": [
      "<class 'pandas.core.frame.DataFrame'>\n",
      "RangeIndex: 2500 entries, 0 to 2499\n",
      "Data columns (total 16 columns):\n",
      " #   Column                        Non-Null Count  Dtype  \n",
      "---  ------                        --------------  -----  \n",
      " 0   Home Ownership                2500 non-null   object \n",
      " 1   Annual Income                 1987 non-null   float64\n",
      " 2   Years in current job          2414 non-null   object \n",
      " 3   Tax Liens                     2500 non-null   float64\n",
      " 4   Number of Open Accounts       2500 non-null   float64\n",
      " 5   Years of Credit History       2500 non-null   float64\n",
      " 6   Maximum Open Credit           2500 non-null   float64\n",
      " 7   Number of Credit Problems     2500 non-null   float64\n",
      " 8   Months since last delinquent  1142 non-null   float64\n",
      " 9   Bankruptcies                  2497 non-null   float64\n",
      " 10  Purpose                       2500 non-null   object \n",
      " 11  Term                          2500 non-null   object \n",
      " 12  Current Loan Amount           2500 non-null   float64\n",
      " 13  Current Credit Balance        2500 non-null   float64\n",
      " 14  Monthly Debt                  2500 non-null   float64\n",
      " 15  Credit Score                  1987 non-null   float64\n",
      "dtypes: float64(12), object(4)\n",
      "memory usage: 892.3 KB\n"
     ]
    }
   ],
   "source": [
    "test_df.info(memory_usage='deep')"
   ]
  },
  {
   "cell_type": "code",
   "execution_count": 15,
   "id": "3b176a4f",
   "metadata": {
    "scrolled": true
   },
   "outputs": [
    {
     "name": "stdout",
     "output_type": "stream",
     "text": [
      "Memory usage of dataframe is 0.97 MB\n",
      "Memory usage after optimization is: 0.38 MB\n",
      "Decreased by 60.9%\n",
      "Memory usage of dataframe is 0.31 MB\n",
      "Memory usage after optimization is: 0.13 MB\n",
      "Decreased by 58.9%\n"
     ]
    }
   ],
   "source": [
    "train_df = reduce_mem_usage(train_df)\n",
    "test_df = reduce_mem_usage(test_df)"
   ]
  },
  {
   "cell_type": "code",
   "execution_count": 16,
   "id": "10ec08af",
   "metadata": {},
   "outputs": [
    {
     "name": "stdout",
     "output_type": "stream",
     "text": [
      "<class 'pandas.core.frame.DataFrame'>\n",
      "RangeIndex: 7500 entries, 0 to 7499\n",
      "Data columns (total 17 columns):\n",
      " #   Column                        Non-Null Count  Dtype   \n",
      "---  ------                        --------------  -----   \n",
      " 0   Home Ownership                7500 non-null   category\n",
      " 1   Annual Income                 5943 non-null   float32 \n",
      " 2   Years in current job          7129 non-null   category\n",
      " 3   Tax Liens                     7500 non-null   float32 \n",
      " 4   Number of Open Accounts       7500 non-null   float32 \n",
      " 5   Years of Credit History       7500 non-null   float32 \n",
      " 6   Maximum Open Credit           7500 non-null   float32 \n",
      " 7   Number of Credit Problems     7500 non-null   float32 \n",
      " 8   Months since last delinquent  3419 non-null   float32 \n",
      " 9   Bankruptcies                  7486 non-null   float32 \n",
      " 10  Purpose                       7500 non-null   category\n",
      " 11  Term                          7500 non-null   category\n",
      " 12  Current Loan Amount           7500 non-null   float32 \n",
      " 13  Current Credit Balance        7500 non-null   float32 \n",
      " 14  Monthly Debt                  7500 non-null   float32 \n",
      " 15  Credit Score                  5943 non-null   float32 \n",
      " 16  Credit Default                7500 non-null   int8    \n",
      "dtypes: category(4), float32(12), int8(1)\n",
      "memory usage: 391.5 KB\n"
     ]
    }
   ],
   "source": [
    "train_df.info(memory_usage='deep')"
   ]
  },
  {
   "cell_type": "code",
   "execution_count": 17,
   "id": "68fc1946",
   "metadata": {},
   "outputs": [
    {
     "name": "stdout",
     "output_type": "stream",
     "text": [
      "<class 'pandas.core.frame.DataFrame'>\n",
      "RangeIndex: 2500 entries, 0 to 2499\n",
      "Data columns (total 16 columns):\n",
      " #   Column                        Non-Null Count  Dtype   \n",
      "---  ------                        --------------  -----   \n",
      " 0   Home Ownership                2500 non-null   category\n",
      " 1   Annual Income                 1987 non-null   float32 \n",
      " 2   Years in current job          2414 non-null   category\n",
      " 3   Tax Liens                     2500 non-null   float32 \n",
      " 4   Number of Open Accounts       2500 non-null   float32 \n",
      " 5   Years of Credit History       2500 non-null   float32 \n",
      " 6   Maximum Open Credit           2500 non-null   float32 \n",
      " 7   Number of Credit Problems     2500 non-null   float32 \n",
      " 8   Months since last delinquent  1142 non-null   float32 \n",
      " 9   Bankruptcies                  2497 non-null   float32 \n",
      " 10  Purpose                       2500 non-null   category\n",
      " 11  Term                          2500 non-null   category\n",
      " 12  Current Loan Amount           2500 non-null   float32 \n",
      " 13  Current Credit Balance        2500 non-null   float32 \n",
      " 14  Monthly Debt                  2500 non-null   float32 \n",
      " 15  Credit Score                  1987 non-null   float32 \n",
      "dtypes: category(4), float32(12)\n",
      "memory usage: 130.2 KB\n"
     ]
    }
   ],
   "source": [
    "test_df.info(memory_usage='deep')"
   ]
  },
  {
   "cell_type": "markdown",
   "id": "33a81852",
   "metadata": {},
   "source": [
    "---\n",
    "## 1. Анализ данных <a class='anchor' id='eda'>"
   ]
  },
  {
   "cell_type": "code",
   "execution_count": 18,
   "id": "58ce5d77",
   "metadata": {
    "scrolled": false
   },
   "outputs": [
    {
     "name": "stdout",
     "output_type": "stream",
     "text": [
      "<class 'pandas.core.frame.DataFrame'>\n",
      "RangeIndex: 7500 entries, 0 to 7499\n",
      "Data columns (total 17 columns):\n",
      " #   Column                        Non-Null Count  Dtype   \n",
      "---  ------                        --------------  -----   \n",
      " 0   Home Ownership                7500 non-null   category\n",
      " 1   Annual Income                 5943 non-null   float32 \n",
      " 2   Years in current job          7129 non-null   category\n",
      " 3   Tax Liens                     7500 non-null   float32 \n",
      " 4   Number of Open Accounts       7500 non-null   float32 \n",
      " 5   Years of Credit History       7500 non-null   float32 \n",
      " 6   Maximum Open Credit           7500 non-null   float32 \n",
      " 7   Number of Credit Problems     7500 non-null   float32 \n",
      " 8   Months since last delinquent  3419 non-null   float32 \n",
      " 9   Bankruptcies                  7486 non-null   float32 \n",
      " 10  Purpose                       7500 non-null   category\n",
      " 11  Term                          7500 non-null   category\n",
      " 12  Current Loan Amount           7500 non-null   float32 \n",
      " 13  Current Credit Balance        7500 non-null   float32 \n",
      " 14  Monthly Debt                  7500 non-null   float32 \n",
      " 15  Credit Score                  5943 non-null   float32 \n",
      " 16  Credit Default                7500 non-null   int8    \n",
      "dtypes: category(4), float32(12), int8(1)\n",
      "memory usage: 389.7 KB\n"
     ]
    }
   ],
   "source": [
    "train_df.info()"
   ]
  },
  {
   "cell_type": "markdown",
   "id": "cbe044f0",
   "metadata": {},
   "source": [
    "Параметры с пропусками: Annual Income, Years in current job, Months since last delinquent, Bankruptcies, Credit Score"
   ]
  },
  {
   "cell_type": "code",
   "execution_count": 19,
   "id": "2e049226",
   "metadata": {
    "scrolled": false
   },
   "outputs": [
    {
     "data": {
      "text/html": [
       "<div>\n",
       "<style scoped>\n",
       "    .dataframe tbody tr th:only-of-type {\n",
       "        vertical-align: middle;\n",
       "    }\n",
       "\n",
       "    .dataframe tbody tr th {\n",
       "        vertical-align: top;\n",
       "    }\n",
       "\n",
       "    .dataframe thead th {\n",
       "        text-align: right;\n",
       "    }\n",
       "</style>\n",
       "<table border=\"1\" class=\"dataframe\">\n",
       "  <thead>\n",
       "    <tr style=\"text-align: right;\">\n",
       "      <th></th>\n",
       "      <th>Home Ownership</th>\n",
       "      <th>Annual Income</th>\n",
       "      <th>Years in current job</th>\n",
       "      <th>Tax Liens</th>\n",
       "      <th>Number of Open Accounts</th>\n",
       "      <th>Years of Credit History</th>\n",
       "      <th>Maximum Open Credit</th>\n",
       "      <th>Number of Credit Problems</th>\n",
       "      <th>Months since last delinquent</th>\n",
       "      <th>Bankruptcies</th>\n",
       "      <th>Purpose</th>\n",
       "      <th>Term</th>\n",
       "      <th>Current Loan Amount</th>\n",
       "      <th>Current Credit Balance</th>\n",
       "      <th>Monthly Debt</th>\n",
       "      <th>Credit Score</th>\n",
       "      <th>Credit Default</th>\n",
       "    </tr>\n",
       "  </thead>\n",
       "  <tbody>\n",
       "    <tr>\n",
       "      <th>0</th>\n",
       "      <td>Own Home</td>\n",
       "      <td>482087.0</td>\n",
       "      <td>NaN</td>\n",
       "      <td>0.0</td>\n",
       "      <td>11.0</td>\n",
       "      <td>26.299999</td>\n",
       "      <td>685960.0</td>\n",
       "      <td>1.0</td>\n",
       "      <td>NaN</td>\n",
       "      <td>1.0</td>\n",
       "      <td>debt consolidation</td>\n",
       "      <td>Short Term</td>\n",
       "      <td>100000000.0</td>\n",
       "      <td>47386.0</td>\n",
       "      <td>7914.0</td>\n",
       "      <td>749.0</td>\n",
       "      <td>0</td>\n",
       "    </tr>\n",
       "    <tr>\n",
       "      <th>1</th>\n",
       "      <td>Own Home</td>\n",
       "      <td>1025487.0</td>\n",
       "      <td>10+ years</td>\n",
       "      <td>0.0</td>\n",
       "      <td>15.0</td>\n",
       "      <td>15.300000</td>\n",
       "      <td>1181730.0</td>\n",
       "      <td>0.0</td>\n",
       "      <td>NaN</td>\n",
       "      <td>0.0</td>\n",
       "      <td>debt consolidation</td>\n",
       "      <td>Long Term</td>\n",
       "      <td>264968.0</td>\n",
       "      <td>394972.0</td>\n",
       "      <td>18373.0</td>\n",
       "      <td>737.0</td>\n",
       "      <td>1</td>\n",
       "    </tr>\n",
       "    <tr>\n",
       "      <th>2</th>\n",
       "      <td>Home Mortgage</td>\n",
       "      <td>751412.0</td>\n",
       "      <td>8 years</td>\n",
       "      <td>0.0</td>\n",
       "      <td>11.0</td>\n",
       "      <td>35.000000</td>\n",
       "      <td>1182434.0</td>\n",
       "      <td>0.0</td>\n",
       "      <td>NaN</td>\n",
       "      <td>0.0</td>\n",
       "      <td>debt consolidation</td>\n",
       "      <td>Short Term</td>\n",
       "      <td>100000000.0</td>\n",
       "      <td>308389.0</td>\n",
       "      <td>13651.0</td>\n",
       "      <td>742.0</td>\n",
       "      <td>0</td>\n",
       "    </tr>\n",
       "    <tr>\n",
       "      <th>3</th>\n",
       "      <td>Own Home</td>\n",
       "      <td>805068.0</td>\n",
       "      <td>6 years</td>\n",
       "      <td>0.0</td>\n",
       "      <td>8.0</td>\n",
       "      <td>22.500000</td>\n",
       "      <td>147400.0</td>\n",
       "      <td>1.0</td>\n",
       "      <td>NaN</td>\n",
       "      <td>1.0</td>\n",
       "      <td>debt consolidation</td>\n",
       "      <td>Short Term</td>\n",
       "      <td>121396.0</td>\n",
       "      <td>95855.0</td>\n",
       "      <td>11338.0</td>\n",
       "      <td>694.0</td>\n",
       "      <td>0</td>\n",
       "    </tr>\n",
       "    <tr>\n",
       "      <th>4</th>\n",
       "      <td>Rent</td>\n",
       "      <td>776264.0</td>\n",
       "      <td>8 years</td>\n",
       "      <td>0.0</td>\n",
       "      <td>13.0</td>\n",
       "      <td>13.600000</td>\n",
       "      <td>385836.0</td>\n",
       "      <td>1.0</td>\n",
       "      <td>NaN</td>\n",
       "      <td>0.0</td>\n",
       "      <td>debt consolidation</td>\n",
       "      <td>Short Term</td>\n",
       "      <td>125840.0</td>\n",
       "      <td>93309.0</td>\n",
       "      <td>7180.0</td>\n",
       "      <td>719.0</td>\n",
       "      <td>0</td>\n",
       "    </tr>\n",
       "  </tbody>\n",
       "</table>\n",
       "</div>"
      ],
      "text/plain": [
       "  Home Ownership  Annual Income Years in current job  Tax Liens  \\\n",
       "0       Own Home       482087.0                  NaN        0.0   \n",
       "1       Own Home      1025487.0            10+ years        0.0   \n",
       "2  Home Mortgage       751412.0              8 years        0.0   \n",
       "3       Own Home       805068.0              6 years        0.0   \n",
       "4           Rent       776264.0              8 years        0.0   \n",
       "\n",
       "   Number of Open Accounts  Years of Credit History  Maximum Open Credit  \\\n",
       "0                     11.0                26.299999             685960.0   \n",
       "1                     15.0                15.300000            1181730.0   \n",
       "2                     11.0                35.000000            1182434.0   \n",
       "3                      8.0                22.500000             147400.0   \n",
       "4                     13.0                13.600000             385836.0   \n",
       "\n",
       "   Number of Credit Problems  Months since last delinquent  Bankruptcies  \\\n",
       "0                        1.0                           NaN           1.0   \n",
       "1                        0.0                           NaN           0.0   \n",
       "2                        0.0                           NaN           0.0   \n",
       "3                        1.0                           NaN           1.0   \n",
       "4                        1.0                           NaN           0.0   \n",
       "\n",
       "              Purpose        Term  Current Loan Amount  \\\n",
       "0  debt consolidation  Short Term          100000000.0   \n",
       "1  debt consolidation   Long Term             264968.0   \n",
       "2  debt consolidation  Short Term          100000000.0   \n",
       "3  debt consolidation  Short Term             121396.0   \n",
       "4  debt consolidation  Short Term             125840.0   \n",
       "\n",
       "   Current Credit Balance  Monthly Debt  Credit Score  Credit Default  \n",
       "0                 47386.0        7914.0         749.0               0  \n",
       "1                394972.0       18373.0         737.0               1  \n",
       "2                308389.0       13651.0         742.0               0  \n",
       "3                 95855.0       11338.0         694.0               0  \n",
       "4                 93309.0        7180.0         719.0               0  "
      ]
     },
     "execution_count": 19,
     "metadata": {},
     "output_type": "execute_result"
    }
   ],
   "source": [
    "train_df.head()"
   ]
  },
  {
   "cell_type": "markdown",
   "id": "3bc84e75",
   "metadata": {},
   "source": [
    "### Целевая переменная"
   ]
  },
  {
   "cell_type": "code",
   "execution_count": 20,
   "id": "98c3445f",
   "metadata": {
    "scrolled": false
   },
   "outputs": [
    {
     "data": {
      "text/plain": [
       "0    5387\n",
       "1    2113\n",
       "Name: Credit Default, dtype: int64"
      ]
     },
     "execution_count": 20,
     "metadata": {},
     "output_type": "execute_result"
    }
   ],
   "source": [
    "train_df['Credit Default'].value_counts()"
   ]
  },
  {
   "cell_type": "code",
   "execution_count": 21,
   "id": "0cb6ddb8",
   "metadata": {
    "scrolled": true
   },
   "outputs": [
    {
     "data": {
      "image/png": "[encoded data removed]",
      "text/plain": [
       "<Figure size 576x288 with 1 Axes>"
      ]
     },
     "metadata": {},
     "output_type": "display_data"
    }
   ],
   "source": [
    "counts = train_df['Credit Default'].value_counts()\n",
    "    \n",
    "plt.figure(figsize=(8,4))    \n",
    "plt.title('Credit Default')\n",
    "sns.barplot(counts.index, counts.values)\n",
    "plt.xlabel('Тип кредита (1-просрочка, 0 - оплата вовремя)')\n",
    "plt.ylabel('Количество')\n",
    "plt.show()"
   ]
  },
  {
   "cell_type": "markdown",
   "id": "611a7187",
   "metadata": {},
   "source": [
    "Метрика оценивается по качеству прогноза для главного класса (1 - просрочка по кредиту). Количество просроченных кредитов примерно треть. Две трети кредитов без просрочек. Пропусков нет."
   ]
  },
  {
   "cell_type": "markdown",
   "id": "3f039b54",
   "metadata": {},
   "source": [
    "### Количественные признаки"
   ]
  },
  {
   "cell_type": "code",
   "execution_count": 22,
   "id": "1116c65a",
   "metadata": {},
   "outputs": [
    {
     "data": {
      "text/html": [
       "<div>\n",
       "<style scoped>\n",
       "    .dataframe tbody tr th:only-of-type {\n",
       "        vertical-align: middle;\n",
       "    }\n",
       "\n",
       "    .dataframe tbody tr th {\n",
       "        vertical-align: top;\n",
       "    }\n",
       "\n",
       "    .dataframe thead th {\n",
       "        text-align: right;\n",
       "    }\n",
       "</style>\n",
       "<table border=\"1\" class=\"dataframe\">\n",
       "  <thead>\n",
       "    <tr style=\"text-align: right;\">\n",
       "      <th></th>\n",
       "      <th>Annual Income</th>\n",
       "      <th>Tax Liens</th>\n",
       "      <th>Number of Open Accounts</th>\n",
       "      <th>Years of Credit History</th>\n",
       "      <th>Maximum Open Credit</th>\n",
       "      <th>Number of Credit Problems</th>\n",
       "      <th>Months since last delinquent</th>\n",
       "      <th>Bankruptcies</th>\n",
       "      <th>Current Loan Amount</th>\n",
       "      <th>Current Credit Balance</th>\n",
       "      <th>Monthly Debt</th>\n",
       "      <th>Credit Score</th>\n",
       "      <th>Credit Default</th>\n",
       "    </tr>\n",
       "  </thead>\n",
       "  <tbody>\n",
       "    <tr>\n",
       "      <th>count</th>\n",
       "      <td>5.943000e+03</td>\n",
       "      <td>7500.000000</td>\n",
       "      <td>7500.000000</td>\n",
       "      <td>7500.000000</td>\n",
       "      <td>7.500000e+03</td>\n",
       "      <td>7500.0000</td>\n",
       "      <td>3419.000000</td>\n",
       "      <td>7486.000000</td>\n",
       "      <td>7500.0</td>\n",
       "      <td>7.500000e+03</td>\n",
       "      <td>7500.000000</td>\n",
       "      <td>5943.000000</td>\n",
       "      <td>7500.000000</td>\n",
       "    </tr>\n",
       "    <tr>\n",
       "      <th>mean</th>\n",
       "      <td>1.366390e+06</td>\n",
       "      <td>0.030133</td>\n",
       "      <td>11.130934</td>\n",
       "      <td>18.317446</td>\n",
       "      <td>9.451526e+05</td>\n",
       "      <td>0.1700</td>\n",
       "      <td>34.692600</td>\n",
       "      <td>0.117152</td>\n",
       "      <td>11873135.0</td>\n",
       "      <td>2.898332e+05</td>\n",
       "      <td>18314.453125</td>\n",
       "      <td>1151.087524</td>\n",
       "      <td>0.281733</td>\n",
       "    </tr>\n",
       "    <tr>\n",
       "      <th>std</th>\n",
       "      <td>8.453384e+05</td>\n",
       "      <td>0.271613</td>\n",
       "      <td>4.908937</td>\n",
       "      <td>7.041938</td>\n",
       "      <td>1.602614e+07</td>\n",
       "      <td>0.4986</td>\n",
       "      <td>21.688801</td>\n",
       "      <td>0.347197</td>\n",
       "      <td>31926302.0</td>\n",
       "      <td>3.178713e+05</td>\n",
       "      <td>11926.758789</td>\n",
       "      <td>1604.447510</td>\n",
       "      <td>0.449874</td>\n",
       "    </tr>\n",
       "    <tr>\n",
       "      <th>min</th>\n",
       "      <td>1.645970e+05</td>\n",
       "      <td>0.000000</td>\n",
       "      <td>2.000000</td>\n",
       "      <td>4.000000</td>\n",
       "      <td>0.000000e+00</td>\n",
       "      <td>0.0000</td>\n",
       "      <td>0.000000</td>\n",
       "      <td>0.000000</td>\n",
       "      <td>11242.0</td>\n",
       "      <td>0.000000e+00</td>\n",
       "      <td>0.000000</td>\n",
       "      <td>585.000000</td>\n",
       "      <td>0.000000</td>\n",
       "    </tr>\n",
       "    <tr>\n",
       "      <th>25%</th>\n",
       "      <td>8.443410e+05</td>\n",
       "      <td>0.000000</td>\n",
       "      <td>8.000000</td>\n",
       "      <td>13.500000</td>\n",
       "      <td>2.792295e+05</td>\n",
       "      <td>0.0000</td>\n",
       "      <td>16.000000</td>\n",
       "      <td>0.000000</td>\n",
       "      <td>180169.0</td>\n",
       "      <td>1.142565e+05</td>\n",
       "      <td>10067.500000</td>\n",
       "      <td>711.000000</td>\n",
       "      <td>0.000000</td>\n",
       "    </tr>\n",
       "    <tr>\n",
       "      <th>50%</th>\n",
       "      <td>1.168386e+06</td>\n",
       "      <td>0.000000</td>\n",
       "      <td>10.000000</td>\n",
       "      <td>17.000000</td>\n",
       "      <td>4.781590e+05</td>\n",
       "      <td>0.0000</td>\n",
       "      <td>32.000000</td>\n",
       "      <td>0.000000</td>\n",
       "      <td>309573.0</td>\n",
       "      <td>2.093230e+05</td>\n",
       "      <td>16076.500000</td>\n",
       "      <td>731.000000</td>\n",
       "      <td>0.000000</td>\n",
       "    </tr>\n",
       "    <tr>\n",
       "      <th>75%</th>\n",
       "      <td>1.640137e+06</td>\n",
       "      <td>0.000000</td>\n",
       "      <td>14.000000</td>\n",
       "      <td>21.799999</td>\n",
       "      <td>7.935015e+05</td>\n",
       "      <td>0.0000</td>\n",
       "      <td>50.000000</td>\n",
       "      <td>0.000000</td>\n",
       "      <td>519882.0</td>\n",
       "      <td>3.604062e+05</td>\n",
       "      <td>23818.000000</td>\n",
       "      <td>743.000000</td>\n",
       "      <td>1.000000</td>\n",
       "    </tr>\n",
       "    <tr>\n",
       "      <th>max</th>\n",
       "      <td>1.014934e+07</td>\n",
       "      <td>7.000000</td>\n",
       "      <td>43.000000</td>\n",
       "      <td>57.700001</td>\n",
       "      <td>1.304726e+09</td>\n",
       "      <td>7.0000</td>\n",
       "      <td>118.000000</td>\n",
       "      <td>4.000000</td>\n",
       "      <td>100000000.0</td>\n",
       "      <td>6.506797e+06</td>\n",
       "      <td>136679.000000</td>\n",
       "      <td>7510.000000</td>\n",
       "      <td>1.000000</td>\n",
       "    </tr>\n",
       "  </tbody>\n",
       "</table>\n",
       "</div>"
      ],
      "text/plain": [
       "       Annual Income    Tax Liens  Number of Open Accounts  \\\n",
       "count   5.943000e+03  7500.000000              7500.000000   \n",
       "mean    1.366390e+06     0.030133                11.130934   \n",
       "std     8.453384e+05     0.271613                 4.908937   \n",
       "min     1.645970e+05     0.000000                 2.000000   \n",
       "25%     8.443410e+05     0.000000                 8.000000   \n",
       "50%     1.168386e+06     0.000000                10.000000   \n",
       "75%     1.640137e+06     0.000000                14.000000   \n",
       "max     1.014934e+07     7.000000                43.000000   \n",
       "\n",
       "       Years of Credit History  Maximum Open Credit  \\\n",
       "count              7500.000000         7.500000e+03   \n",
       "mean                 18.317446         9.451526e+05   \n",
       "std                   7.041938         1.602614e+07   \n",
       "min                   4.000000         0.000000e+00   \n",
       "25%                  13.500000         2.792295e+05   \n",
       "50%                  17.000000         4.781590e+05   \n",
       "75%                  21.799999         7.935015e+05   \n",
       "max                  57.700001         1.304726e+09   \n",
       "\n",
       "       Number of Credit Problems  Months since last delinquent  Bankruptcies  \\\n",
       "count                  7500.0000                   3419.000000   7486.000000   \n",
       "mean                      0.1700                     34.692600      0.117152   \n",
       "std                       0.4986                     21.688801      0.347197   \n",
       "min                       0.0000                      0.000000      0.000000   \n",
       "25%                       0.0000                     16.000000      0.000000   \n",
       "50%                       0.0000                     32.000000      0.000000   \n",
       "75%                       0.0000                     50.000000      0.000000   \n",
       "max                       7.0000                    118.000000      4.000000   \n",
       "\n",
       "       Current Loan Amount  Current Credit Balance   Monthly Debt  \\\n",
       "count               7500.0            7.500000e+03    7500.000000   \n",
       "mean            11873135.0            2.898332e+05   18314.453125   \n",
       "std             31926302.0            3.178713e+05   11926.758789   \n",
       "min                11242.0            0.000000e+00       0.000000   \n",
       "25%               180169.0            1.142565e+05   10067.500000   \n",
       "50%               309573.0            2.093230e+05   16076.500000   \n",
       "75%               519882.0            3.604062e+05   23818.000000   \n",
       "max            100000000.0            6.506797e+06  136679.000000   \n",
       "\n",
       "       Credit Score  Credit Default  \n",
       "count   5943.000000     7500.000000  \n",
       "mean    1151.087524        0.281733  \n",
       "std     1604.447510        0.449874  \n",
       "min      585.000000        0.000000  \n",
       "25%      711.000000        0.000000  \n",
       "50%      731.000000        0.000000  \n",
       "75%      743.000000        1.000000  \n",
       "max     7510.000000        1.000000  "
      ]
     },
     "execution_count": 22,
     "metadata": {},
     "output_type": "execute_result"
    }
   ],
   "source": [
    "train_df.describe()"
   ]
  },
  {
   "cell_type": "code",
   "execution_count": 23,
   "id": "5544fce5",
   "metadata": {},
   "outputs": [],
   "source": [
    "train_df_categorical_features = train_df.select_dtypes(include=['category'])\n",
    "train_df_numerical_features = train_df.drop(train_df_categorical_features, axis=1)\n",
    "train_df_numerical_features.drop(['Credit Default'], axis=1, inplace=True)"
   ]
  },
  {
   "cell_type": "code",
   "execution_count": 24,
   "id": "4658c257",
   "metadata": {
    "scrolled": false
   },
   "outputs": [
    {
     "data": {
      "image/png": "[encoded data removed]",
      "text/plain": [
       "<Figure size 1152x1152 with 12 Axes>"
      ]
     },
     "metadata": {},
     "output_type": "display_data"
    }
   ],
   "source": [
    "train_df_numerical_features.hist(figsize=(16,16), bins=20, grid=True);"
   ]
  },
  {
   "cell_type": "markdown",
   "id": "3d6f13f4",
   "metadata": {},
   "source": [
    "* Credit Score - выбросы в интервале от [6000,7000];\n",
    "* Current Loan Amount - выбросы в области значения 1.0;\n",
    "* Maximum Open Credit - по факту не видно на гистограмме, однако есть множитель горизонтальной оси 1e9;"
   ]
  },
  {
   "cell_type": "code",
   "execution_count": 25,
   "id": "950df196",
   "metadata": {},
   "outputs": [
    {
     "data": {
      "text/html": [
       "<div>\n",
       "<style scoped>\n",
       "    .dataframe tbody tr th:only-of-type {\n",
       "        vertical-align: middle;\n",
       "    }\n",
       "\n",
       "    .dataframe tbody tr th {\n",
       "        vertical-align: top;\n",
       "    }\n",
       "\n",
       "    .dataframe thead th {\n",
       "        text-align: right;\n",
       "    }\n",
       "</style>\n",
       "<table border=\"1\" class=\"dataframe\">\n",
       "  <thead>\n",
       "    <tr style=\"text-align: right;\">\n",
       "      <th></th>\n",
       "      <th>Annual Income</th>\n",
       "      <th>Tax Liens</th>\n",
       "      <th>Number of Open Accounts</th>\n",
       "      <th>Years of Credit History</th>\n",
       "      <th>Maximum Open Credit</th>\n",
       "      <th>Number of Credit Problems</th>\n",
       "      <th>Months since last delinquent</th>\n",
       "      <th>Bankruptcies</th>\n",
       "      <th>Current Loan Amount</th>\n",
       "      <th>Current Credit Balance</th>\n",
       "      <th>Monthly Debt</th>\n",
       "      <th>Credit Score</th>\n",
       "    </tr>\n",
       "  </thead>\n",
       "  <tbody>\n",
       "    <tr>\n",
       "      <th>0</th>\n",
       "      <td>482087.0</td>\n",
       "      <td>0.0</td>\n",
       "      <td>11.0</td>\n",
       "      <td>26.299999</td>\n",
       "      <td>685960.0</td>\n",
       "      <td>1.0</td>\n",
       "      <td>NaN</td>\n",
       "      <td>1.0</td>\n",
       "      <td>100000000.0</td>\n",
       "      <td>47386.0</td>\n",
       "      <td>7914.0</td>\n",
       "      <td>749.0</td>\n",
       "    </tr>\n",
       "    <tr>\n",
       "      <th>1</th>\n",
       "      <td>1025487.0</td>\n",
       "      <td>0.0</td>\n",
       "      <td>15.0</td>\n",
       "      <td>15.300000</td>\n",
       "      <td>1181730.0</td>\n",
       "      <td>0.0</td>\n",
       "      <td>NaN</td>\n",
       "      <td>0.0</td>\n",
       "      <td>264968.0</td>\n",
       "      <td>394972.0</td>\n",
       "      <td>18373.0</td>\n",
       "      <td>737.0</td>\n",
       "    </tr>\n",
       "    <tr>\n",
       "      <th>2</th>\n",
       "      <td>751412.0</td>\n",
       "      <td>0.0</td>\n",
       "      <td>11.0</td>\n",
       "      <td>35.000000</td>\n",
       "      <td>1182434.0</td>\n",
       "      <td>0.0</td>\n",
       "      <td>NaN</td>\n",
       "      <td>0.0</td>\n",
       "      <td>100000000.0</td>\n",
       "      <td>308389.0</td>\n",
       "      <td>13651.0</td>\n",
       "      <td>742.0</td>\n",
       "    </tr>\n",
       "    <tr>\n",
       "      <th>3</th>\n",
       "      <td>805068.0</td>\n",
       "      <td>0.0</td>\n",
       "      <td>8.0</td>\n",
       "      <td>22.500000</td>\n",
       "      <td>147400.0</td>\n",
       "      <td>1.0</td>\n",
       "      <td>NaN</td>\n",
       "      <td>1.0</td>\n",
       "      <td>121396.0</td>\n",
       "      <td>95855.0</td>\n",
       "      <td>11338.0</td>\n",
       "      <td>694.0</td>\n",
       "    </tr>\n",
       "    <tr>\n",
       "      <th>4</th>\n",
       "      <td>776264.0</td>\n",
       "      <td>0.0</td>\n",
       "      <td>13.0</td>\n",
       "      <td>13.600000</td>\n",
       "      <td>385836.0</td>\n",
       "      <td>1.0</td>\n",
       "      <td>NaN</td>\n",
       "      <td>0.0</td>\n",
       "      <td>125840.0</td>\n",
       "      <td>93309.0</td>\n",
       "      <td>7180.0</td>\n",
       "      <td>719.0</td>\n",
       "    </tr>\n",
       "    <tr>\n",
       "      <th>...</th>\n",
       "      <td>...</td>\n",
       "      <td>...</td>\n",
       "      <td>...</td>\n",
       "      <td>...</td>\n",
       "      <td>...</td>\n",
       "      <td>...</td>\n",
       "      <td>...</td>\n",
       "      <td>...</td>\n",
       "      <td>...</td>\n",
       "      <td>...</td>\n",
       "      <td>...</td>\n",
       "      <td>...</td>\n",
       "    </tr>\n",
       "    <tr>\n",
       "      <th>7495</th>\n",
       "      <td>402192.0</td>\n",
       "      <td>0.0</td>\n",
       "      <td>3.0</td>\n",
       "      <td>8.500000</td>\n",
       "      <td>107866.0</td>\n",
       "      <td>0.0</td>\n",
       "      <td>NaN</td>\n",
       "      <td>0.0</td>\n",
       "      <td>129360.0</td>\n",
       "      <td>73492.0</td>\n",
       "      <td>1900.0</td>\n",
       "      <td>697.0</td>\n",
       "    </tr>\n",
       "    <tr>\n",
       "      <th>7496</th>\n",
       "      <td>1533984.0</td>\n",
       "      <td>0.0</td>\n",
       "      <td>10.0</td>\n",
       "      <td>26.500000</td>\n",
       "      <td>686312.0</td>\n",
       "      <td>0.0</td>\n",
       "      <td>43.0</td>\n",
       "      <td>0.0</td>\n",
       "      <td>444048.0</td>\n",
       "      <td>456399.0</td>\n",
       "      <td>12783.0</td>\n",
       "      <td>7410.0</td>\n",
       "    </tr>\n",
       "    <tr>\n",
       "      <th>7497</th>\n",
       "      <td>1878910.0</td>\n",
       "      <td>0.0</td>\n",
       "      <td>12.0</td>\n",
       "      <td>32.099998</td>\n",
       "      <td>1778920.0</td>\n",
       "      <td>0.0</td>\n",
       "      <td>NaN</td>\n",
       "      <td>0.0</td>\n",
       "      <td>100000000.0</td>\n",
       "      <td>477812.0</td>\n",
       "      <td>12479.0</td>\n",
       "      <td>748.0</td>\n",
       "    </tr>\n",
       "    <tr>\n",
       "      <th>7498</th>\n",
       "      <td>NaN</td>\n",
       "      <td>0.0</td>\n",
       "      <td>21.0</td>\n",
       "      <td>26.500000</td>\n",
       "      <td>1141250.0</td>\n",
       "      <td>0.0</td>\n",
       "      <td>NaN</td>\n",
       "      <td>0.0</td>\n",
       "      <td>615274.0</td>\n",
       "      <td>476064.0</td>\n",
       "      <td>37118.0</td>\n",
       "      <td>NaN</td>\n",
       "    </tr>\n",
       "    <tr>\n",
       "      <th>7499</th>\n",
       "      <td>NaN</td>\n",
       "      <td>0.0</td>\n",
       "      <td>8.0</td>\n",
       "      <td>9.400000</td>\n",
       "      <td>480832.0</td>\n",
       "      <td>0.0</td>\n",
       "      <td>NaN</td>\n",
       "      <td>0.0</td>\n",
       "      <td>26928.0</td>\n",
       "      <td>288192.0</td>\n",
       "      <td>9061.0</td>\n",
       "      <td>NaN</td>\n",
       "    </tr>\n",
       "  </tbody>\n",
       "</table>\n",
       "<p>7500 rows × 12 columns</p>\n",
       "</div>"
      ],
      "text/plain": [
       "      Annual Income  Tax Liens  Number of Open Accounts  \\\n",
       "0          482087.0        0.0                     11.0   \n",
       "1         1025487.0        0.0                     15.0   \n",
       "2          751412.0        0.0                     11.0   \n",
       "3          805068.0        0.0                      8.0   \n",
       "4          776264.0        0.0                     13.0   \n",
       "...             ...        ...                      ...   \n",
       "7495       402192.0        0.0                      3.0   \n",
       "7496      1533984.0        0.0                     10.0   \n",
       "7497      1878910.0        0.0                     12.0   \n",
       "7498            NaN        0.0                     21.0   \n",
       "7499            NaN        0.0                      8.0   \n",
       "\n",
       "      Years of Credit History  Maximum Open Credit  Number of Credit Problems  \\\n",
       "0                   26.299999             685960.0                        1.0   \n",
       "1                   15.300000            1181730.0                        0.0   \n",
       "2                   35.000000            1182434.0                        0.0   \n",
       "3                   22.500000             147400.0                        1.0   \n",
       "4                   13.600000             385836.0                        1.0   \n",
       "...                       ...                  ...                        ...   \n",
       "7495                 8.500000             107866.0                        0.0   \n",
       "7496                26.500000             686312.0                        0.0   \n",
       "7497                32.099998            1778920.0                        0.0   \n",
       "7498                26.500000            1141250.0                        0.0   \n",
       "7499                 9.400000             480832.0                        0.0   \n",
       "\n",
       "      Months since last delinquent  Bankruptcies  Current Loan Amount  \\\n",
       "0                              NaN           1.0          100000000.0   \n",
       "1                              NaN           0.0             264968.0   \n",
       "2                              NaN           0.0          100000000.0   \n",
       "3                              NaN           1.0             121396.0   \n",
       "4                              NaN           0.0             125840.0   \n",
       "...                            ...           ...                  ...   \n",
       "7495                           NaN           0.0             129360.0   \n",
       "7496                          43.0           0.0             444048.0   \n",
       "7497                           NaN           0.0          100000000.0   \n",
       "7498                           NaN           0.0             615274.0   \n",
       "7499                           NaN           0.0              26928.0   \n",
       "\n",
       "      Current Credit Balance  Monthly Debt  Credit Score  \n",
       "0                    47386.0        7914.0         749.0  \n",
       "1                   394972.0       18373.0         737.0  \n",
       "2                   308389.0       13651.0         742.0  \n",
       "3                    95855.0       11338.0         694.0  \n",
       "4                    93309.0        7180.0         719.0  \n",
       "...                      ...           ...           ...  \n",
       "7495                 73492.0        1900.0         697.0  \n",
       "7496                456399.0       12783.0        7410.0  \n",
       "7497                477812.0       12479.0         748.0  \n",
       "7498                476064.0       37118.0           NaN  \n",
       "7499                288192.0        9061.0           NaN  \n",
       "\n",
       "[7500 rows x 12 columns]"
      ]
     },
     "execution_count": 25,
     "metadata": {},
     "output_type": "execute_result"
    }
   ],
   "source": [
    "train_df_numerical_features"
   ]
  },
  {
   "cell_type": "code",
   "execution_count": 26,
   "id": "5cc5a58a",
   "metadata": {},
   "outputs": [
    {
     "data": {
      "text/html": [
       "<div>\n",
       "<style scoped>\n",
       "    .dataframe tbody tr th:only-of-type {\n",
       "        vertical-align: middle;\n",
       "    }\n",
       "\n",
       "    .dataframe tbody tr th {\n",
       "        vertical-align: top;\n",
       "    }\n",
       "\n",
       "    .dataframe thead th {\n",
       "        text-align: right;\n",
       "    }\n",
       "</style>\n",
       "<table border=\"1\" class=\"dataframe\">\n",
       "  <thead>\n",
       "    <tr style=\"text-align: right;\">\n",
       "      <th></th>\n",
       "      <th>Annual Income</th>\n",
       "      <th>Tax Liens</th>\n",
       "      <th>Number of Open Accounts</th>\n",
       "      <th>Years of Credit History</th>\n",
       "      <th>Maximum Open Credit</th>\n",
       "      <th>Number of Credit Problems</th>\n",
       "      <th>Months since last delinquent</th>\n",
       "      <th>Bankruptcies</th>\n",
       "      <th>Current Loan Amount</th>\n",
       "      <th>Current Credit Balance</th>\n",
       "      <th>Monthly Debt</th>\n",
       "      <th>Credit Score</th>\n",
       "    </tr>\n",
       "  </thead>\n",
       "  <tbody>\n",
       "    <tr>\n",
       "      <th>count</th>\n",
       "      <td>5.943000e+03</td>\n",
       "      <td>7500.000000</td>\n",
       "      <td>7500.000000</td>\n",
       "      <td>7500.000000</td>\n",
       "      <td>7.500000e+03</td>\n",
       "      <td>7500.0000</td>\n",
       "      <td>3419.000000</td>\n",
       "      <td>7486.000000</td>\n",
       "      <td>7500.0</td>\n",
       "      <td>7.500000e+03</td>\n",
       "      <td>7500.000000</td>\n",
       "      <td>5943.000000</td>\n",
       "    </tr>\n",
       "    <tr>\n",
       "      <th>mean</th>\n",
       "      <td>1.366390e+06</td>\n",
       "      <td>0.030133</td>\n",
       "      <td>11.130934</td>\n",
       "      <td>18.317446</td>\n",
       "      <td>9.451526e+05</td>\n",
       "      <td>0.1700</td>\n",
       "      <td>34.692600</td>\n",
       "      <td>0.117152</td>\n",
       "      <td>11873135.0</td>\n",
       "      <td>2.898332e+05</td>\n",
       "      <td>18314.453125</td>\n",
       "      <td>1151.087524</td>\n",
       "    </tr>\n",
       "    <tr>\n",
       "      <th>std</th>\n",
       "      <td>8.453384e+05</td>\n",
       "      <td>0.271613</td>\n",
       "      <td>4.908937</td>\n",
       "      <td>7.041938</td>\n",
       "      <td>1.602614e+07</td>\n",
       "      <td>0.4986</td>\n",
       "      <td>21.688801</td>\n",
       "      <td>0.347197</td>\n",
       "      <td>31926302.0</td>\n",
       "      <td>3.178713e+05</td>\n",
       "      <td>11926.758789</td>\n",
       "      <td>1604.447510</td>\n",
       "    </tr>\n",
       "    <tr>\n",
       "      <th>min</th>\n",
       "      <td>1.645970e+05</td>\n",
       "      <td>0.000000</td>\n",
       "      <td>2.000000</td>\n",
       "      <td>4.000000</td>\n",
       "      <td>0.000000e+00</td>\n",
       "      <td>0.0000</td>\n",
       "      <td>0.000000</td>\n",
       "      <td>0.000000</td>\n",
       "      <td>11242.0</td>\n",
       "      <td>0.000000e+00</td>\n",
       "      <td>0.000000</td>\n",
       "      <td>585.000000</td>\n",
       "    </tr>\n",
       "    <tr>\n",
       "      <th>25%</th>\n",
       "      <td>8.443410e+05</td>\n",
       "      <td>0.000000</td>\n",
       "      <td>8.000000</td>\n",
       "      <td>13.500000</td>\n",
       "      <td>2.792295e+05</td>\n",
       "      <td>0.0000</td>\n",
       "      <td>16.000000</td>\n",
       "      <td>0.000000</td>\n",
       "      <td>180169.0</td>\n",
       "      <td>1.142565e+05</td>\n",
       "      <td>10067.500000</td>\n",
       "      <td>711.000000</td>\n",
       "    </tr>\n",
       "    <tr>\n",
       "      <th>50%</th>\n",
       "      <td>1.168386e+06</td>\n",
       "      <td>0.000000</td>\n",
       "      <td>10.000000</td>\n",
       "      <td>17.000000</td>\n",
       "      <td>4.781590e+05</td>\n",
       "      <td>0.0000</td>\n",
       "      <td>32.000000</td>\n",
       "      <td>0.000000</td>\n",
       "      <td>309573.0</td>\n",
       "      <td>2.093230e+05</td>\n",
       "      <td>16076.500000</td>\n",
       "      <td>731.000000</td>\n",
       "    </tr>\n",
       "    <tr>\n",
       "      <th>75%</th>\n",
       "      <td>1.640137e+06</td>\n",
       "      <td>0.000000</td>\n",
       "      <td>14.000000</td>\n",
       "      <td>21.799999</td>\n",
       "      <td>7.935015e+05</td>\n",
       "      <td>0.0000</td>\n",
       "      <td>50.000000</td>\n",
       "      <td>0.000000</td>\n",
       "      <td>519882.0</td>\n",
       "      <td>3.604062e+05</td>\n",
       "      <td>23818.000000</td>\n",
       "      <td>743.000000</td>\n",
       "    </tr>\n",
       "    <tr>\n",
       "      <th>max</th>\n",
       "      <td>1.014934e+07</td>\n",
       "      <td>7.000000</td>\n",
       "      <td>43.000000</td>\n",
       "      <td>57.700001</td>\n",
       "      <td>1.304726e+09</td>\n",
       "      <td>7.0000</td>\n",
       "      <td>118.000000</td>\n",
       "      <td>4.000000</td>\n",
       "      <td>100000000.0</td>\n",
       "      <td>6.506797e+06</td>\n",
       "      <td>136679.000000</td>\n",
       "      <td>7510.000000</td>\n",
       "    </tr>\n",
       "  </tbody>\n",
       "</table>\n",
       "</div>"
      ],
      "text/plain": [
       "       Annual Income    Tax Liens  Number of Open Accounts  \\\n",
       "count   5.943000e+03  7500.000000              7500.000000   \n",
       "mean    1.366390e+06     0.030133                11.130934   \n",
       "std     8.453384e+05     0.271613                 4.908937   \n",
       "min     1.645970e+05     0.000000                 2.000000   \n",
       "25%     8.443410e+05     0.000000                 8.000000   \n",
       "50%     1.168386e+06     0.000000                10.000000   \n",
       "75%     1.640137e+06     0.000000                14.000000   \n",
       "max     1.014934e+07     7.000000                43.000000   \n",
       "\n",
       "       Years of Credit History  Maximum Open Credit  \\\n",
       "count              7500.000000         7.500000e+03   \n",
       "mean                 18.317446         9.451526e+05   \n",
       "std                   7.041938         1.602614e+07   \n",
       "min                   4.000000         0.000000e+00   \n",
       "25%                  13.500000         2.792295e+05   \n",
       "50%                  17.000000         4.781590e+05   \n",
       "75%                  21.799999         7.935015e+05   \n",
       "max                  57.700001         1.304726e+09   \n",
       "\n",
       "       Number of Credit Problems  Months since last delinquent  Bankruptcies  \\\n",
       "count                  7500.0000                   3419.000000   7486.000000   \n",
       "mean                      0.1700                     34.692600      0.117152   \n",
       "std                       0.4986                     21.688801      0.347197   \n",
       "min                       0.0000                      0.000000      0.000000   \n",
       "25%                       0.0000                     16.000000      0.000000   \n",
       "50%                       0.0000                     32.000000      0.000000   \n",
       "75%                       0.0000                     50.000000      0.000000   \n",
       "max                       7.0000                    118.000000      4.000000   \n",
       "\n",
       "       Current Loan Amount  Current Credit Balance   Monthly Debt  \\\n",
       "count               7500.0            7.500000e+03    7500.000000   \n",
       "mean            11873135.0            2.898332e+05   18314.453125   \n",
       "std             31926302.0            3.178713e+05   11926.758789   \n",
       "min                11242.0            0.000000e+00       0.000000   \n",
       "25%               180169.0            1.142565e+05   10067.500000   \n",
       "50%               309573.0            2.093230e+05   16076.500000   \n",
       "75%               519882.0            3.604062e+05   23818.000000   \n",
       "max            100000000.0            6.506797e+06  136679.000000   \n",
       "\n",
       "       Credit Score  \n",
       "count   5943.000000  \n",
       "mean    1151.087524  \n",
       "std     1604.447510  \n",
       "min      585.000000  \n",
       "25%      711.000000  \n",
       "50%      731.000000  \n",
       "75%      743.000000  \n",
       "max     7510.000000  "
      ]
     },
     "execution_count": 26,
     "metadata": {},
     "output_type": "execute_result"
    }
   ],
   "source": [
    "train_df_numerical_features.describe()"
   ]
  },
  {
   "cell_type": "code",
   "execution_count": 27,
   "id": "0de4ef16",
   "metadata": {},
   "outputs": [
    {
     "name": "stdout",
     "output_type": "stream",
     "text": [
      "<class 'pandas.core.frame.DataFrame'>\n",
      "RangeIndex: 7500 entries, 0 to 7499\n",
      "Data columns (total 12 columns):\n",
      " #   Column                        Non-Null Count  Dtype  \n",
      "---  ------                        --------------  -----  \n",
      " 0   Annual Income                 5943 non-null   float32\n",
      " 1   Tax Liens                     7500 non-null   float32\n",
      " 2   Number of Open Accounts       7500 non-null   float32\n",
      " 3   Years of Credit History       7500 non-null   float32\n",
      " 4   Maximum Open Credit           7500 non-null   float32\n",
      " 5   Number of Credit Problems     7500 non-null   float32\n",
      " 6   Months since last delinquent  3419 non-null   float32\n",
      " 7   Bankruptcies                  7486 non-null   float32\n",
      " 8   Current Loan Amount           7500 non-null   float32\n",
      " 9   Current Credit Balance        7500 non-null   float32\n",
      " 10  Monthly Debt                  7500 non-null   float32\n",
      " 11  Credit Score                  5943 non-null   float32\n",
      "dtypes: float32(12)\n",
      "memory usage: 351.7 KB\n"
     ]
    }
   ],
   "source": [
    "train_df_numerical_features.info()"
   ]
  },
  {
   "cell_type": "markdown",
   "id": "3584d29a",
   "metadata": {},
   "source": [
    "#### Annual Income (Годовой доход)"
   ]
  },
  {
   "cell_type": "code",
   "execution_count": 28,
   "id": "2241633f",
   "metadata": {
    "scrolled": true
   },
   "outputs": [
    {
     "data": {
      "text/plain": [
       "False    5943\n",
       "True     1557\n",
       "Name: Annual Income, dtype: int64"
      ]
     },
     "execution_count": 28,
     "metadata": {},
     "output_type": "execute_result"
    }
   ],
   "source": [
    "train_df['Annual Income'].isnull().value_counts()"
   ]
  },
  {
   "cell_type": "code",
   "execution_count": 29,
   "id": "79278a3a",
   "metadata": {},
   "outputs": [
    {
     "data": {
      "image/png": "[encoded data removed]",
      "text/plain": [
       "<Figure size 864x576 with 1 Axes>"
      ]
     },
     "metadata": {},
     "output_type": "display_data"
    }
   ],
   "source": [
    "plt.figure(figsize = (12, 8))\n",
    "\n",
    "train_df['Annual Income'].hist(bins=20)\n",
    "plt.ylabel('Количество')\n",
    "plt.xlabel('Годовой доход')\n",
    "\n",
    "plt.title('Распределение годового дохода')\n",
    "plt.show()"
   ]
  },
  {
   "cell_type": "markdown",
   "id": "e3986e5c",
   "metadata": {},
   "source": [
    "* 1557 пропусков;\n",
    "* Максимальное и минимальное значение вполне адекватное;\n",
    "* Довольно длинный хвост.\n",
    "\n",
    "То что есть хвост, считаю, что ничего страшного. Но пропуски нужно будет заменить, возможно средним или модой по какому-нибудь признаку и тд."
   ]
  },
  {
   "cell_type": "markdown",
   "id": "3f355b67",
   "metadata": {},
   "source": [
    "#### Tax Liens (Налоговые обременения)"
   ]
  },
  {
   "cell_type": "code",
   "execution_count": 30,
   "id": "26b2d4fa",
   "metadata": {},
   "outputs": [
    {
     "data": {
      "text/plain": [
       "0.0    7366\n",
       "1.0      83\n",
       "2.0      30\n",
       "3.0      10\n",
       "4.0       6\n",
       "6.0       2\n",
       "5.0       2\n",
       "7.0       1\n",
       "Name: Tax Liens, dtype: int64"
      ]
     },
     "execution_count": 30,
     "metadata": {},
     "output_type": "execute_result"
    }
   ],
   "source": [
    "train_df['Tax Liens'].value_counts()"
   ]
  },
  {
   "cell_type": "markdown",
   "id": "603bc4d0",
   "metadata": {},
   "source": [
    "* Нет пропусков\n",
    "* Возможно, что 0 означает, что клиент не обременен какими-то налогами?\n",
    "* Возможно, что число это тип налоговой нагрузки, начиная с 0."
   ]
  },
  {
   "cell_type": "markdown",
   "id": "ea15eea5",
   "metadata": {},
   "source": [
    "#### Number of Open Accounts (Количество открытых счетов)"
   ]
  },
  {
   "cell_type": "code",
   "execution_count": 31,
   "id": "fac67c59",
   "metadata": {
    "scrolled": true
   },
   "outputs": [
    {
     "data": {
      "text/plain": [
       "2.0     28\n",
       "3.0     95\n",
       "4.0    212\n",
       "5.0    325\n",
       "6.0    504\n",
       "Name: Number of Open Accounts, dtype: int64"
      ]
     },
     "execution_count": 31,
     "metadata": {},
     "output_type": "execute_result"
    }
   ],
   "source": [
    "train_df['Number of Open Accounts'].value_counts().sort_index().head(5)"
   ]
  },
  {
   "cell_type": "code",
   "execution_count": 32,
   "id": "d984523c",
   "metadata": {
    "scrolled": true
   },
   "outputs": [
    {
     "data": {
      "text/plain": [
       "37.0    2\n",
       "38.0    1\n",
       "41.0    1\n",
       "42.0    1\n",
       "43.0    1\n",
       "Name: Number of Open Accounts, dtype: int64"
      ]
     },
     "execution_count": 32,
     "metadata": {},
     "output_type": "execute_result"
    }
   ],
   "source": [
    "train_df['Number of Open Accounts'].value_counts().sort_index().tail(5)"
   ]
  },
  {
   "cell_type": "code",
   "execution_count": 33,
   "id": "99f2d699",
   "metadata": {},
   "outputs": [
    {
     "data": {
      "image/png": "[encoded data removed]",
      "text/plain": [
       "<Figure size 720x288 with 1 Axes>"
      ]
     },
     "metadata": {},
     "output_type": "display_data"
    }
   ],
   "source": [
    "plt.figure(figsize = (10, 4))\n",
    "\n",
    "train_df['Number of Open Accounts'].hist(bins=20)\n",
    "plt.ylabel('Количество')\n",
    "plt.xlabel('Количество открытых счетов')\n",
    "\n",
    "plt.title('Распределение количества открытых счетов')\n",
    "plt.show()"
   ]
  },
  {
   "cell_type": "markdown",
   "id": "5baa9e4d",
   "metadata": {},
   "source": [
    "* Нет пропусков;\n",
    "* Видим, что у всех есть очень много счетов;\n",
    "* Макс. значение 43, минимальное значение 2. По сути значения > 30 можно считать выбросом. "
   ]
  },
  {
   "cell_type": "markdown",
   "id": "2566e9cc",
   "metadata": {},
   "source": [
    "#### Years of Credit History (Количество лет кредитной истории)"
   ]
  },
  {
   "cell_type": "code",
   "execution_count": 34,
   "id": "f022bfbb",
   "metadata": {
    "scrolled": true
   },
   "outputs": [
    {
     "data": {
      "text/plain": [
       "4.000000     1\n",
       "4.300000     1\n",
       "4.500000     2\n",
       "4.700000     2\n",
       "4.800000     4\n",
       "            ..\n",
       "51.299999    1\n",
       "51.500000    1\n",
       "51.900002    1\n",
       "52.200001    1\n",
       "57.700001    1\n",
       "Name: Years of Credit History, Length: 408, dtype: int64"
      ]
     },
     "execution_count": 34,
     "metadata": {},
     "output_type": "execute_result"
    }
   ],
   "source": [
    "train_df['Years of Credit History'].value_counts().sort_index()"
   ]
  },
  {
   "cell_type": "code",
   "execution_count": 35,
   "id": "358d3082",
   "metadata": {},
   "outputs": [
    {
     "data": {
      "image/png": "[encoded data removed]",
      "text/plain": [
       "<Figure size 720x288 with 1 Axes>"
      ]
     },
     "metadata": {},
     "output_type": "display_data"
    }
   ],
   "source": [
    "plt.figure(figsize = (10, 4))\n",
    "\n",
    "train_df['Years of Credit History'].hist(bins=20)\n",
    "plt.ylabel('Количество')\n",
    "plt.xlabel('Годы')\n",
    "\n",
    "plt.title('Распределение кредитной истории')\n",
    "plt.show()"
   ]
  },
  {
   "cell_type": "markdown",
   "id": "fb39f16e",
   "metadata": {},
   "source": [
    "* Нет пропусков;\n",
    "* Странных значений тоже нет."
   ]
  },
  {
   "cell_type": "markdown",
   "id": "78be7996",
   "metadata": {},
   "source": [
    "#### Maximum Open Credit (максимальная кредитная сумма, которая когда-либо была доступна клиенту)"
   ]
  },
  {
   "cell_type": "code",
   "execution_count": 36,
   "id": "6bbddc6c",
   "metadata": {},
   "outputs": [
    {
     "data": {
      "text/plain": [
       "0.000000e+00    65\n",
       "4.334000e+03     1\n",
       "6.556000e+03     1\n",
       "6.622000e+03     1\n",
       "1.089000e+04     1\n",
       "                ..\n",
       "4.092390e+07     1\n",
       "5.756256e+07     1\n",
       "2.655129e+08     1\n",
       "3.800523e+08     1\n",
       "1.304726e+09     1\n",
       "Name: Maximum Open Credit, Length: 6963, dtype: int64"
      ]
     },
     "execution_count": 36,
     "metadata": {},
     "output_type": "execute_result"
    }
   ],
   "source": [
    "train_df['Maximum Open Credit'].value_counts().sort_index()"
   ]
  },
  {
   "cell_type": "code",
   "execution_count": 37,
   "id": "854b92ba",
   "metadata": {},
   "outputs": [
    {
     "data": {
      "image/png": "[encoded data removed]",
      "text/plain": [
       "<Figure size 720x288 with 1 Axes>"
      ]
     },
     "metadata": {},
     "output_type": "display_data"
    }
   ],
   "source": [
    "plt.figure(figsize = (10, 4))\n",
    "\n",
    "mask = train_df['Maximum Open Credit'] < 2500000\n",
    "train_df.loc[mask, 'Maximum Open Credit'].hist(bins=20)\n",
    "plt.ylabel('Количество')\n",
    "plt.xlabel('Максимальный кредит')\n",
    "\n",
    "plt.title('Распределение по максимальному кредиту')\n",
    "plt.show()"
   ]
  },
  {
   "cell_type": "code",
   "execution_count": 38,
   "id": "9d30172c",
   "metadata": {},
   "outputs": [
    {
     "data": {
      "text/plain": [
       "19"
      ]
     },
     "execution_count": 38,
     "metadata": {},
     "output_type": "execute_result"
    }
   ],
   "source": [
    "mask = train_df['Maximum Open Credit'] > 10000000\n",
    "len(train_df.loc[mask])"
   ]
  },
  {
   "cell_type": "markdown",
   "id": "3ad42a51",
   "metadata": {},
   "source": [
    "* Нет пропусков\n",
    "* Есть длинный хвост. Скорее всего это выбросы. По идее значения выше несколько миллионов можно считать выбросом, но надо смотреть другие признаки"
   ]
  },
  {
   "cell_type": "markdown",
   "id": "3ee77dc4",
   "metadata": {},
   "source": [
    "#### Number of Credit Problems (Количество проблем с кредитом)"
   ]
  },
  {
   "cell_type": "code",
   "execution_count": 39,
   "id": "387bce53",
   "metadata": {},
   "outputs": [
    {
     "data": {
      "text/plain": [
       "0.0    6469\n",
       "1.0     882\n",
       "2.0      93\n",
       "3.0      35\n",
       "4.0       9\n",
       "5.0       7\n",
       "6.0       4\n",
       "7.0       1\n",
       "Name: Number of Credit Problems, dtype: int64"
      ]
     },
     "execution_count": 39,
     "metadata": {},
     "output_type": "execute_result"
    }
   ],
   "source": [
    "train_df['Number of Credit Problems'].value_counts().sort_index()"
   ]
  },
  {
   "cell_type": "markdown",
   "id": "9523e847",
   "metadata": {},
   "source": [
    "* Пропусков нет\n",
    "* Возможно, что 0 означает, что клиент не имеет проблем?\n",
    "* Возможно, что число это тип проблемы, начиная с 0. И признак на самом деле категориальный..."
   ]
  },
  {
   "cell_type": "markdown",
   "id": "f2466157",
   "metadata": {},
   "source": [
    "#### Months since last delinquent (Количество месяцев с последней просрочки платежа)"
   ]
  },
  {
   "cell_type": "code",
   "execution_count": 40,
   "id": "ce4a6771",
   "metadata": {},
   "outputs": [
    {
     "data": {
      "text/plain": [
       "True     4081\n",
       "False    3419\n",
       "Name: Months since last delinquent, dtype: int64"
      ]
     },
     "execution_count": 40,
     "metadata": {},
     "output_type": "execute_result"
    }
   ],
   "source": [
    "train_df['Months since last delinquent'].isnull().value_counts()"
   ]
  },
  {
   "cell_type": "code",
   "execution_count": 41,
   "id": "33c0fb6c",
   "metadata": {},
   "outputs": [
    {
     "data": {
      "text/plain": [
       "0.0      18\n",
       "1.0      26\n",
       "2.0      25\n",
       "3.0      30\n",
       "4.0      31\n",
       "         ..\n",
       "84.0      1\n",
       "86.0      1\n",
       "91.0      1\n",
       "92.0      1\n",
       "118.0     1\n",
       "Name: Months since last delinquent, Length: 89, dtype: int64"
      ]
     },
     "execution_count": 41,
     "metadata": {},
     "output_type": "execute_result"
    }
   ],
   "source": [
    "train_df['Months since last delinquent'].value_counts().sort_index()"
   ]
  },
  {
   "cell_type": "markdown",
   "id": "d0db7627",
   "metadata": {},
   "source": [
    "* 4081 пропуск\n",
    "* Можно предположить что пропуски означают что у клиента не было просроченных платежей, однако есть "
   ]
  },
  {
   "cell_type": "markdown",
   "id": "3770e9c7",
   "metadata": {},
   "source": [
    "#### Bankruptcies (Банкротства)"
   ]
  },
  {
   "cell_type": "code",
   "execution_count": 42,
   "id": "7fd77dfc",
   "metadata": {},
   "outputs": [
    {
     "data": {
      "text/plain": [
       "False    7486\n",
       "True       14\n",
       "Name: Bankruptcies, dtype: int64"
      ]
     },
     "execution_count": 42,
     "metadata": {},
     "output_type": "execute_result"
    }
   ],
   "source": [
    "train_df['Bankruptcies'].isnull().value_counts()"
   ]
  },
  {
   "cell_type": "code",
   "execution_count": 43,
   "id": "cfd882f8",
   "metadata": {},
   "outputs": [
    {
     "data": {
      "text/plain": [
       "0.0    6660\n",
       "1.0     786\n",
       "2.0      31\n",
       "3.0       7\n",
       "4.0       2\n",
       "Name: Bankruptcies, dtype: int64"
      ]
     },
     "execution_count": 43,
     "metadata": {},
     "output_type": "execute_result"
    }
   ],
   "source": [
    "train_df['Bankruptcies'].value_counts().sort_index()"
   ]
  },
  {
   "cell_type": "markdown",
   "id": "b89a33dd",
   "metadata": {},
   "source": [
    "* 14 пропусков\n",
    "* Все значения в принципе логичные, ничего странного нет, потому что действительно у большинства людей нет никаких банкротств"
   ]
  },
  {
   "cell_type": "markdown",
   "id": "92b4a15a",
   "metadata": {},
   "source": [
    "#### Current Loan Amount (Сумма, которую еще предстоит выплатить клиенту)"
   ]
  },
  {
   "cell_type": "code",
   "execution_count": 44,
   "id": "aa0f39b6",
   "metadata": {},
   "outputs": [
    {
     "data": {
      "text/plain": [
       "count         7500.0\n",
       "mean      11873135.0\n",
       "std       31926302.0\n",
       "min          11242.0\n",
       "25%         180169.0\n",
       "50%         309573.0\n",
       "75%         519882.0\n",
       "max      100000000.0\n",
       "Name: Current Loan Amount, dtype: float64"
      ]
     },
     "execution_count": 44,
     "metadata": {},
     "output_type": "execute_result"
    }
   ],
   "source": [
    "train_df['Current Loan Amount'].describe()"
   ]
  },
  {
   "cell_type": "code",
   "execution_count": 45,
   "id": "07ae082f",
   "metadata": {
    "scrolled": true
   },
   "outputs": [
    {
     "data": {
      "text/plain": [
       "100000000.0    870\n",
       "89298.0          6\n",
       "218064.0         6\n",
       "216106.0         5\n",
       "265826.0         5\n",
       "              ... \n",
       "222860.0         1\n",
       "104324.0         1\n",
       "201080.0         1\n",
       "427812.0         1\n",
       "191136.0         1\n",
       "Name: Current Loan Amount, Length: 5386, dtype: int64"
      ]
     },
     "execution_count": 45,
     "metadata": {},
     "output_type": "execute_result"
    }
   ],
   "source": [
    "train_df['Current Loan Amount'].value_counts()"
   ]
  },
  {
   "cell_type": "code",
   "execution_count": 46,
   "id": "ee23161a",
   "metadata": {
    "scrolled": true
   },
   "outputs": [
    {
     "data": {
      "image/png": "[encoded data removed]",
      "text/plain": [
       "<Figure size 720x288 with 1 Axes>"
      ]
     },
     "metadata": {},
     "output_type": "display_data"
    }
   ],
   "source": [
    "plt.figure(figsize = (10, 4))\n",
    "\n",
    "mask = train_df['Current Loan Amount'] < 100000000\n",
    "train_df.loc[mask, 'Current Loan Amount'].hist(bins=20)\n",
    "plt.ylabel('Количество')\n",
    "plt.xlabel('Долг по кредиту')\n",
    "\n",
    "plt.title('Распределение по невыплаченной сумме кредита')\n",
    "plt.show()"
   ]
  },
  {
   "cell_type": "code",
   "execution_count": 47,
   "id": "120f087f",
   "metadata": {
    "scrolled": true
   },
   "outputs": [
    {
     "data": {
      "image/png": "[encoded data removed]",
      "text/plain": [
       "<Figure size 720x288 with 1 Axes>"
      ]
     },
     "metadata": {},
     "output_type": "display_data"
    }
   ],
   "source": [
    "plt.figure(figsize = (10, 4))\n",
    "\n",
    "mask = train_df['Current Loan Amount'] < 750000\n",
    "train_df.loc[mask, 'Current Loan Amount'].hist(bins=20)\n",
    "plt.ylabel('Количество')\n",
    "plt.xlabel('Долг по кредиту')\n",
    "\n",
    "plt.title('Распределение по невыплаченной сумме кредита')\n",
    "plt.show()"
   ]
  },
  {
   "cell_type": "code",
   "execution_count": 48,
   "id": "d733a7ab",
   "metadata": {
    "scrolled": true
   },
   "outputs": [
    {
     "data": {
      "text/plain": [
       "count      6630.00000\n",
       "mean     309024.40625\n",
       "std      182294.00000\n",
       "min       11242.00000\n",
       "25%      172744.00000\n",
       "50%      265826.00000\n",
       "75%      430100.00000\n",
       "max      789030.00000\n",
       "Name: Current Loan Amount, dtype: float64"
      ]
     },
     "execution_count": 48,
     "metadata": {},
     "output_type": "execute_result"
    }
   ],
   "source": [
    "mask = train_df['Current Loan Amount'] < 100000000\n",
    "train_df.loc[mask, 'Current Loan Amount'].describe()"
   ]
  },
  {
   "cell_type": "markdown",
   "id": "3789246a",
   "metadata": {},
   "source": [
    "* Нет пропусов\n",
    "* Скорее всего здесь есть выбросы. Значение 100000000.0. Выбросы можно заменить средним или модой."
   ]
  },
  {
   "cell_type": "markdown",
   "id": "65be53af",
   "metadata": {},
   "source": [
    "#### Current Credit Balance (сумма, которую может тратить клиент с кредитного счета)"
   ]
  },
  {
   "cell_type": "code",
   "execution_count": 49,
   "id": "991c8f44",
   "metadata": {},
   "outputs": [
    {
     "data": {
      "text/plain": [
       "0.0          53\n",
       "19.0          3\n",
       "57.0          2\n",
       "76.0          2\n",
       "95.0          1\n",
       "             ..\n",
       "4209659.0     1\n",
       "4249673.0     1\n",
       "4367245.0     1\n",
       "4720132.0     1\n",
       "6506797.0     1\n",
       "Name: Current Credit Balance, Length: 6592, dtype: int64"
      ]
     },
     "execution_count": 49,
     "metadata": {},
     "output_type": "execute_result"
    }
   ],
   "source": [
    "train_df['Current Credit Balance'].value_counts().sort_index()"
   ]
  },
  {
   "cell_type": "code",
   "execution_count": 50,
   "id": "e92c7364",
   "metadata": {},
   "outputs": [
    {
     "data": {
      "text/plain": [
       "count    7.500000e+03\n",
       "mean     2.898332e+05\n",
       "std      3.178713e+05\n",
       "min      0.000000e+00\n",
       "25%      1.142565e+05\n",
       "50%      2.093230e+05\n",
       "75%      3.604062e+05\n",
       "max      6.506797e+06\n",
       "Name: Current Credit Balance, dtype: float64"
      ]
     },
     "execution_count": 50,
     "metadata": {},
     "output_type": "execute_result"
    }
   ],
   "source": [
    "train_df['Current Credit Balance'].describe()"
   ]
  },
  {
   "cell_type": "code",
   "execution_count": 51,
   "id": "245a2c3f",
   "metadata": {
    "scrolled": true
   },
   "outputs": [
    {
     "data": {
      "text/plain": [
       "188"
      ]
     },
     "execution_count": 51,
     "metadata": {},
     "output_type": "execute_result"
    }
   ],
   "source": [
    "len(train_df[train_df['Current Credit Balance'] > 1000000])"
   ]
  },
  {
   "cell_type": "code",
   "execution_count": 52,
   "id": "6d043255",
   "metadata": {},
   "outputs": [
    {
     "data": {
      "image/png": "[encoded data removed]",
      "text/plain": [
       "<Figure size 720x288 with 1 Axes>"
      ]
     },
     "metadata": {},
     "output_type": "display_data"
    }
   ],
   "source": [
    "plt.figure(figsize = (10, 4))\n",
    "\n",
    "mask = train_df['Current Credit Balance'] < 750000\n",
    "train_df.loc[mask, 'Current Credit Balance'].hist(bins=20)\n",
    "plt.ylabel('Количество')\n",
    "plt.xlabel('Баланс кредитного счета')\n",
    "\n",
    "plt.title('Распределение по балансу кредитного счета')\n",
    "plt.show()"
   ]
  },
  {
   "cell_type": "code",
   "execution_count": 53,
   "id": "5ce0e1d2",
   "metadata": {},
   "outputs": [
    {
     "data": {
      "image/png": "[encoded data removed]",
      "text/plain": [
       "<Figure size 720x288 with 1 Axes>"
      ]
     },
     "metadata": {},
     "output_type": "display_data"
    }
   ],
   "source": [
    "plt.figure(figsize = (10, 4))\n",
    "train_df['Current Credit Balance'].hist(bins=20)\n",
    "plt.ylabel('Количество')\n",
    "plt.xlabel('Баланс кредитного счета')\n",
    "\n",
    "plt.title('Распределение по балансу кредитного счета')\n",
    "plt.show()"
   ]
  },
  {
   "cell_type": "code",
   "execution_count": 54,
   "id": "0b79d868",
   "metadata": {
    "scrolled": true
   },
   "outputs": [
    {
     "data": {
      "text/plain": [
       "count      7160.000000\n",
       "mean     241565.671875\n",
       "std      174790.312500\n",
       "min           0.000000\n",
       "25%      110285.500000\n",
       "50%      198654.500000\n",
       "75%      332077.250000\n",
       "max      799387.000000\n",
       "Name: Current Credit Balance, dtype: float64"
      ]
     },
     "execution_count": 54,
     "metadata": {},
     "output_type": "execute_result"
    }
   ],
   "source": [
    "mask = train_df['Current Credit Balance'] < 800000\n",
    "train_df.loc[mask, 'Current Credit Balance'].describe()"
   ]
  },
  {
   "cell_type": "markdown",
   "id": "9f677bfa",
   "metadata": {},
   "source": [
    "* Нет пропусков\n",
    "* Есть выбросы, возможно от [750000, 850000]"
   ]
  },
  {
   "cell_type": "markdown",
   "id": "2ecafb40",
   "metadata": {},
   "source": [
    "#### Monthly Debt (Ежемесячный долг/платеж)"
   ]
  },
  {
   "cell_type": "code",
   "execution_count": 55,
   "id": "c366b8d9",
   "metadata": {},
   "outputs": [
    {
     "data": {
      "text/plain": [
       "count      7500.000000\n",
       "mean      18314.453125\n",
       "std       11926.758789\n",
       "min           0.000000\n",
       "25%       10067.500000\n",
       "50%       16076.500000\n",
       "75%       23818.000000\n",
       "max      136679.000000\n",
       "Name: Monthly Debt, dtype: float64"
      ]
     },
     "execution_count": 55,
     "metadata": {},
     "output_type": "execute_result"
    }
   ],
   "source": [
    "train_df['Monthly Debt'].describe()"
   ]
  },
  {
   "cell_type": "code",
   "execution_count": 56,
   "id": "952834cf",
   "metadata": {},
   "outputs": [
    {
     "data": {
      "image/png": "[encoded data removed]",
      "text/plain": [
       "<Figure size 720x288 with 1 Axes>"
      ]
     },
     "metadata": {},
     "output_type": "display_data"
    }
   ],
   "source": [
    "plt.figure(figsize = (10, 4))\n",
    "train_df['Monthly Debt'].hist(bins=20)\n",
    "plt.ylabel('Количество')\n",
    "plt.xlabel('Ежемесячный платеж')\n",
    "\n",
    "plt.title('Распределение по балансу кредитного счета')\n",
    "plt.show()"
   ]
  },
  {
   "cell_type": "code",
   "execution_count": 57,
   "id": "97371432",
   "metadata": {},
   "outputs": [
    {
     "data": {
      "text/plain": [
       "58113.130000000005"
      ]
     },
     "execution_count": 57,
     "metadata": {},
     "output_type": "execute_result"
    }
   ],
   "source": [
    "train_df['Monthly Debt'].quantile(.99)"
   ]
  },
  {
   "cell_type": "markdown",
   "id": "31fa8f4f",
   "metadata": {},
   "source": [
    "* Пропусков нет\n",
    "* Есть значения выше 58к, которые являются 1 перцентилем от общей выборки."
   ]
  },
  {
   "cell_type": "markdown",
   "id": "868972f2",
   "metadata": {},
   "source": [
    "#### Credit Score (Баллы кредитного рейтинга)"
   ]
  },
  {
   "cell_type": "code",
   "execution_count": 58,
   "id": "47540311",
   "metadata": {},
   "outputs": [
    {
     "data": {
      "text/plain": [
       "False    5943\n",
       "True     1557\n",
       "Name: Credit Score, dtype: int64"
      ]
     },
     "execution_count": 58,
     "metadata": {},
     "output_type": "execute_result"
    }
   ],
   "source": [
    "train_df['Credit Score'].isnull().value_counts()"
   ]
  },
  {
   "cell_type": "code",
   "execution_count": 59,
   "id": "672a7639",
   "metadata": {},
   "outputs": [
    {
     "data": {
      "text/plain": [
       "count    5943.000000\n",
       "mean     1151.087524\n",
       "std      1604.447510\n",
       "min       585.000000\n",
       "25%       711.000000\n",
       "50%       731.000000\n",
       "75%       743.000000\n",
       "max      7510.000000\n",
       "Name: Credit Score, dtype: float64"
      ]
     },
     "execution_count": 59,
     "metadata": {},
     "output_type": "execute_result"
    }
   ],
   "source": [
    "train_df['Credit Score'].describe()"
   ]
  },
  {
   "cell_type": "code",
   "execution_count": 60,
   "id": "44834128",
   "metadata": {},
   "outputs": [
    {
     "data": {
      "image/png": "[encoded data removed]",
      "text/plain": [
       "<Figure size 720x288 with 1 Axes>"
      ]
     },
     "metadata": {},
     "output_type": "display_data"
    }
   ],
   "source": [
    "plt.figure(figsize = (10, 4))\n",
    "train_df['Credit Score'].hist(bins=20)\n",
    "plt.ylabel('Количество')\n",
    "plt.xlabel('Рейтинг')\n",
    "\n",
    "plt.title('Распределение по рейтингу')\n",
    "plt.show()"
   ]
  },
  {
   "cell_type": "code",
   "execution_count": 61,
   "id": "6548fa77",
   "metadata": {},
   "outputs": [
    {
     "data": {
      "text/plain": [
       "5543"
      ]
     },
     "execution_count": 61,
     "metadata": {},
     "output_type": "execute_result"
    }
   ],
   "source": [
    "train_df[train_df['Credit Score'] < 850]['Credit Score'].count()"
   ]
  },
  {
   "cell_type": "code",
   "execution_count": 62,
   "id": "892d5a02",
   "metadata": {},
   "outputs": [
    {
     "data": {
      "text/plain": [
       "400"
      ]
     },
     "execution_count": 62,
     "metadata": {},
     "output_type": "execute_result"
    }
   ],
   "source": [
    "train_df[train_df['Credit Score'] >= 850]['Credit Score'].count()"
   ]
  },
  {
   "cell_type": "markdown",
   "id": "37ff2bd7",
   "metadata": {},
   "source": [
    "Кредитный рейтинг в РФ имеет значения от 1 до 999.\n",
    "\n",
    "* 1557 Пропусков\n",
    "* Есть значения платежа выше 100к\n",
    "* Очень серьезные выбросы\n",
    "\n",
    "Выбросы как вариант можно разделить на 10 или присвоить им среднее/моду, либо посмотреть также по матрице корреляций связь с другими признаками.\n",
    "\n",
    "[Диапазоны кредитного рейтинга](https://nesrakonk.ru/what-do-credit-score-ranges-mean/)"
   ]
  },
  {
   "cell_type": "markdown",
   "id": "8293a725",
   "metadata": {},
   "source": [
    "### Категориальные признаки"
   ]
  },
  {
   "cell_type": "code",
   "execution_count": 63,
   "id": "e32f5d6b",
   "metadata": {
    "scrolled": true
   },
   "outputs": [
    {
     "name": "stdout",
     "output_type": "stream",
     "text": [
      "Home Ownership\n",
      "\n",
      "Home Mortgage    3637\n",
      "Rent             3204\n",
      "Own Home          647\n",
      "Have Mortgage      12\n",
      "Name: Home Ownership, dtype: int64\n",
      "\n",
      "Nan values:\n",
      "False    7500\n",
      "Name: Home Ownership, dtype: int64\n",
      "****************************************************************************************************\n",
      "\n",
      "Years in current job\n",
      "\n",
      "10+ years    2332\n",
      "2 years       705\n",
      "3 years       620\n",
      "< 1 year      563\n",
      "5 years       516\n",
      "1 year        504\n",
      "4 years       469\n",
      "6 years       426\n",
      "7 years       396\n",
      "8 years       339\n",
      "9 years       259\n",
      "Name: Years in current job, dtype: int64\n",
      "\n",
      "Nan values:\n",
      "False    7129\n",
      "True      371\n",
      "Name: Years in current job, dtype: int64\n",
      "****************************************************************************************************\n",
      "\n",
      "Purpose\n",
      "\n",
      "debt consolidation      5944\n",
      "other                    665\n",
      "home improvements        412\n",
      "business loan            129\n",
      "buy a car                 96\n",
      "medical bills             71\n",
      "major purchase            40\n",
      "take a trip               37\n",
      "buy house                 34\n",
      "small business            26\n",
      "wedding                   15\n",
      "moving                    11\n",
      "educational expenses      10\n",
      "vacation                   8\n",
      "renewable energy           2\n",
      "Name: Purpose, dtype: int64\n",
      "\n",
      "Nan values:\n",
      "False    7500\n",
      "Name: Purpose, dtype: int64\n",
      "****************************************************************************************************\n",
      "\n",
      "Term\n",
      "\n",
      "Short Term    5556\n",
      "Long Term     1944\n",
      "Name: Term, dtype: int64\n",
      "\n",
      "Nan values:\n",
      "False    7500\n",
      "Name: Term, dtype: int64\n",
      "****************************************************************************************************\n",
      "\n"
     ]
    }
   ],
   "source": [
    "for cat_colname in train_df.select_dtypes(include='category').columns:\n",
    "    print(str(cat_colname) + '\\n\\n' + str(train_df[cat_colname].value_counts()) + '\\n')\n",
    "    print('Nan values:' + '\\n' + str(train_df[cat_colname].isnull().value_counts()) + '\\n' + '*' * 100 + '\\n')"
   ]
  },
  {
   "cell_type": "markdown",
   "id": "de43a0db",
   "metadata": {},
   "source": [
    "Здесь никаких выбросов нет, есть только пропуски у признака 'Years in current job'.\n",
    "Пропуски можно заполнить модой или считать что человек безработный."
   ]
  },
  {
   "cell_type": "markdown",
   "id": "643d8cfb",
   "metadata": {},
   "source": [
    "### Матрица корреляций"
   ]
  },
  {
   "cell_type": "code",
   "execution_count": 64,
   "id": "429b3548",
   "metadata": {
    "scrolled": false
   },
   "outputs": [
    {
     "data": {
      "image/png": "[encoded data removed]",
      "text/plain": [
       "<Figure size 864x576 with 2 Axes>"
      ]
     },
     "metadata": {},
     "output_type": "display_data"
    }
   ],
   "source": [
    "plt.figure(figsize = (12,8))\n",
    "\n",
    "sns.set(font_scale=1.4)\n",
    "corr_matrix = train_df.drop(columns='Credit Default').corr()\n",
    "corr_matrix = np.round(corr_matrix, 2)\n",
    "corr_matrix[np.abs(corr_matrix) < 0.12] = 0\n",
    "\n",
    "sns.heatmap(corr_matrix, annot=True, linewidths=.5, cmap='coolwarm')\n",
    "\n",
    "plt.title('Correlation matrix')\n",
    "# plt.savefig('Correlation matrix.png')\n",
    "plt.show()"
   ]
  },
  {
   "cell_type": "markdown",
   "id": "f1cc1e2e",
   "metadata": {},
   "source": [
    "Сильные корреляции:\n",
    "* ***Annual Income***, ***Number of Open Accounts***, ***Years of Credit History***, ***Current Credit Balance***, ***Monthly Debt*** - положительная корреляция между всеми признаками!\n",
    "* ***Number of Credit Problems*** и ***Tax Liens*** - сильная корреляция, то есть обременение налогами увеличивает проблемы и наоборот.\n",
    "* ***Number of Credit Problems*** и ***Bankruptcies*** - сильная корреляция, то есть можно судить что проблемы с кредитами приводят к банкротствам. Однако банкротства не коррелируют с обременением налогами.\n",
    "* ***Months since last delinquent*** имеет небольшую корреляцию с ***Number of Credit Problems*** и ***Bankruptcies***, что логично. Просрочки платежей могут вызвать проблемы с кредитом и перерости в банкротства. \n",
    "* ***Current Credit Balance*** имеет небольшую отрицательную корреляцию с ***Number of Credit Problems*** и ***Bankruptcies***. Высокий баланс кредитного счета означает, что деньги мы в кредит не брали, а значит и возможным проблем будет меньше и вероятность банкротства ниже.\n"
   ]
  },
  {
   "cell_type": "code",
   "execution_count": 65,
   "id": "e1a10861",
   "metadata": {
    "scrolled": true
   },
   "outputs": [
    {
     "data": {
      "text/plain": [
       "count      6630.00000\n",
       "mean     309024.40625\n",
       "std      182294.00000\n",
       "min       11242.00000\n",
       "25%      172744.00000\n",
       "50%      265826.00000\n",
       "75%      430100.00000\n",
       "max      789030.00000\n",
       "Name: Current Loan Amount, dtype: float64"
      ]
     },
     "execution_count": 65,
     "metadata": {},
     "output_type": "execute_result"
    }
   ],
   "source": [
    "mask = train_df['Current Loan Amount'] < 100000000\n",
    "train_df.loc[mask, 'Current Loan Amount'].describe()"
   ]
  },
  {
   "cell_type": "code",
   "execution_count": 66,
   "id": "9d3bb4c2",
   "metadata": {},
   "outputs": [
    {
     "data": {
      "text/plain": [
       "265826.0"
      ]
     },
     "execution_count": 66,
     "metadata": {},
     "output_type": "execute_result"
    }
   ],
   "source": [
    "train_df.loc[mask, 'Current Loan Amount'].median()"
   ]
  },
  {
   "cell_type": "markdown",
   "id": "344b8284",
   "metadata": {},
   "source": [
    "---\n",
    "## 2. Обработка выбросов и пропусков <a class='anchor' id='nan'>"
   ]
  },
  {
   "cell_type": "code",
   "execution_count": 67,
   "id": "bb8384f4",
   "metadata": {},
   "outputs": [],
   "source": [
    "class DataPreprocessing:\n",
    "    \n",
    "    def __init__(self):\n",
    "        self.medians=None\n",
    "        self.modes = None\n",
    "        self.max_score = 850\n",
    "        self.max_credit = 99999998\n",
    "        \n",
    "    def fit(self, X):\n",
    "        \"\"\"Сохранение статистик\"\"\" \n",
    "        X = X.copy()\n",
    "        # Расчет медиан и мод\n",
    "        self.medians = X.median()\n",
    "        self.modes = X.mode().loc[0]\n",
    "                \n",
    "    def transform(self, X):\n",
    "        \"\"\"Трансформация данных\"\"\"\n",
    "\n",
    "        # Credit score. Разделили на 10.\n",
    "        X.loc[X['Credit Score'] > self.max_score, 'Credit Score'] = X.loc[X['Credit Score'] > self.max_score, 'Credit Score'] / 10\n",
    "        X['Credit Score'].fillna(self.medians['Credit Score'], inplace = True)\n",
    "        \n",
    "        # Current Loan Amount. Замена медианой.\n",
    "        mask = X['Current Loan Amount'] < 100000000\n",
    "        cla_median = X.loc[mask, 'Current Loan Amount'].median()\n",
    "        X.loc[X['Current Loan Amount'] > self.max_credit, 'Current Loan Amount'] = cla_median\n",
    "        \n",
    "        # Maximum Open Credit\n",
    "        X.loc[X['Maximum Open Credit'] > self.max_credit, 'Maximum Open Credit'] = self.max_credit\n",
    "               \n",
    "        # Annual Income\n",
    "        X['Annual Income'].fillna(self.medians['Annual Income'], inplace = True)\n",
    "        \n",
    "        # Years in current job\n",
    "        X['Years in current job'].fillna(self.modes['Years in current job'], inplace = True)\n",
    "        \n",
    "        # Months since last delinquent\n",
    "        X.drop('Months since last delinquent', axis=1, inplace=True)\n",
    "        \n",
    "        # Bankruptcies\n",
    "        X['Bankruptcies NaN'] = 0\n",
    "        X.loc[X['Bankruptcies'].isna(), 'Bankruptcies NaN'] = 1\n",
    "        X['Bankruptcies'].fillna(self.medians['Bankruptcies'], inplace = True)\n",
    "        \n",
    "        X.fillna(self.medians, inplace=True)\n",
    "        \n",
    "        return X"
   ]
  },
  {
   "cell_type": "markdown",
   "id": "49c095a8",
   "metadata": {},
   "source": [
    "---\n",
    "## 3. Построение новых признаков <a class='anchor' id='features'>"
   ]
  },
  {
   "cell_type": "code",
   "execution_count": 68,
   "id": "ced1d8e8",
   "metadata": {},
   "outputs": [],
   "source": [
    "class FeatureGenetator():\n",
    "    \"\"\"Генерация новых признаков\"\"\"\n",
    "    \n",
    "      \n",
    "    def fit(self, X, y=None):\n",
    "        X = X.copy()\n",
    "                \n",
    "    def transform(self, X):\n",
    "        \n",
    "        # Term: 'Long Term'\n",
    "        X['Long Term'] = X['Term'].map({'Long Term': 1, 'Short Term': 0})\n",
    "                \n",
    "        # Years in current job: no new feature\n",
    "        X['Years in current job'] = X['Years in current job'].map({\n",
    "                                                            '10+ years':10, \n",
    "                                                            '9 years': 9,\n",
    "                                                            '8 years': 8,\n",
    "                                                            '7 years':7,\n",
    "                                                            '6 years':6,\n",
    "                                                            '5 years':5,\n",
    "                                                            '4 years':4,\n",
    "                                                            '3 years':3,\n",
    "                                                            '2 years':2,\n",
    "                                                            '1 year':1,\n",
    "                                                            '< 1 year':0\n",
    "                                                            })          \n",
    "        \n",
    "        # Home Ownership: 'Have Mortgage', 'Home Mortgage', 'Own Home', 'Rent',  \n",
    "        X = pd.concat([X, pd.get_dummies(X['Home Ownership'])], axis=1) \n",
    "        \n",
    "        # Credit Score: 'Credit Score Cat'\n",
    "        X = self.credit_score_to_cat(X)\n",
    "        \n",
    "        return X\n",
    "    \n",
    "    def credit_score_to_cat(self, X):\n",
    "        bins = [300, 579, 669, 739, 799, 850]\n",
    "        X['Credit Score Cat'] = pd.cut(X['Credit Score'], bins=bins, labels=False)\n",
    "\n",
    "        X['Credit Score Cat'].fillna(-1, inplace=True)\n",
    "        return X"
   ]
  },
  {
   "cell_type": "markdown",
   "id": "b9251916",
   "metadata": {},
   "source": [
    "---\n",
    "## 4. Отбор признаков <a class='anchor' id='features_selection'>"
   ]
  },
  {
   "cell_type": "code",
   "execution_count": 69,
   "id": "fe1453e6",
   "metadata": {
    "scrolled": true
   },
   "outputs": [
    {
     "data": {
      "text/plain": [
       "['Home Ownership',\n",
       " 'Annual Income',\n",
       " 'Years in current job',\n",
       " 'Tax Liens',\n",
       " 'Number of Open Accounts',\n",
       " 'Years of Credit History',\n",
       " 'Maximum Open Credit',\n",
       " 'Number of Credit Problems',\n",
       " 'Months since last delinquent',\n",
       " 'Bankruptcies',\n",
       " 'Purpose',\n",
       " 'Term',\n",
       " 'Current Loan Amount',\n",
       " 'Current Credit Balance',\n",
       " 'Monthly Debt',\n",
       " 'Credit Score',\n",
       " 'Credit Default']"
      ]
     },
     "execution_count": 69,
     "metadata": {},
     "output_type": "execute_result"
    }
   ],
   "source": [
    "train_df.columns.tolist()"
   ]
  },
  {
   "cell_type": "code",
   "execution_count": 70,
   "id": "d97a39d9",
   "metadata": {},
   "outputs": [],
   "source": [
    "feature_names = [\n",
    "#     'Home Ownership',\n",
    "    'Annual Income',\n",
    "    'Years in current job',\n",
    "    'Tax Liens',\n",
    "    'Number of Open Accounts',\n",
    "    'Years of Credit History',\n",
    "    'Maximum Open Credit',\n",
    "    'Number of Credit Problems',\n",
    "#     'Months since last delinquent',\n",
    "    'Bankruptcies',\n",
    "#     'Purpose',\n",
    "#     'Term',\n",
    "    'Current Loan Amount',\n",
    "    'Current Credit Balance',\n",
    "    'Monthly Debt',\n",
    "    'Credit Score'\n",
    "]\n",
    "\n",
    "new_feature_names = [ \n",
    "    'Long Term', \n",
    "    'Have Mortgage',\n",
    "    'Home Mortgage', \n",
    "    'Own Home', \n",
    "    'Rent', \n",
    "    'Credit Score Cat'\n",
    "]\n",
    "\n",
    "target_name = 'Credit Default'"
   ]
  },
  {
   "cell_type": "markdown",
   "id": "f0e0458e",
   "metadata": {},
   "source": [
    "---\n",
    "## 5. Разбиение тренировочной выборки на train и valid <a class='anchor' id='split'>"
   ]
  },
  {
   "cell_type": "code",
   "execution_count": 71,
   "id": "d35585fa",
   "metadata": {},
   "outputs": [],
   "source": [
    "train_df = pd.read_csv(TRAIN_DATASET_PATH)\n",
    "test_df = pd.read_csv(TEST_DATASET_PATH)"
   ]
  },
  {
   "cell_type": "code",
   "execution_count": 72,
   "id": "9e083308",
   "metadata": {},
   "outputs": [],
   "source": [
    "X = train_df.drop(columns=target_name)\n",
    "y = train_df[target_name]"
   ]
  },
  {
   "cell_type": "code",
   "execution_count": 73,
   "id": "1d40c3a0",
   "metadata": {},
   "outputs": [],
   "source": [
    "X_train, X_valid, y_train, y_valid = train_test_split(X, y, test_size=0.33, shuffle=True, random_state=21)"
   ]
  },
  {
   "cell_type": "code",
   "execution_count": 74,
   "id": "a4fbc76b",
   "metadata": {},
   "outputs": [],
   "source": [
    "preprocessor = DataPreprocessing()\n",
    "preprocessor.fit(X_train)  #  fit применяем только к X_train\n",
    "\n",
    "X_train = preprocessor.transform(X_train)\n",
    "X_valid = preprocessor.transform(X_valid)"
   ]
  },
  {
   "cell_type": "code",
   "execution_count": 75,
   "id": "99a15f83",
   "metadata": {},
   "outputs": [
    {
     "data": {
      "text/plain": [
       "((5025, 16), (2475, 16))"
      ]
     },
     "execution_count": 75,
     "metadata": {},
     "output_type": "execute_result"
    }
   ],
   "source": [
    "X_train.shape, X_valid.shape"
   ]
  },
  {
   "cell_type": "code",
   "execution_count": 76,
   "id": "5ce031ad",
   "metadata": {},
   "outputs": [],
   "source": [
    "features_generator = FeatureGenetator()\n",
    "features_generator.fit(X_train, y_train)  #  fit применяем только к X_train, y_train\n",
    "\n",
    "X_train = features_generator.transform(X_train)\n",
    "X_valid = features_generator.transform(X_valid)"
   ]
  },
  {
   "cell_type": "code",
   "execution_count": 77,
   "id": "7cf26b16",
   "metadata": {
    "scrolled": true
   },
   "outputs": [
    {
     "data": {
      "text/plain": [
       "((5025, 22), (2475, 22))"
      ]
     },
     "execution_count": 77,
     "metadata": {},
     "output_type": "execute_result"
    }
   ],
   "source": [
    "X_train.shape, X_valid.shape"
   ]
  },
  {
   "cell_type": "markdown",
   "id": "5f9ed8f4",
   "metadata": {},
   "source": [
    "### Применение отобранных признаков\n",
    "см. [4. Отбор признаков](#features_selection)"
   ]
  },
  {
   "cell_type": "code",
   "execution_count": 78,
   "id": "4aedc760",
   "metadata": {},
   "outputs": [],
   "source": [
    "X_train = X_train[feature_names + new_feature_names]\n",
    "X_valid = X_valid[feature_names + new_feature_names]"
   ]
  },
  {
   "cell_type": "code",
   "execution_count": 79,
   "id": "b1565ea9",
   "metadata": {},
   "outputs": [
    {
     "data": {
      "text/plain": [
       "((5025, 18), (2475, 18))"
      ]
     },
     "execution_count": 79,
     "metadata": {},
     "output_type": "execute_result"
    }
   ],
   "source": [
    "X_train.shape, X_valid.shape"
   ]
  },
  {
   "cell_type": "code",
   "execution_count": 80,
   "id": "f5abd2d2",
   "metadata": {},
   "outputs": [
    {
     "data": {
      "text/plain": [
       "(0, 0)"
      ]
     },
     "execution_count": 80,
     "metadata": {},
     "output_type": "execute_result"
    }
   ],
   "source": [
    "# Посмотрим на размерности и пропуски в данных. После обработки их не должно быть.\n",
    "X_train.isna().sum().sum(), X_valid.isna().sum().sum()"
   ]
  },
  {
   "cell_type": "code",
   "execution_count": 81,
   "id": "8c8f8f84",
   "metadata": {
    "scrolled": true
   },
   "outputs": [
    {
     "data": {
      "text/plain": [
       "Annual Income                0\n",
       "Years in current job         0\n",
       "Tax Liens                    0\n",
       "Number of Open Accounts      0\n",
       "Years of Credit History      0\n",
       "Maximum Open Credit          0\n",
       "Number of Credit Problems    0\n",
       "Bankruptcies                 0\n",
       "Current Loan Amount          0\n",
       "Current Credit Balance       0\n",
       "Monthly Debt                 0\n",
       "Credit Score                 0\n",
       "Long Term                    0\n",
       "Have Mortgage                0\n",
       "Home Mortgage                0\n",
       "Own Home                     0\n",
       "Rent                         0\n",
       "Credit Score Cat             0\n",
       "dtype: int64"
      ]
     },
     "execution_count": 81,
     "metadata": {},
     "output_type": "execute_result"
    }
   ],
   "source": [
    "X_train.isna().sum()"
   ]
  },
  {
   "cell_type": "markdown",
   "id": "9ae8b73f",
   "metadata": {},
   "source": [
    "### Балансировка целевой переменной"
   ]
  },
  {
   "cell_type": "code",
   "execution_count": 82,
   "id": "93160490",
   "metadata": {},
   "outputs": [],
   "source": [
    "def balance_df_by_target(df, target_name):\n",
    "\n",
    "    target_counts = df[target_name].value_counts()\n",
    "\n",
    "    major_class_name = target_counts.argmax()\n",
    "    minor_class_name = target_counts.argmin()\n",
    "\n",
    "    disbalance_coeff = int(target_counts[major_class_name] / target_counts[minor_class_name]) - 1\n",
    "\n",
    "    for i in range(disbalance_coeff):\n",
    "        sample = df[df[target_name] == minor_class_name].sample(target_counts[minor_class_name])\n",
    "        df = df.append(sample, ignore_index=True)\n",
    "\n",
    "    return df.sample(frac=1)"
   ]
  },
  {
   "cell_type": "code",
   "execution_count": 83,
   "id": "2730c182",
   "metadata": {},
   "outputs": [
    {
     "data": {
      "text/plain": [
       "0    3611\n",
       "1    2828\n",
       "Name: Credit Default, dtype: int64"
      ]
     },
     "execution_count": 83,
     "metadata": {},
     "output_type": "execute_result"
    }
   ],
   "source": [
    "df_for_balancing = pd.concat([X_train, y_train], axis=1)\n",
    "df_balanced = balance_df_by_target(df_for_balancing, target_name)\n",
    "    \n",
    "df_balanced[target_name].value_counts()"
   ]
  },
  {
   "cell_type": "code",
   "execution_count": 84,
   "id": "13c67248",
   "metadata": {},
   "outputs": [],
   "source": [
    "X_train = df_balanced.drop(columns=target_name)\n",
    "y_train = df_balanced[target_name]"
   ]
  },
  {
   "cell_type": "markdown",
   "id": "cee587ac",
   "metadata": {},
   "source": [
    "---\n",
    "## 6. Построение модели <a class='anchor' id='modeling'>"
   ]
  },
  {
   "cell_type": "markdown",
   "id": "dd0b23bb",
   "metadata": {},
   "source": [
    "### Обучение"
   ]
  },
  {
   "cell_type": "markdown",
   "id": "e2309124",
   "metadata": {},
   "source": [
    "<u>class_weights</u>\n",
    "\n",
    "Class weights. The values are used as multipliers for the object weights. This parameter can be used for solving binary classification and multiclassification problems.\n",
    "\n",
    "For imbalanced datasets with binary classification the weight multiplier can be set to 1 for class 0 and to \n",
    "$\\left(\\frac{sum\\_negative}{sum\\_positive}\\right)$ for class 1."
   ]
  },
  {
   "cell_type": "code",
   "execution_count": 85,
   "id": "ebc26bca",
   "metadata": {},
   "outputs": [
    {
     "data": {
      "text/plain": [
       "1.2768741159830268"
      ]
     },
     "execution_count": 85,
     "metadata": {},
     "output_type": "execute_result"
    }
   ],
   "source": [
    "class_weight = y_train.value_counts()[0] / y_train.value_counts()[1]\n",
    "class_weight"
   ]
  },
  {
   "cell_type": "code",
   "execution_count": 86,
   "id": "43d00c05",
   "metadata": {
    "scrolled": true
   },
   "outputs": [
    {
     "data": {
      "application/vnd.jupyter.widget-view+json": {
       "model_id": "015a5ac375994bb9b290ab44ea4d40cd",
       "version_major": 2,
       "version_minor": 0
      },
      "text/plain": [
       "MetricVisualizer(layout=Layout(align_self='stretch', height='500px'))"
      ]
     },
     "metadata": {},
     "output_type": "display_data"
    },
    {
     "data": {
      "text/plain": [
       "<catboost.core.CatBoostClassifier at 0x276396a4d90>"
      ]
     },
     "execution_count": 86,
     "metadata": {},
     "output_type": "execute_result"
    }
   ],
   "source": [
    "catboost_model = CatBoostClassifier(\n",
    "                                     silent=True, \n",
    "                                     random_state=17,\n",
    "                                     class_weights=[1, class_weight],\n",
    "                                     eval_metric='F1',\n",
    "                                     early_stopping_rounds=20,\n",
    "                                     use_best_model=True,\n",
    "                                     custom_metric=['Precision', 'Recall'],\n",
    "                                     iterations=2500,\n",
    "                                     max_depth=5,\n",
    "                                     min_data_in_leaf=5\n",
    "                                    )\n",
    "catboost_model.fit(X_train, y_train, plot=True, eval_set=(X_valid, y_valid))"
   ]
  },
  {
   "cell_type": "code",
   "execution_count": 87,
   "id": "c630f98b",
   "metadata": {},
   "outputs": [],
   "source": [
    "# parameters = {\n",
    "#     'silent':[True],\n",
    "#     'random_state':[17],\n",
    "#     'class_weights':[[1, class_weight]],\n",
    "#     'eval_metric':['F1'],\n",
    "#     'early_stopping_rounds':[15,20,25],\n",
    "#     'use_best_model':[True],\n",
    "#     'custom_metric':['Precision', 'Recall'],\n",
    "#     'iterations': np.linspace(10, 200, 20, endpoint=True),\n",
    "#     'max_depth': [5,6,7,8,9],\n",
    "#     'min_data_in_leaf': [3,4,5,6,7],\n",
    "# #    'num_boost_round': [1500],\n",
    "#     'learning_rate': np.linspace(0.01, 0.3, 10, endpoint=True)\n",
    "# }\n",
    "\n",
    "# catboost_model = GridSearchCV(\n",
    "#     estimator=CatBoostClassifier(),\n",
    "#     param_grid=parameters,\n",
    "#     scoring='f1',\n",
    "#     cv=3,\n",
    "#     n_jobs=-1\n",
    "# )\n",
    "\n",
    "# catboost_model.fit(X_train, y_train, plot=True, eval_set=(X_valid, y_valid))\n",
    "# catboost_model.best_params_"
   ]
  },
  {
   "cell_type": "markdown",
   "id": "492ad722",
   "metadata": {},
   "source": [
    "### Оценка модели"
   ]
  },
  {
   "cell_type": "code",
   "execution_count": 88,
   "id": "be221b70",
   "metadata": {
    "scrolled": false
   },
   "outputs": [
    {
     "name": "stdout",
     "output_type": "stream",
     "text": [
      "Train F1:\t0.6264\n",
      "Test F1:\t0.4909\n",
      "TRAIN\n",
      "\n",
      "              precision    recall  f1-score   support\n",
      "\n",
      "           0       0.72      0.51      0.60      3611\n",
      "           1       0.54      0.74      0.63      2828\n",
      "\n",
      "    accuracy                           0.61      6439\n",
      "   macro avg       0.63      0.63      0.61      6439\n",
      "weighted avg       0.64      0.61      0.61      6439\n",
      "\n",
      "TEST\n",
      "\n",
      "              precision    recall  f1-score   support\n",
      "\n",
      "           0       0.83      0.51      0.63      1776\n",
      "           1       0.37      0.73      0.49       699\n",
      "\n",
      "    accuracy                           0.57      2475\n",
      "   macro avg       0.60      0.62      0.56      2475\n",
      "weighted avg       0.70      0.57      0.59      2475\n",
      "\n",
      "CONFUSION MATRIX\n",
      "\n",
      "col_0             0    1\n",
      "Credit Default          \n",
      "0               907  869\n",
      "1               189  510\n"
     ]
    }
   ],
   "source": [
    "y_train_preds = catboost_model.predict(X_train)\n",
    "y_test_preds = catboost_model.predict(X_valid)\n",
    "\n",
    "evaluate_preds(y_train, y_train_preds, y_valid, y_test_preds)"
   ]
  },
  {
   "cell_type": "markdown",
   "id": "eba9d060",
   "metadata": {},
   "source": [
    "### Важность признаков"
   ]
  },
  {
   "cell_type": "code",
   "execution_count": 89,
   "id": "d35657b5",
   "metadata": {
    "scrolled": true
   },
   "outputs": [
    {
     "data": {
      "text/html": [
       "<div>\n",
       "<style scoped>\n",
       "    .dataframe tbody tr th:only-of-type {\n",
       "        vertical-align: middle;\n",
       "    }\n",
       "\n",
       "    .dataframe tbody tr th {\n",
       "        vertical-align: top;\n",
       "    }\n",
       "\n",
       "    .dataframe thead th {\n",
       "        text-align: right;\n",
       "    }\n",
       "</style>\n",
       "<table border=\"1\" class=\"dataframe\">\n",
       "  <thead>\n",
       "    <tr style=\"text-align: right;\">\n",
       "      <th></th>\n",
       "      <th>feature_name</th>\n",
       "      <th>importance</th>\n",
       "    </tr>\n",
       "  </thead>\n",
       "  <tbody>\n",
       "    <tr>\n",
       "      <th>8</th>\n",
       "      <td>Current Loan Amount</td>\n",
       "      <td>30.029369</td>\n",
       "    </tr>\n",
       "    <tr>\n",
       "      <th>12</th>\n",
       "      <td>Long Term</td>\n",
       "      <td>29.935113</td>\n",
       "    </tr>\n",
       "    <tr>\n",
       "      <th>0</th>\n",
       "      <td>Annual Income</td>\n",
       "      <td>18.144061</td>\n",
       "    </tr>\n",
       "    <tr>\n",
       "      <th>17</th>\n",
       "      <td>Credit Score Cat</td>\n",
       "      <td>10.770817</td>\n",
       "    </tr>\n",
       "    <tr>\n",
       "      <th>11</th>\n",
       "      <td>Credit Score</td>\n",
       "      <td>4.034643</td>\n",
       "    </tr>\n",
       "    <tr>\n",
       "      <th>16</th>\n",
       "      <td>Rent</td>\n",
       "      <td>2.436809</td>\n",
       "    </tr>\n",
       "    <tr>\n",
       "      <th>3</th>\n",
       "      <td>Number of Open Accounts</td>\n",
       "      <td>2.171857</td>\n",
       "    </tr>\n",
       "    <tr>\n",
       "      <th>2</th>\n",
       "      <td>Tax Liens</td>\n",
       "      <td>1.268817</td>\n",
       "    </tr>\n",
       "    <tr>\n",
       "      <th>1</th>\n",
       "      <td>Years in current job</td>\n",
       "      <td>1.208515</td>\n",
       "    </tr>\n",
       "    <tr>\n",
       "      <th>4</th>\n",
       "      <td>Years of Credit History</td>\n",
       "      <td>0.000000</td>\n",
       "    </tr>\n",
       "    <tr>\n",
       "      <th>5</th>\n",
       "      <td>Maximum Open Credit</td>\n",
       "      <td>0.000000</td>\n",
       "    </tr>\n",
       "    <tr>\n",
       "      <th>6</th>\n",
       "      <td>Number of Credit Problems</td>\n",
       "      <td>0.000000</td>\n",
       "    </tr>\n",
       "    <tr>\n",
       "      <th>7</th>\n",
       "      <td>Bankruptcies</td>\n",
       "      <td>0.000000</td>\n",
       "    </tr>\n",
       "    <tr>\n",
       "      <th>10</th>\n",
       "      <td>Monthly Debt</td>\n",
       "      <td>0.000000</td>\n",
       "    </tr>\n",
       "    <tr>\n",
       "      <th>13</th>\n",
       "      <td>Have Mortgage</td>\n",
       "      <td>0.000000</td>\n",
       "    </tr>\n",
       "    <tr>\n",
       "      <th>14</th>\n",
       "      <td>Home Mortgage</td>\n",
       "      <td>0.000000</td>\n",
       "    </tr>\n",
       "    <tr>\n",
       "      <th>15</th>\n",
       "      <td>Own Home</td>\n",
       "      <td>0.000000</td>\n",
       "    </tr>\n",
       "    <tr>\n",
       "      <th>9</th>\n",
       "      <td>Current Credit Balance</td>\n",
       "      <td>0.000000</td>\n",
       "    </tr>\n",
       "  </tbody>\n",
       "</table>\n",
       "</div>"
      ],
      "text/plain": [
       "                 feature_name  importance\n",
       "8         Current Loan Amount   30.029369\n",
       "12                  Long Term   29.935113\n",
       "0               Annual Income   18.144061\n",
       "17           Credit Score Cat   10.770817\n",
       "11               Credit Score    4.034643\n",
       "16                       Rent    2.436809\n",
       "3     Number of Open Accounts    2.171857\n",
       "2                   Tax Liens    1.268817\n",
       "1        Years in current job    1.208515\n",
       "4     Years of Credit History    0.000000\n",
       "5         Maximum Open Credit    0.000000\n",
       "6   Number of Credit Problems    0.000000\n",
       "7                Bankruptcies    0.000000\n",
       "10               Monthly Debt    0.000000\n",
       "13              Have Mortgage    0.000000\n",
       "14              Home Mortgage    0.000000\n",
       "15                   Own Home    0.000000\n",
       "9      Current Credit Balance    0.000000"
      ]
     },
     "execution_count": 89,
     "metadata": {},
     "output_type": "execute_result"
    }
   ],
   "source": [
    "feature_importances = pd.DataFrame(zip(X_train.columns, catboost_model.feature_importances_), \n",
    "                                   columns=['feature_name', 'importance'])\n",
    "\n",
    "feature_importances.sort_values(by='importance', ascending=False)"
   ]
  },
  {
   "cell_type": "code",
   "execution_count": 90,
   "id": "3fa1526a",
   "metadata": {
    "scrolled": false
   },
   "outputs": [
    {
     "data": {
      "image/png": "[encoded data removed]",
      "text/plain": [
       "<Figure size 1440x460.08 with 1 Axes>"
      ]
     },
     "metadata": {},
     "output_type": "display_data"
    }
   ],
   "source": [
    "show_feature_importances(X_train.columns, catboost_model.feature_importances_, get_top=15)"
   ]
  },
  {
   "cell_type": "markdown",
   "id": "190041b5",
   "metadata": {},
   "source": [
    "---\n",
    "## 7. Прогнозирование на тестовом датасете <a class='anchor' id='prediction'>"
   ]
  },
  {
   "cell_type": "code",
   "execution_count": 91,
   "id": "30703d76",
   "metadata": {},
   "outputs": [],
   "source": [
    "test_df = pd.read_csv(TEST_DATASET_PATH)\n",
    "test_df = preprocessor.transform(test_df)\n",
    "test_df = features_generator.transform(test_df)\n",
    "test_df = test_df[feature_names + new_feature_names]"
   ]
  },
  {
   "cell_type": "code",
   "execution_count": 92,
   "id": "1d4e705a",
   "metadata": {},
   "outputs": [
    {
     "data": {
      "text/plain": [
       "((6439, 18), (2475, 18), (2500, 18))"
      ]
     },
     "execution_count": 92,
     "metadata": {},
     "output_type": "execute_result"
    }
   ],
   "source": [
    "X_train.shape, X_valid.shape, test_df.shape"
   ]
  },
  {
   "cell_type": "code",
   "execution_count": 93,
   "id": "ce23a555",
   "metadata": {},
   "outputs": [
    {
     "data": {
      "text/plain": [
       "0"
      ]
     },
     "execution_count": 93,
     "metadata": {},
     "output_type": "execute_result"
    }
   ],
   "source": [
    "test_df.isna().sum().sum()"
   ]
  },
  {
   "cell_type": "code",
   "execution_count": 94,
   "id": "4a7cf1f8",
   "metadata": {
    "scrolled": true
   },
   "outputs": [
    {
     "data": {
      "text/html": [
       "<div>\n",
       "<style scoped>\n",
       "    .dataframe tbody tr th:only-of-type {\n",
       "        vertical-align: middle;\n",
       "    }\n",
       "\n",
       "    .dataframe tbody tr th {\n",
       "        vertical-align: top;\n",
       "    }\n",
       "\n",
       "    .dataframe thead th {\n",
       "        text-align: right;\n",
       "    }\n",
       "</style>\n",
       "<table border=\"1\" class=\"dataframe\">\n",
       "  <thead>\n",
       "    <tr style=\"text-align: right;\">\n",
       "      <th></th>\n",
       "      <th>Id</th>\n",
       "      <th>Credit Default</th>\n",
       "    </tr>\n",
       "  </thead>\n",
       "  <tbody>\n",
       "    <tr>\n",
       "      <th>0</th>\n",
       "      <td>0</td>\n",
       "      <td>1</td>\n",
       "    </tr>\n",
       "    <tr>\n",
       "      <th>1</th>\n",
       "      <td>1</td>\n",
       "      <td>1</td>\n",
       "    </tr>\n",
       "    <tr>\n",
       "      <th>2</th>\n",
       "      <td>2</td>\n",
       "      <td>1</td>\n",
       "    </tr>\n",
       "    <tr>\n",
       "      <th>3</th>\n",
       "      <td>3</td>\n",
       "      <td>1</td>\n",
       "    </tr>\n",
       "    <tr>\n",
       "      <th>4</th>\n",
       "      <td>4</td>\n",
       "      <td>1</td>\n",
       "    </tr>\n",
       "  </tbody>\n",
       "</table>\n",
       "</div>"
      ],
      "text/plain": [
       "   Id  Credit Default\n",
       "0   0               1\n",
       "1   1               1\n",
       "2   2               1\n",
       "3   3               1\n",
       "4   4               1"
      ]
     },
     "execution_count": 94,
     "metadata": {},
     "output_type": "execute_result"
    }
   ],
   "source": [
    "submit = pd.read_csv(SUBMIT_DATASET_PATH)\n",
    "submit.head()"
   ]
  },
  {
   "cell_type": "code",
   "execution_count": 95,
   "id": "e60c8bda",
   "metadata": {},
   "outputs": [
    {
     "data": {
      "text/plain": [
       "array([1, 1, 1, ..., 1, 0, 1], dtype=int64)"
      ]
     },
     "execution_count": 95,
     "metadata": {},
     "output_type": "execute_result"
    }
   ],
   "source": [
    "predictions = catboost_model.predict(test_df)\n",
    "predictions"
   ]
  },
  {
   "cell_type": "code",
   "execution_count": 96,
   "id": "c8543c01",
   "metadata": {},
   "outputs": [
    {
     "data": {
      "text/html": [
       "<div>\n",
       "<style scoped>\n",
       "    .dataframe tbody tr th:only-of-type {\n",
       "        vertical-align: middle;\n",
       "    }\n",
       "\n",
       "    .dataframe tbody tr th {\n",
       "        vertical-align: top;\n",
       "    }\n",
       "\n",
       "    .dataframe thead th {\n",
       "        text-align: right;\n",
       "    }\n",
       "</style>\n",
       "<table border=\"1\" class=\"dataframe\">\n",
       "  <thead>\n",
       "    <tr style=\"text-align: right;\">\n",
       "      <th></th>\n",
       "      <th>Id</th>\n",
       "      <th>Credit Default</th>\n",
       "    </tr>\n",
       "  </thead>\n",
       "  <tbody>\n",
       "    <tr>\n",
       "      <th>0</th>\n",
       "      <td>0</td>\n",
       "      <td>1</td>\n",
       "    </tr>\n",
       "    <tr>\n",
       "      <th>1</th>\n",
       "      <td>1</td>\n",
       "      <td>1</td>\n",
       "    </tr>\n",
       "    <tr>\n",
       "      <th>2</th>\n",
       "      <td>2</td>\n",
       "      <td>1</td>\n",
       "    </tr>\n",
       "    <tr>\n",
       "      <th>3</th>\n",
       "      <td>3</td>\n",
       "      <td>0</td>\n",
       "    </tr>\n",
       "    <tr>\n",
       "      <th>4</th>\n",
       "      <td>4</td>\n",
       "      <td>1</td>\n",
       "    </tr>\n",
       "  </tbody>\n",
       "</table>\n",
       "</div>"
      ],
      "text/plain": [
       "   Id  Credit Default\n",
       "0   0               1\n",
       "1   1               1\n",
       "2   2               1\n",
       "3   3               0\n",
       "4   4               1"
      ]
     },
     "execution_count": 96,
     "metadata": {},
     "output_type": "execute_result"
    }
   ],
   "source": [
    "submit['Credit Default'] = predictions\n",
    "submit.head()"
   ]
  },
  {
   "cell_type": "code",
   "execution_count": 97,
   "id": "40aa58d0",
   "metadata": {},
   "outputs": [],
   "source": [
    "submit.to_csv(SUBMIT_FILE_NAME, index=False)"
   ]
  },
  {
   "cell_type": "code",
   "execution_count": null,
   "id": "8812df5a",
   "metadata": {},
   "outputs": [],
   "source": []
  }
 ],
 "metadata": {
  "kernelspec": {
   "display_name": "Python 3",
   "language": "python",
   "name": "python3"
  },
  "language_info": {
   "codemirror_mode": {
    "name": "ipython",
    "version": 3
   },
   "file_extension": ".py",
   "mimetype": "text/x-python",
   "name": "python",
   "nbconvert_exporter": "python",
   "pygments_lexer": "ipython3",
   "version": "3.8.8"
  }
 },
 "nbformat": 4,
 "nbformat_minor": 5
}
