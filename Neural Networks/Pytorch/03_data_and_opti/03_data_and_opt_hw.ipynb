{
 "cells": [
  {
   "cell_type": "markdown",
   "id": "2be02fad",
   "metadata": {},
   "source": [
    "# Практическое задание №3 по теме \"Dataset, Dataloader, BatchNorm, Dropout, Оптимизация\"."
   ]
  },
  {
   "cell_type": "markdown",
   "id": "bf6a4979",
   "metadata": {},
   "source": [
    "Будем практиковаться на датасете недвижимости (sklearn.datasets.fetch_california_housing)\n",
    "\n",
    "Ваша задача:\n",
    "1. Создать Dataset для загрузки данных\n",
    "2. Обернуть его в Dataloader\n",
    "3. Написать архитектуру сети, которая предсказывает стоимость недвижимости. Сеть должна включать BatchNorm слои и Dropout (или НЕ включать, но нужно обосновать)\n",
    "4. Сравните сходимость Adam, RMSProp и SGD, сделайте вывод по качеству работы модели\n",
    "\n",
    "train-test разделение нужно сделать с помощью sklearn random_state=13, test_size = 0.25"
   ]
  },
  {
   "cell_type": "code",
   "execution_count": 5,
   "id": "706e5789",
   "metadata": {},
   "outputs": [],
   "source": [
    "import torch\n",
    "import torch.nn.functional as F\n",
    "import torch.nn as nn\n",
    "\n",
    "from torchvision import transforms, datasets\n",
    "\n",
    "import numpy as np\n",
    "import matplotlib.pyplot as plt\n",
    "\n",
    "from sklearn.model_selection import train_test_split\n",
    "from sklearn.datasets import fetch_california_housing\n",
    "\n",
    "from torch.optim import SGD, RMSprop, Adam\n",
    "from sklearn.metrics import r2_score"
   ]
  },
  {
   "cell_type": "markdown",
   "id": "4037114d",
   "metadata": {},
   "source": [
    "## Загрузка и обработка данных"
   ]
  },
  {
   "cell_type": "code",
   "execution_count": 6,
   "id": "259033b6",
   "metadata": {},
   "outputs": [
    {
     "data": {
      "text/plain": [
       "(torch.Size([15480, 8]),\n",
       " torch.Size([5160, 8]),\n",
       " torch.Size([15480]),\n",
       " torch.Size([5160]))"
      ]
     },
     "execution_count": 6,
     "metadata": {},
     "output_type": "execute_result"
    }
   ],
   "source": [
    "data = fetch_california_housing()\n",
    "X, Y = data.data, data.target\n",
    "\n",
    "X_train, X_test, y_train, y_test = train_test_split(X, Y, test_size=0.25, random_state=13)\n",
    "\n",
    "n_features_reg = X_train.shape[1]\n",
    "\n",
    "X_train_reg, X_test_reg = torch.tensor(X_train, dtype=torch.float32), torch.tensor(X_test, dtype=torch.float32)\n",
    "Y_train_reg, Y_test_reg = torch.tensor(y_train, dtype=torch.float32), torch.tensor(y_test, dtype=torch.float32)\n",
    "\n",
    "X_train_reg.shape, X_test_reg.shape, Y_train_reg.shape, Y_test_reg.shape"
   ]
  },
  {
   "cell_type": "markdown",
   "id": "6ab0a7d0",
   "metadata": {},
   "source": [
    "Нормализация"
   ]
  },
  {
   "cell_type": "code",
   "execution_count": 7,
   "id": "16213539",
   "metadata": {},
   "outputs": [],
   "source": [
    "mean = X_train_reg.mean(axis=0)\n",
    "std = X_train_reg.std(axis=0)\n",
    "\n",
    "X_train_reg = (X_train_reg - mean)/ std\n",
    "X_test_reg = (X_test_reg - mean)/ std"
   ]
  },
  {
   "cell_type": "markdown",
   "id": "fd2ad489",
   "metadata": {},
   "source": [
    "Класс со своим датасетом"
   ]
  },
  {
   "cell_type": "code",
   "execution_count": 8,
   "id": "a5dac6fb",
   "metadata": {},
   "outputs": [],
   "source": [
    "class LinearRegressionDataset(torch.utils.data.Dataset):\n",
    "    def __init__(self, X, y):\n",
    "        self.X = X\n",
    "        self.y = y\n",
    "    \n",
    "    def __len__(self):\n",
    "        return len(self.X)\n",
    "    \n",
    "    def __getitem__(self, idx):\n",
    "        return self.X[idx], self.y[idx]"
   ]
  },
  {
   "cell_type": "markdown",
   "id": "c503fd79",
   "metadata": {},
   "source": [
    "Dataloader"
   ]
  },
  {
   "cell_type": "code",
   "execution_count": 9,
   "id": "52587020",
   "metadata": {},
   "outputs": [],
   "source": [
    "train_loader = torch.utils.data.DataLoader(dataset = LinearRegressionDataset(X_train, y_train), batch_size=64)\n",
    "test_loader = torch.utils.data.DataLoader(dataset = LinearRegressionDataset(X_test, y_test), batch_size=64)"
   ]
  },
  {
   "cell_type": "markdown",
   "id": "0e3bcd86",
   "metadata": {},
   "source": [
    "## Модель"
   ]
  },
  {
   "cell_type": "code",
   "execution_count": 10,
   "id": "092358d9",
   "metadata": {},
   "outputs": [],
   "source": [
    "class Regressor(nn.Module):\n",
    "    def __init__(self):\n",
    "        super(Regressor, self).__init__()\n",
    "        self.lin1 = nn.Linear(n_features_reg, 5)\n",
    "        self.bn = nn.BatchNorm1d(5)\n",
    "        self.dp = nn.Dropout(0.25)\n",
    "        self.lin2 = nn.Linear(5, 10)\n",
    "        self.lin3 = nn.Linear(10, 15)\n",
    "        self.lin4 = nn.Linear(15,1)\n",
    "\n",
    "    def forward(self, X_batch):\n",
    "        layer_out = F.relu(self.lin1(X_batch))\n",
    "        layer_out = self.bn(layer_out)\n",
    "        layer_out = self.dp(layer_out)\n",
    "        layer_out = F.relu(self.lin2(layer_out))\n",
    "        layer_out = F.relu(self.lin3(layer_out))\n",
    "\n",
    "        return self.lin4(layer_out).ravel()"
   ]
  },
  {
   "cell_type": "code",
   "execution_count": 11,
   "id": "fb1f36e9",
   "metadata": {},
   "outputs": [
    {
     "data": {
      "text/plain": [
       "tensor([-0.1196, -0.2092, -0.2515, -0.2080, -0.1603], grad_fn=<ViewBackward>)"
      ]
     },
     "execution_count": 11,
     "metadata": {},
     "output_type": "execute_result"
    }
   ],
   "source": [
    "regressor = Regressor()\n",
    "preds = regressor(X_train_reg[:5])\n",
    "preds"
   ]
  },
  {
   "cell_type": "markdown",
   "id": "1b2ebc69",
   "metadata": {},
   "source": [
    "## Обучение"
   ]
  },
  {
   "cell_type": "code",
   "execution_count": 12,
   "id": "c4d0348e",
   "metadata": {},
   "outputs": [],
   "source": [
    "def TrainModel(model, loss_func, optimizer, X, Y, epochs=500):\n",
    "    for i in range(epochs):\n",
    "        preds = model(X) ## Make Predictions by forward pass through network\n",
    "\n",
    "        loss = loss_func(preds, Y) ## Calculate Loss\n",
    "\n",
    "        optimizer.zero_grad() ## Zero weights before calculating gradients\n",
    "        loss.backward() ## Calculate Gradients\n",
    "        optimizer.step() ## Update Weights\n",
    "\n",
    "        if i % 1000 == 0: ## Print Loss every 1000 epochs\n",
    "            print(\"Loss : {:.2f}\".format(loss))"
   ]
  },
  {
   "cell_type": "markdown",
   "id": "a6b7d5bb",
   "metadata": {},
   "source": [
    "## Оценка с оптимизаторами: Adam, RMSProp и SGD"
   ]
  },
  {
   "cell_type": "markdown",
   "id": "28c2f69a",
   "metadata": {},
   "source": [
    "**SGD**"
   ]
  },
  {
   "cell_type": "code",
   "execution_count": 13,
   "id": "0b8d2b49",
   "metadata": {},
   "outputs": [
    {
     "name": "stdout",
     "output_type": "stream",
     "text": [
      "Loss : 5.82\n",
      "Loss : 0.95\n",
      "Loss : 0.75\n",
      "Loss : 0.64\n",
      "Loss : 0.60\n"
     ]
    }
   ],
   "source": [
    "torch.manual_seed(42) ##For reproducibility.This will make sure that same random weights are initialized each time.\n",
    "\n",
    "epochs = 5000\n",
    "learning_rate = torch.tensor(0.001)\n",
    "\n",
    "regressor = Regressor()\n",
    "mse_loss = nn.MSELoss()\n",
    "optimizer = SGD(params=regressor.parameters(), lr=learning_rate)\n",
    "\n",
    "TrainModel(regressor, mse_loss, optimizer, X_train_reg, Y_train_reg, epochs=epochs)"
   ]
  },
  {
   "cell_type": "code",
   "execution_count": 14,
   "id": "647c6f7a",
   "metadata": {},
   "outputs": [
    {
     "name": "stdout",
     "output_type": "stream",
     "text": [
      "Test  R^2 Score : 0.24\n"
     ]
    }
   ],
   "source": [
    "test_preds = regressor(X_test_reg)\n",
    "print(\"Test  R^2 Score : {:.2f}\".format(r2_score(test_preds.detach().numpy().squeeze(), Y_test_reg.detach().numpy())))"
   ]
  },
  {
   "cell_type": "markdown",
   "id": "fd8616e1",
   "metadata": {},
   "source": [
    "**RMSProp**"
   ]
  },
  {
   "cell_type": "code",
   "execution_count": 15,
   "id": "f79256e1",
   "metadata": {},
   "outputs": [
    {
     "name": "stdout",
     "output_type": "stream",
     "text": [
      "Loss : 5.82\n",
      "Loss : 0.40\n",
      "Loss : 0.37\n",
      "Loss : 0.37\n",
      "Loss : 0.37\n"
     ]
    }
   ],
   "source": [
    "torch.manual_seed(42) ##For reproducibility.This will make sure that same random weights are initialized each time.\n",
    "\n",
    "epochs = 5000\n",
    "learning_rate = torch.tensor(0.001)\n",
    "\n",
    "regressor = Regressor()\n",
    "mse_loss = nn.MSELoss()\n",
    "optimizer = RMSprop(params=regressor.parameters(), lr=learning_rate)\n",
    "\n",
    "TrainModel(regressor, mse_loss, optimizer, X_train_reg, Y_train_reg, epochs=epochs)"
   ]
  },
  {
   "cell_type": "code",
   "execution_count": 16,
   "id": "2a6f39f2",
   "metadata": {},
   "outputs": [
    {
     "name": "stdout",
     "output_type": "stream",
     "text": [
      "Test  R^2 Score : 0.60\n"
     ]
    }
   ],
   "source": [
    "test_preds = regressor(X_test_reg)\n",
    "print(\"Test  R^2 Score : {:.2f}\".format(r2_score(test_preds.detach().numpy().squeeze(), Y_test_reg.detach().numpy())))"
   ]
  },
  {
   "cell_type": "markdown",
   "id": "aa9c4ffd",
   "metadata": {},
   "source": [
    "**Adam**"
   ]
  },
  {
   "cell_type": "code",
   "execution_count": 17,
   "id": "c5f370ae",
   "metadata": {},
   "outputs": [
    {
     "name": "stdout",
     "output_type": "stream",
     "text": [
      "Loss : 5.82\n",
      "Loss : 0.47\n",
      "Loss : 0.42\n",
      "Loss : 0.40\n",
      "Loss : 0.39\n"
     ]
    }
   ],
   "source": [
    "torch.manual_seed(42) ##For reproducibility.This will make sure that same random weights are initialized each time.\n",
    "\n",
    "epochs = 5000\n",
    "learning_rate = torch.tensor(0.001)\n",
    "\n",
    "regressor = Regressor()\n",
    "mse_loss = nn.MSELoss()\n",
    "optimizer = Adam(params=regressor.parameters(), lr=learning_rate)\n",
    "\n",
    "TrainModel(regressor, mse_loss, optimizer, X_train_reg, Y_train_reg, epochs=epochs)"
   ]
  },
  {
   "cell_type": "code",
   "execution_count": 18,
   "id": "771ebdef",
   "metadata": {},
   "outputs": [
    {
     "name": "stdout",
     "output_type": "stream",
     "text": [
      "Test  R^2 Score : 0.58\n"
     ]
    }
   ],
   "source": [
    "test_preds = regressor(X_test_reg)\n",
    "print(\"Test  R^2 Score : {:.2f}\".format(r2_score(test_preds.detach().numpy().squeeze(), Y_test_reg.detach().numpy())))"
   ]
  },
  {
   "cell_type": "markdown",
   "id": "73227a24",
   "metadata": {},
   "source": [
    "Как видно из результатов, лучшим оптимизатором оказался RMS. На втором месте, с чуть похуже метриками Adam, и со значительным отставанием SGD."
   ]
  },
  {
   "cell_type": "markdown",
   "id": "1261e696",
   "metadata": {},
   "source": [
    "---"
   ]
  }
 ],
 "metadata": {
  "kernelspec": {
   "display_name": "Python 3 (ipykernel)",
   "language": "python",
   "name": "python3"
  },
  "language_info": {
   "codemirror_mode": {
    "name": "ipython",
    "version": 3
   },
   "file_extension": ".py",
   "mimetype": "text/x-python",
   "name": "python",
   "nbconvert_exporter": "python",
   "pygments_lexer": "ipython3",
   "version": "3.9.16"
  }
 },
 "nbformat": 4,
 "nbformat_minor": 5
}
