{
 "cells": [
  {
   "cell_type": "markdown",
   "id": "5dc45589",
   "metadata": {},
   "source": [
    "# Практическое задание №7 по теме \"Рекурентные сети для обработки последовательностей\"."
   ]
  },
  {
   "cell_type": "markdown",
   "id": "d8ce66d1",
   "metadata": {},
   "source": [
    "1. Попробуйте обучить нейронную сеть GRU/LSTM для предсказания сентимента сообщений с твитера на примере https://www.kaggle.com/datasets/arkhoshghalb/twitter-sentiment-analysis-hatred-speech\n",
    "\n",
    "2. Опишите, какой результат вы получили? Что помогло вам улучшить ее точность?"
   ]
  },
  {
   "cell_type": "code",
   "execution_count": 1,
   "id": "2b2b2601",
   "metadata": {},
   "outputs": [],
   "source": [
    "import numpy as np\n",
    "import pandas as pd\n",
    "import matplotlib.pyplot as plt\n",
    "from sklearn.model_selection import train_test_split\n",
    "\n",
    "from string import punctuation\n",
    "from stop_words import get_stop_words\n",
    "from pymorphy2 import MorphAnalyzer\n",
    "import re\n",
    "\n",
    "from tqdm import tqdm \n",
    "import nltk\n",
    "from nltk.tokenize import word_tokenize\n",
    "from nltk.probability import FreqDist\n",
    "\n",
    "import torch\n",
    "import torch.nn as nn\n",
    "import torch.nn.functional as F\n",
    "from torch.utils.data import DataLoader, Dataset"
   ]
  },
  {
   "cell_type": "code",
   "execution_count": 2,
   "id": "8772b6b9",
   "metadata": {},
   "outputs": [
    {
     "data": {
      "text/plain": [
       "<torch._C.Generator at 0x1a1c0787570>"
      ]
     },
     "execution_count": 2,
     "metadata": {},
     "output_type": "execute_result"
    }
   ],
   "source": [
    "torch.manual_seed(42)"
   ]
  },
  {
   "cell_type": "markdown",
   "id": "ae99b0da",
   "metadata": {},
   "source": [
    "### Загрузка данных"
   ]
  },
  {
   "cell_type": "code",
   "execution_count": 3,
   "id": "2e08ee2e",
   "metadata": {},
   "outputs": [],
   "source": [
    "df = pd.read_csv(\"data/Twitter_Sentiment_Analysis/train.csv\")"
   ]
  },
  {
   "cell_type": "markdown",
   "id": "ba20c208",
   "metadata": {},
   "source": [
    "Так как в файле test.csv отсутствует целевой признак для валидации, возьмем файл train.csv и разделим его на тренировочную и валидационную выборки:"
   ]
  },
  {
   "cell_type": "code",
   "execution_count": 4,
   "id": "db585bb8",
   "metadata": {},
   "outputs": [],
   "source": [
    "train_df, val_df = train_test_split(df, test_size=0.20, random_state=42)"
   ]
  },
  {
   "cell_type": "code",
   "execution_count": 5,
   "id": "93ce404d",
   "metadata": {},
   "outputs": [
    {
     "data": {
      "text/html": [
       "<div>\n",
       "<style scoped>\n",
       "    .dataframe tbody tr th:only-of-type {\n",
       "        vertical-align: middle;\n",
       "    }\n",
       "\n",
       "    .dataframe tbody tr th {\n",
       "        vertical-align: top;\n",
       "    }\n",
       "\n",
       "    .dataframe thead th {\n",
       "        text-align: right;\n",
       "    }\n",
       "</style>\n",
       "<table border=\"1\" class=\"dataframe\">\n",
       "  <thead>\n",
       "    <tr style=\"text-align: right;\">\n",
       "      <th></th>\n",
       "      <th>id</th>\n",
       "      <th>label</th>\n",
       "      <th>tweet</th>\n",
       "    </tr>\n",
       "  </thead>\n",
       "  <tbody>\n",
       "    <tr>\n",
       "      <th>12110</th>\n",
       "      <td>12111</td>\n",
       "      <td>1</td>\n",
       "      <td>@user @user @user because i've been paying att...</td>\n",
       "    </tr>\n",
       "    <tr>\n",
       "      <th>14081</th>\n",
       "      <td>14082</td>\n",
       "      <td>0</td>\n",
       "      <td>@user raft building at salford quays as pa of...</td>\n",
       "    </tr>\n",
       "    <tr>\n",
       "      <th>1829</th>\n",
       "      <td>1830</td>\n",
       "      <td>0</td>\n",
       "      <td>friday ð",
       "ð» #gdegblog #friday #selfie   #b...</td>\n",
       "    </tr>\n",
       "    <tr>\n",
       "      <th>2769</th>\n",
       "      <td>2770</td>\n",
       "      <td>0</td>\n",
       "      <td>#fashion it is a true   #fact</td>\n",
       "    </tr>\n",
       "    <tr>\n",
       "      <th>31818</th>\n",
       "      <td>31819</td>\n",
       "      <td>0</td>\n",
       "      <td>so   to #share the #simple, #elegant #business...</td>\n",
       "    </tr>\n",
       "  </tbody>\n",
       "</table>\n",
       "</div>"
      ],
      "text/plain": [
       "          id  label                                              tweet\n",
       "12110  12111      1  @user @user @user because i've been paying att...\n",
       "14081  14082      0   @user raft building at salford quays as pa of...\n",
       "1829    1830      0  friday ð\n",
       "ð» #gdegblog #friday #selfie   #b...\n",
       "2769    2770      0                      #fashion it is a true   #fact\n",
       "31818  31819      0  so   to #share the #simple, #elegant #business..."
      ]
     },
     "execution_count": 5,
     "metadata": {},
     "output_type": "execute_result"
    }
   ],
   "source": [
    "train_df.head()"
   ]
  },
  {
   "cell_type": "code",
   "execution_count": 6,
   "id": "a9831c08",
   "metadata": {},
   "outputs": [
    {
     "data": {
      "text/html": [
       "<div>\n",
       "<style scoped>\n",
       "    .dataframe tbody tr th:only-of-type {\n",
       "        vertical-align: middle;\n",
       "    }\n",
       "\n",
       "    .dataframe tbody tr th {\n",
       "        vertical-align: top;\n",
       "    }\n",
       "\n",
       "    .dataframe thead th {\n",
       "        text-align: right;\n",
       "    }\n",
       "</style>\n",
       "<table border=\"1\" class=\"dataframe\">\n",
       "  <thead>\n",
       "    <tr style=\"text-align: right;\">\n",
       "      <th></th>\n",
       "      <th>id</th>\n",
       "      <th>label</th>\n",
       "      <th>tweet</th>\n",
       "    </tr>\n",
       "  </thead>\n",
       "  <tbody>\n",
       "    <tr>\n",
       "      <th>12227</th>\n",
       "      <td>12228</td>\n",
       "      <td>0</td>\n",
       "      <td>@user âmy mom says my smile is captivatingâ...</td>\n",
       "    </tr>\n",
       "    <tr>\n",
       "      <th>14709</th>\n",
       "      <td>14710</td>\n",
       "      <td>0</td>\n",
       "      <td>in 3 days i will be meeting my sis-n-law, coun...</td>\n",
       "    </tr>\n",
       "    <tr>\n",
       "      <th>19319</th>\n",
       "      <td>19320</td>\n",
       "      <td>0</td>\n",
       "      <td>hating the conservative homophobes using this ...</td>\n",
       "    </tr>\n",
       "    <tr>\n",
       "      <th>4308</th>\n",
       "      <td>4309</td>\n",
       "      <td>0</td>\n",
       "      <td>awee if this doesn't  #scream   #friday #acewe...</td>\n",
       "    </tr>\n",
       "    <tr>\n",
       "      <th>24055</th>\n",
       "      <td>24056</td>\n",
       "      <td>0</td>\n",
       "      <td>fathersday  #fatherÃ¢ÂÂs #day #god! #ÃÂ« #...</td>\n",
       "    </tr>\n",
       "  </tbody>\n",
       "</table>\n",
       "</div>"
      ],
      "text/plain": [
       "          id  label                                              tweet\n",
       "12227  12228      0   @user âmy mom says my smile is captivatingâ...\n",
       "14709  14710      0  in 3 days i will be meeting my sis-n-law, coun...\n",
       "19319  19320      0  hating the conservative homophobes using this ...\n",
       "4308    4309      0  awee if this doesn't  #scream   #friday #acewe...\n",
       "24055  24056      0   fathersday  #fatherÃ¢ÂÂs #day #god! #ÃÂ« #..."
      ]
     },
     "execution_count": 6,
     "metadata": {},
     "output_type": "execute_result"
    }
   ],
   "source": [
    "val_df.head()"
   ]
  },
  {
   "cell_type": "markdown",
   "id": "83d542d1",
   "metadata": {},
   "source": [
    "Присутствует дисбаланс классов:"
   ]
  },
  {
   "cell_type": "code",
   "execution_count": 7,
   "id": "6ccdea08",
   "metadata": {},
   "outputs": [
    {
     "data": {
      "text/plain": [
       "0    23783\n",
       "1     1786\n",
       "Name: label, dtype: int64"
      ]
     },
     "execution_count": 7,
     "metadata": {},
     "output_type": "execute_result"
    }
   ],
   "source": [
    "train_df['label'].value_counts()"
   ]
  },
  {
   "cell_type": "code",
   "execution_count": 8,
   "id": "93f781e1",
   "metadata": {},
   "outputs": [
    {
     "data": {
      "text/plain": [
       "0    5937\n",
       "1     456\n",
       "Name: label, dtype: int64"
      ]
     },
     "execution_count": 8,
     "metadata": {},
     "output_type": "execute_result"
    }
   ],
   "source": [
    "val_df['label'].value_counts()"
   ]
  },
  {
   "cell_type": "markdown",
   "id": "019ed8e9",
   "metadata": {},
   "source": [
    "### Обработка"
   ]
  },
  {
   "cell_type": "code",
   "execution_count": 9,
   "id": "4b9e603a",
   "metadata": {},
   "outputs": [],
   "source": [
    "max_words = 2000\n",
    "max_len = 20\n",
    "num_classes = 1"
   ]
  },
  {
   "cell_type": "code",
   "execution_count": 10,
   "id": "74bfa301",
   "metadata": {},
   "outputs": [],
   "source": [
    "sw = set(get_stop_words(\"en\"))"
   ]
  },
  {
   "cell_type": "code",
   "execution_count": 11,
   "id": "2ec97b44",
   "metadata": {},
   "outputs": [
    {
     "data": {
      "text/plain": [
       "{'!',\n",
       " '\"',\n",
       " '#',\n",
       " '$',\n",
       " '%',\n",
       " '&',\n",
       " \"'\",\n",
       " '(',\n",
       " ')',\n",
       " '*',\n",
       " '+',\n",
       " ',',\n",
       " '-',\n",
       " '.',\n",
       " '/',\n",
       " ':',\n",
       " ';',\n",
       " '<',\n",
       " '=',\n",
       " '>',\n",
       " '?',\n",
       " '@',\n",
       " '[',\n",
       " '\\\\',\n",
       " ']',\n",
       " '^',\n",
       " '_',\n",
       " '`',\n",
       " '{',\n",
       " '|',\n",
       " '}',\n",
       " '~'}"
      ]
     },
     "execution_count": 11,
     "metadata": {},
     "output_type": "execute_result"
    }
   ],
   "source": [
    "puncts = set(punctuation)\n",
    "puncts"
   ]
  },
  {
   "cell_type": "code",
   "execution_count": 12,
   "id": "ca5ef5b6",
   "metadata": {},
   "outputs": [],
   "source": [
    "morpher = MorphAnalyzer()\n",
    "\n",
    "\n",
    "def preprocess_text(txt):\n",
    "    txt = str(txt)\n",
    "    txt = \"\".join(c for c in txt if c not in puncts)\n",
    "    txt = txt.lower()\n",
    "    txt = re.sub(\"не\\s\", \"не\", txt)\n",
    "    txt = [morpher.parse(word)[0].normal_form for word in txt.split() if word not in sw]\n",
    "    return \" \".join(txt)"
   ]
  },
  {
   "cell_type": "code",
   "execution_count": 13,
   "id": "ef6bc099",
   "metadata": {},
   "outputs": [
    {
     "name": "stderr",
     "output_type": "stream",
     "text": [
      "100%|██████████████████████████████████████████████████████████████████████████| 25569/25569 [00:03<00:00, 6395.93it/s]\n",
      "100%|████████████████████████████████████████████████████████████████████████████| 6393/6393 [00:01<00:00, 6276.63it/s]\n"
     ]
    }
   ],
   "source": [
    "tqdm.pandas()\n",
    "\n",
    "train_df['tweet'] = train_df['tweet'].progress_apply(preprocess_text)\n",
    "val_df['tweet'] = val_df['tweet'].progress_apply(preprocess_text)"
   ]
  },
  {
   "cell_type": "code",
   "execution_count": 14,
   "id": "42d2c16b",
   "metadata": {},
   "outputs": [],
   "source": [
    "train_corpus = \" \".join(train_df[\"tweet\"])\n",
    "train_corpus = train_corpus.lower()"
   ]
  },
  {
   "cell_type": "code",
   "execution_count": 15,
   "id": "410d9380",
   "metadata": {},
   "outputs": [
    {
     "name": "stderr",
     "output_type": "stream",
     "text": [
      "[nltk_data] Error loading punkt: <urlopen error [Errno 11001]\n",
      "[nltk_data]     getaddrinfo failed>\n"
     ]
    },
    {
     "data": {
      "text/plain": [
       "['user', 'user', 'user', 'ive', 'paying']"
      ]
     },
     "execution_count": 15,
     "metadata": {},
     "output_type": "execute_result"
    }
   ],
   "source": [
    "nltk.download(\"punkt\")\n",
    "\n",
    "tokens = word_tokenize(train_corpus)\n",
    "tokens[:5]"
   ]
  },
  {
   "cell_type": "code",
   "execution_count": 16,
   "id": "2b4eac1e",
   "metadata": {},
   "outputs": [],
   "source": [
    "tokens_filtered = [word for word in tokens if word.isalnum()]"
   ]
  },
  {
   "cell_type": "code",
   "execution_count": 17,
   "id": "d4baba2e",
   "metadata": {},
   "outputs": [
    {
     "data": {
      "text/plain": [
       "1999"
      ]
     },
     "execution_count": 17,
     "metadata": {},
     "output_type": "execute_result"
    }
   ],
   "source": [
    "dist = FreqDist(tokens_filtered)\n",
    "tokens_filtered_top = [pair[0] for pair in dist.most_common(max_words-1)]  # вычитание 1 для padding\n",
    "len(tokens_filtered_top)"
   ]
  },
  {
   "cell_type": "code",
   "execution_count": 18,
   "id": "c0bac6f9",
   "metadata": {},
   "outputs": [
    {
     "data": {
      "text/plain": [
       "['user', 'love', 'day', 'happy', 'amp', 'just', 'will', 'im', 'u', 'life']"
      ]
     },
     "execution_count": 18,
     "metadata": {},
     "output_type": "execute_result"
    }
   ],
   "source": [
    "tokens_filtered_top[:10]"
   ]
  },
  {
   "cell_type": "code",
   "execution_count": 19,
   "id": "22d4b8f9",
   "metadata": {},
   "outputs": [],
   "source": [
    "vocabulary = {v: k for k, v in dict(enumerate(tokens_filtered_top, 1)).items()}"
   ]
  },
  {
   "cell_type": "code",
   "execution_count": 20,
   "id": "c7cfdd3c",
   "metadata": {},
   "outputs": [],
   "source": [
    "def text_to_sequence(text, maxlen):\n",
    "    result = []\n",
    "    tokens = word_tokenize(text.lower())\n",
    "    tokens_filtered = [word for word in tokens if word.isalnum()]\n",
    "    for word in tokens_filtered:\n",
    "        if word in vocabulary:\n",
    "            result.append(vocabulary[word])\n",
    "\n",
    "    padding = [0] * (maxlen-len(result))\n",
    "    return result[-maxlen:] + padding"
   ]
  },
  {
   "cell_type": "code",
   "execution_count": 21,
   "id": "d8ef9a43",
   "metadata": {},
   "outputs": [
    {
     "name": "stdout",
     "output_type": "stream",
     "text": [
      "CPU times: total: 2.31 s\n",
      "Wall time: 2.32 s\n"
     ]
    }
   ],
   "source": [
    "%%time\n",
    "x_train = np.asarray([text_to_sequence(text, max_len) for text in train_df[\"tweet\"]])\n",
    "x_val = np.asarray([text_to_sequence(text, max_len) for text in val_df[\"tweet\"]])"
   ]
  },
  {
   "cell_type": "markdown",
   "id": "5ac7963e",
   "metadata": {},
   "source": [
    "### Построение сети и обучение"
   ]
  },
  {
   "cell_type": "code",
   "execution_count": 22,
   "id": "00839fa6",
   "metadata": {},
   "outputs": [],
   "source": [
    "batch_size = 512\n",
    "print_batch_n = 100"
   ]
  },
  {
   "cell_type": "code",
   "execution_count": 23,
   "id": "934b056b",
   "metadata": {},
   "outputs": [],
   "source": [
    "class DataWrapper(Dataset):\n",
    "    def __init__(self, data, target, transform=None):\n",
    "        self.data = torch.from_numpy(data).long()\n",
    "        self.target = torch.from_numpy(target).long()\n",
    "        self.transform = transform\n",
    "        \n",
    "    def __getitem__(self, index):\n",
    "        x = self.data[index]\n",
    "        y = self.target[index]\n",
    "        \n",
    "        if self.transform:\n",
    "            x = self.transform(x)\n",
    "            \n",
    "        return x, y\n",
    "    \n",
    "    def __len__(self):\n",
    "        return len(self.data)"
   ]
  },
  {
   "cell_type": "code",
   "execution_count": 24,
   "id": "9e33f2d7",
   "metadata": {},
   "outputs": [],
   "source": [
    "train_dataset = DataWrapper(x_train, train_df['label'].values)\n",
    "train_loader = DataLoader(train_dataset, batch_size=batch_size, shuffle=True)\n",
    "\n",
    "val_dataset = DataWrapper(x_val, val_df['label'].values)\n",
    "val_loader = DataLoader(val_dataset, batch_size=8, shuffle=True)"
   ]
  },
  {
   "cell_type": "markdown",
   "id": "d55511dc",
   "metadata": {},
   "source": [
    "#### Создадим и обучим сеть LSTM"
   ]
  },
  {
   "cell_type": "code",
   "execution_count": 25,
   "id": "1660f5ba",
   "metadata": {},
   "outputs": [],
   "source": [
    "epochs = 10"
   ]
  },
  {
   "cell_type": "code",
   "execution_count": 26,
   "id": "dcbaaa6e",
   "metadata": {},
   "outputs": [],
   "source": [
    "class LSTMFixedLen(nn.Module) :\n",
    "    def __init__(self, vocab_size, embedding_dim=128, hidden_dim=128, use_last=True):\n",
    "        super().__init__()\n",
    "        self.use_last = use_last\n",
    "        self.embeddings = nn.Embedding(vocab_size, embedding_dim, padding_idx=0)\n",
    "        self.lstm = nn.LSTM(embedding_dim, hidden_dim, num_layers=2, batch_first=True)\n",
    "        self.linear = nn.Linear(hidden_dim, 1)\n",
    "        self.dropout = nn.Dropout(0.2)\n",
    "        \n",
    "    def forward(self, x):\n",
    "        x = self.embeddings(x)\n",
    "        x = self.dropout(x)\n",
    "        lstm_out, ht = self.lstm(x)\n",
    "       \n",
    "        if self.use_last:\n",
    "            last_tensor = lstm_out[:,-1,:]\n",
    "        else:\n",
    "            # use mean\n",
    "            last_tensor = torch.mean(lstm_out[:,:], dim=1)\n",
    "    \n",
    "        out = self.linear(last_tensor)\n",
    "        # print(out.shape)\n",
    "        return torch.sigmoid(out)"
   ]
  },
  {
   "cell_type": "code",
   "execution_count": 27,
   "id": "b5fea49e",
   "metadata": {},
   "outputs": [],
   "source": [
    "lstm_init = LSTMFixedLen(max_words, 128, 20, use_last=False)\n",
    "optimizer = torch.optim.Adam(lstm_init.parameters(), lr=0.001)\n",
    "criterion = nn.BCELoss()"
   ]
  },
  {
   "cell_type": "code",
   "execution_count": 28,
   "id": "a41fed6a",
   "metadata": {},
   "outputs": [
    {
     "name": "stdout",
     "output_type": "stream",
     "text": [
      "LSTMFixedLen(\n",
      "  (embeddings): Embedding(2000, 128, padding_idx=0)\n",
      "  (lstm): LSTM(128, 20, num_layers=2, batch_first=True)\n",
      "  (linear): Linear(in_features=20, out_features=1, bias=True)\n",
      "  (dropout): Dropout(p=0.2, inplace=False)\n",
      ")\n",
      "Parameters: 271381\n"
     ]
    }
   ],
   "source": [
    "print(lstm_init)\n",
    "print(\"Parameters:\", sum([param.nelement() for param in lstm_init.parameters()]))"
   ]
  },
  {
   "cell_type": "code",
   "execution_count": 29,
   "id": "70fa5fca",
   "metadata": {},
   "outputs": [
    {
     "data": {
      "text/plain": [
       "'cuda'"
      ]
     },
     "execution_count": 29,
     "metadata": {},
     "output_type": "execute_result"
    }
   ],
   "source": [
    "device = 'cuda' if torch.cuda.is_available() else 'cpu'\n",
    "device"
   ]
  },
  {
   "cell_type": "code",
   "execution_count": 30,
   "id": "66fb35f6",
   "metadata": {},
   "outputs": [
    {
     "name": "stdout",
     "output_type": "stream",
     "text": [
      "Epoch [1/10]. Step [50/50]. Loss: 0.387. Acc: 0.737. Test loss: 0.347. Test acc: 0.929\n",
      "Epoch [2/10]. Step [50/50]. Loss: 0.274. Acc: 0.930. Test loss: 0.069. Test acc: 0.929\n",
      "Epoch [3/10]. Step [50/50]. Loss: 0.242. Acc: 0.930. Test loss: 0.069. Test acc: 0.929\n",
      "Epoch [4/10]. Step [50/50]. Loss: 0.205. Acc: 0.932. Test loss: 0.059. Test acc: 0.941\n",
      "Epoch [5/10]. Step [50/50]. Loss: 0.164. Acc: 0.944. Test loss: 0.027. Test acc: 0.943\n",
      "Epoch [6/10]. Step [50/50]. Loss: 0.167. Acc: 0.948. Test loss: 0.018. Test acc: 0.947\n",
      "Epoch [7/10]. Step [50/50]. Loss: 0.144. Acc: 0.951. Test loss: 0.016. Test acc: 0.948\n",
      "Epoch [8/10]. Step [50/50]. Loss: 0.128. Acc: 0.955. Test loss: 0.010. Test acc: 0.948\n",
      "Epoch [9/10]. Step [50/50]. Loss: 0.114. Acc: 0.957. Test loss: 0.007. Test acc: 0.948\n",
      "Epoch [10/10]. Step [50/50]. Loss: 0.121. Acc: 0.958. Test loss: 0.011. Test acc: 0.948\n",
      "Training is finished!\n"
     ]
    }
   ],
   "source": [
    "lstm_init = lstm_init.to(device)\n",
    "lstm_init.train()\n",
    "th = 0.5\n",
    "\n",
    "train_loss_history_LSTM = []\n",
    "test_loss_history_LSTM = []\n",
    "\n",
    "\n",
    "for epoch in range(epochs):  \n",
    "    lstm_init.train()\n",
    "    running_items, running_right = 0.0, 0.0\n",
    "    for i, data in enumerate(train_loader, 0):\n",
    "        inputs, labels = data[0].to(device), data[1].to(device)\n",
    "\n",
    "        # обнуляем градиент\n",
    "        optimizer.zero_grad()\n",
    "        outputs = lstm_init(inputs)\n",
    "        \n",
    "        loss = criterion(outputs, labels.float().view(-1, 1))\n",
    "        loss.backward()\n",
    "        optimizer.step()\n",
    "\n",
    "        # подсчет ошибки на обучении\n",
    "        loss = loss.item()\n",
    "        running_items += len(labels)\n",
    "        # подсчет метрики на обучении\n",
    "        pred_labels = torch.squeeze((outputs > th).int())\n",
    "        running_right += (labels == pred_labels).sum()\n",
    "        \n",
    "    # выводим статистику о процессе обучения\n",
    "    lstm_init.eval()\n",
    "    \n",
    "    print(f'Epoch [{epoch + 1}/{epochs}]. ' \\\n",
    "            f'Step [{i + 1}/{len(train_loader)}]. ' \\\n",
    "            f'Loss: {loss:.3f}. ' \\\n",
    "            f'Acc: {running_right / running_items:.3f}', end='. ')\n",
    "    running_loss, running_items, running_right = 0.0, 0.0, 0.0\n",
    "    train_loss_history_LSTM.append(loss)\n",
    "\n",
    "    # выводим статистику на тестовых данных\n",
    "    test_running_right, test_running_total, test_loss = 0.0, 0.0, 0.0\n",
    "    for j, data in enumerate(val_loader):\n",
    "        test_labels = data[1].to(device)\n",
    "        test_outputs = lstm_init(data[0].to(device))\n",
    "        \n",
    "        # подсчет ошибки на тесте\n",
    "        test_loss = criterion(test_outputs, test_labels.float().view(-1, 1))\n",
    "        # подсчет метрики на тесте\n",
    "        test_running_total += len(data[1])\n",
    "        pred_test_labels = torch.squeeze((test_outputs > th).int())\n",
    "        test_running_right += (test_labels == pred_test_labels).sum()\n",
    "    \n",
    "    test_loss_history_LSTM.append(test_loss.item())\n",
    "    print(f'Test loss: {test_loss:.3f}. Test acc: {test_running_right / test_running_total:.3f}')\n",
    "        \n",
    "print('Training is finished!')"
   ]
  },
  {
   "cell_type": "code",
   "execution_count": 31,
   "id": "15d0a9e8",
   "metadata": {},
   "outputs": [],
   "source": [
    "t_l_LSTM = test_loss_history_LSTM[epochs-1]\n",
    "t_acc_LSTM = ((test_running_right / test_running_total).cpu()).numpy()"
   ]
  },
  {
   "cell_type": "markdown",
   "id": "d442d829",
   "metadata": {},
   "source": [
    "#### Создадим и обучим GRU"
   ]
  },
  {
   "cell_type": "code",
   "execution_count": 32,
   "id": "3abae60a",
   "metadata": {},
   "outputs": [],
   "source": [
    "epochs = 15"
   ]
  },
  {
   "cell_type": "code",
   "execution_count": 33,
   "id": "076e75c7",
   "metadata": {},
   "outputs": [],
   "source": [
    "class GRUFixedLen(nn.Module) :\n",
    "    def __init__(self, vocab_size, embedding_dim=128, hidden_dim=128, use_last=True):\n",
    "        super().__init__()\n",
    "        self.use_last = use_last\n",
    "        self.embeddings = nn.Embedding(vocab_size, embedding_dim, padding_idx=0)\n",
    "        self.gru = nn.GRU(embedding_dim, hidden_dim, num_layers=2, batch_first=True, )\n",
    "        self.linear = nn.Linear(hidden_dim, 1)\n",
    "        self.dropout = nn.Dropout(0.2)\n",
    "        \n",
    "    def forward(self, x):\n",
    "        x = self.embeddings(x)\n",
    "        x = self.dropout(x)\n",
    "        gru_out, ht = self.gru(x)\n",
    "       \n",
    "        if self.use_last:\n",
    "            last_tensor = gru_out[:,-1,:]\n",
    "        else:\n",
    "            # use mean\n",
    "            last_tensor = torch.mean(gru_out[:,:], dim=1)\n",
    "    \n",
    "        out = self.linear(last_tensor)\n",
    "        return torch.sigmoid(out)"
   ]
  },
  {
   "cell_type": "code",
   "execution_count": 34,
   "id": "ad9d92a0",
   "metadata": {},
   "outputs": [],
   "source": [
    "gru_init = GRUFixedLen(max_words, 128, 20, use_last=False)\n",
    "optimizer = torch.optim.Adam(gru_init.parameters(), lr=0.001)\n",
    "criterion = nn.BCELoss()"
   ]
  },
  {
   "cell_type": "code",
   "execution_count": 35,
   "id": "755cf4b0",
   "metadata": {},
   "outputs": [
    {
     "name": "stdout",
     "output_type": "stream",
     "text": [
      "GRUFixedLen(\n",
      "  (embeddings): Embedding(2000, 128, padding_idx=0)\n",
      "  (gru): GRU(128, 20, num_layers=2, batch_first=True)\n",
      "  (linear): Linear(in_features=20, out_features=1, bias=True)\n",
      "  (dropout): Dropout(p=0.2, inplace=False)\n",
      ")\n",
      "Parameters: 267541\n"
     ]
    }
   ],
   "source": [
    "print(gru_init)\n",
    "print(\"Parameters:\", sum([param.nelement() for param in gru_init.parameters()]))"
   ]
  },
  {
   "cell_type": "code",
   "execution_count": 36,
   "id": "003e69fa",
   "metadata": {
    "scrolled": false
   },
   "outputs": [
    {
     "name": "stdout",
     "output_type": "stream",
     "text": [
      "Epoch [1/15]. Step [50/50]. Loss: 0.291. Acc: 0.674. Test loss: 0.180. Test acc: 0.929\n",
      "Epoch [2/15]. Step [50/50]. Loss: 0.269. Acc: 0.930. Test loss: 0.069. Test acc: 0.929\n",
      "Epoch [3/15]. Step [50/50]. Loss: 0.252. Acc: 0.930. Test loss: 1.310. Test acc: 0.931\n",
      "Epoch [4/15]. Step [50/50]. Loss: 0.209. Acc: 0.937. Test loss: 0.061. Test acc: 0.942\n",
      "Epoch [5/15]. Step [50/50]. Loss: 0.182. Acc: 0.946. Test loss: 0.033. Test acc: 0.946\n",
      "Epoch [6/15]. Step [50/50]. Loss: 0.162. Acc: 0.949. Test loss: 2.822. Test acc: 0.946\n",
      "Epoch [7/15]. Step [50/50]. Loss: 0.097. Acc: 0.953. Test loss: 0.016. Test acc: 0.948\n",
      "Epoch [8/15]. Step [50/50]. Loss: 0.114. Acc: 0.957. Test loss: 0.016. Test acc: 0.948\n",
      "Epoch [9/15]. Step [50/50]. Loss: 0.090. Acc: 0.957. Test loss: 1.004. Test acc: 0.947\n",
      "Epoch [10/15]. Step [50/50]. Loss: 0.123. Acc: 0.960. Test loss: 0.009. Test acc: 0.947\n",
      "Epoch [11/15]. Step [50/50]. Loss: 0.138. Acc: 0.962. Test loss: 0.032. Test acc: 0.950\n",
      "Epoch [12/15]. Step [50/50]. Loss: 0.123. Acc: 0.962. Test loss: 0.012. Test acc: 0.949\n",
      "Epoch [13/15]. Step [50/50]. Loss: 0.103. Acc: 0.964. Test loss: 0.008. Test acc: 0.949\n",
      "Epoch [14/15]. Step [50/50]. Loss: 0.122. Acc: 0.965. Test loss: 0.008. Test acc: 0.950\n",
      "Epoch [15/15]. Step [50/50]. Loss: 0.092. Acc: 0.967. Test loss: 0.006. Test acc: 0.952\n",
      "Training is finished!\n"
     ]
    }
   ],
   "source": [
    "gru_init = gru_init.to(device)\n",
    "gru_init.train()\n",
    "th = 0.5\n",
    "\n",
    "train_loss_history_GRU = []\n",
    "test_loss_history_GRU = []\n",
    "\n",
    "\n",
    "for epoch in range(epochs): \n",
    "    gru_init.train() \n",
    "    running_items, running_right = 0.0, 0.0\n",
    "    for i, data in enumerate(train_loader, 0):\n",
    "        inputs, labels = data[0].to(device), data[1].to(device)\n",
    "\n",
    "        # обнуляем градиент\n",
    "        optimizer.zero_grad()\n",
    "        outputs = gru_init(inputs)\n",
    "        \n",
    "        loss = criterion(outputs, labels.float().view(-1, 1))\n",
    "        loss.backward()\n",
    "        optimizer.step()\n",
    "\n",
    "        # подсчет ошибки на обучении\n",
    "        loss = loss.item()\n",
    "        running_items += len(labels)\n",
    "        # подсчет метрики на обучении\n",
    "        pred_labels = torch.squeeze((outputs > th).int())\n",
    "        running_right += (labels == pred_labels).sum()\n",
    "        \n",
    "    # выводим статистику о процессе обучения\n",
    "    gru_init.eval()\n",
    "    \n",
    "    print(f'Epoch [{epoch + 1}/{epochs}]. ' \\\n",
    "          f'Step [{i + 1}/{len(train_loader)}]. ' \\\n",
    "          f'Loss: {loss:.3f}. ' \\\n",
    "          f'Acc: {running_right / running_items:.3f}', end='. ')\n",
    "    running_loss, running_items, running_right = 0.0, 0.0, 0.0\n",
    "    train_loss_history_GRU.append(loss)\n",
    "\n",
    "    # выводим статистику на тестовых данных\n",
    "    test_running_right, test_running_total, test_loss = 0.0, 0.0, 0.0\n",
    "    for j, data in enumerate(val_loader):\n",
    "        test_labels = data[1].to(device)\n",
    "        test_outputs = gru_init(data[0].to(device))\n",
    "        \n",
    "        # подсчет ошибки на тесте\n",
    "        test_loss = criterion(test_outputs, test_labels.float().view(-1, 1))\n",
    "        # подсчет метрики на тесте\n",
    "        test_running_total += len(data[1])\n",
    "        pred_test_labels = torch.squeeze((test_outputs > th).int())\n",
    "        test_running_right += (test_labels == pred_test_labels).sum()\n",
    "    \n",
    "    test_loss_history_GRU.append(test_loss.item())\n",
    "    print(f'Test loss: {test_loss:.3f}. Test acc: {test_running_right / test_running_total:.3f}')\n",
    "            \n",
    "print('Training is finished!')"
   ]
  },
  {
   "cell_type": "code",
   "execution_count": 37,
   "id": "78ca6455",
   "metadata": {},
   "outputs": [],
   "source": [
    "t_l_GRU = test_loss_history_GRU[epochs-1]\n",
    "t_acc_GRU = ((test_running_right / test_running_total).cpu()).numpy()"
   ]
  },
  {
   "cell_type": "markdown",
   "id": "46aefa1f",
   "metadata": {},
   "source": [
    "#### Результаты"
   ]
  },
  {
   "cell_type": "code",
   "execution_count": 38,
   "id": "9824e36c",
   "metadata": {},
   "outputs": [
    {
     "data": {
      "image/png": "[encoded data removed]",
      "text/plain": [
       "<Figure size 1200x1200 with 2 Axes>"
      ]
     },
     "metadata": {},
     "output_type": "display_data"
    }
   ],
   "source": [
    "fig, (ax1, ax2) = plt.subplots(2, 1, figsize=(12, 12))\n",
    "fig.suptitle('Horizontally stacked subplots')\n",
    "ax1.set_title('Loss history LSTM')\n",
    "ax1.grid(True)\n",
    "ax1.plot(train_loss_history_LSTM, label='train')\n",
    "ax1.plot(test_loss_history_LSTM, label='test')\n",
    "ax1.legend()\n",
    "\n",
    "ax2.set_title('Loss history GRU')\n",
    "ax2.grid(True)\n",
    "ax2.plot(train_loss_history_GRU, label='train')\n",
    "ax2.plot(test_loss_history_GRU, label='test')\n",
    "ax2.legend()\n",
    "plt.show()"
   ]
  },
  {
   "cell_type": "code",
   "execution_count": 45,
   "id": "f9303283",
   "metadata": {
    "scrolled": false
   },
   "outputs": [
    {
     "name": "stdout",
     "output_type": "stream",
     "text": [
      "Test loss LSTM: 0.011, Test acc LSTM: 0.948\n",
      "Test loss GRU: 0.006, Test acc GRU: 0.952\n"
     ]
    }
   ],
   "source": [
    "print(f'Test loss LSTM: {t_l_LSTM:.3f}, Test acc LSTM: {t_acc_LSTM:.3f}')\n",
    "print(f'Test loss GRU: {t_l_GRU:.3f}, Test acc GRU: {t_acc_GRU:.3f}')"
   ]
  },
  {
   "cell_type": "markdown",
   "id": "8e6c6004",
   "metadata": {},
   "source": [
    "**Вывод:** \n",
    "\n",
    "Результаты самописной сверточной сети для текстов из задания прошлого урока: \n",
    "\n",
    "Loss: 0.011. Acc: 0.997. Test loss: 0.000. Test acc: 0.944\n",
    "\n",
    "\n",
    "||Test Loss|Test Acc|\n",
    "|-|-|-|\n",
    "|**LSTM**|0.011|0.948|\n",
    "|**GRU**|0.006|0.952|\n",
    "|**Самописная**|0.000|0.944|\n",
    "\n",
    "Увеличение количество эпох с 5 до 10 в LSTM и с 5 до 15 в GRU оказалось избыточным, как в задании предыдущего урока. Потери сети LSTM вышли на плато на 8 эпохе, а потери GRU сделали это на 9 эпохе. При этом на графиках потерь мы видим, что потери GRU похожи на пики и довольно неровные, что на фоне LSTM выглядят хуже.\n",
    "\n",
    "Значения метрики *Accuracy* на тестовой выборке не сильно разняться. Лучшим оказалась модель  GRU. Если сравнить результаты с самописной сеткой из задания предыдущего урока, то на тестовых данных модели LSTM и GRU ее превзошли, но незначительно. "
   ]
  },
  {
   "cell_type": "markdown",
   "id": "7970c7d4",
   "metadata": {},
   "source": [
    "---"
   ]
  }
 ],
 "metadata": {
  "kernelspec": {
   "display_name": "Python 3 (ipykernel)",
   "language": "python",
   "name": "python3"
  },
  "language_info": {
   "codemirror_mode": {
    "name": "ipython",
    "version": 3
   },
   "file_extension": ".py",
   "mimetype": "text/x-python",
   "name": "python",
   "nbconvert_exporter": "python",
   "pygments_lexer": "ipython3",
   "version": "3.9.16"
  }
 },
 "nbformat": 4,
 "nbformat_minor": 5
}
