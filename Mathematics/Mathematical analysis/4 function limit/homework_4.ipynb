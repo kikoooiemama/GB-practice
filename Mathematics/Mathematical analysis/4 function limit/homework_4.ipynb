{
 "cells": [
  {
   "cell_type": "markdown",
   "id": "8c62c2d9",
   "metadata": {},
   "source": [
    "## Практическое задание №4 по теме \"Функция. Предел функции\""
   ]
  },
  {
   "cell_type": "markdown",
   "id": "648832c4",
   "metadata": {},
   "source": [
    "__1.__ Найти предел функции:\n",
    "\n",
    "### $$а)\\,\\,\\,\\,\\lim_{x\\to 6} \\frac{x^2-36}{x^2-x-30}$$\n",
    "\n",
    "### $$б)\\,\\,\\,\\,\\lim_{x\\to 7} \\frac{x^2-49}{x^2-13x+42}$$\n",
    "\n",
    "### $$в^*)\\,\\,\\,\\,\\lim_{x\\to 7} \\frac{\\sqrt{x+2}-\\sqrt[3]{x+20}}{\\sqrt[4]{x+9}-2}$$\n",
    "\n",
    "### $$г)\\,\\,\\,\\,\\lim_{x\\to 0} \\frac{3x\\,\\mbox{tg}\\,4x}{1-\\cos4x}$$\n",
    "\n",
    "### $$д^{**})\\,\\,\\,\\,\\lim_{x\\to 0} \\frac{\\sqrt2x^2\\sin4x}{(1-\\cos2x)^{\\frac{3}{2}}}$$\n",
    "\n",
    "### $$е)\\,\\,\\,\\,\\lim_{x\\to \\infty} \\Bigr(\\frac{4x}{4x+3}\\Bigl)^\\frac{5x^2}{7x-1}$$\n",
    "\n",
    "### $$ж^*)\\,\\,\\,\\,\\lim_{x\\to +0} \\frac{5^x-1}{x}$$\n",
    "\n",
    "### $$з^*)\\,\\,\\,\\,\\lim_{x\\to +\\infty} \\frac{\\ln(x^2-x+1)}{\\ln(x^{10}+x+1)}$$"
   ]
  },
  {
   "cell_type": "markdown",
   "id": "127ad782",
   "metadata": {},
   "source": [
    "**Решение**"
   ]
  },
  {
   "cell_type": "markdown",
   "id": "9727c94d",
   "metadata": {},
   "source": [
    "**а)**\n",
    "\n",
    "$$\\lim_{x\\to 6} \\frac{x^2-36}{x^2-x-30} = \\lim_{x\\to 6} \\frac{(x-6)(x+6)}{(x-6)(x+5)}= \\lim_{x\\to 6} \\frac{x+6}{x+5} = \\frac{12}{11}$$"
   ]
  },
  {
   "cell_type": "markdown",
   "id": "785e785e",
   "metadata": {},
   "source": [
    "**б)**\n",
    "\n",
    "$$\\lim_{x\\to 7} \\frac{x^2-49}{x^2-13x+42} = \\lim_{x\\to 7} \\frac{(x-7)(x+7)}{(x-7)(x-6)} = \\lim_{x\\to 7} \\frac{x+7}{x-6}=\\frac{14}{1}=14$$"
   ]
  },
  {
   "cell_type": "markdown",
   "id": "c1cfd0f4",
   "metadata": {},
   "source": [
    "**в)**\n",
    "\n",
    "$$\\lim_{x\\to 7} \\frac{\\sqrt{x+2}-\\sqrt[3]{x+20}}{\\sqrt[4]{x+9}-2} = \\lim_{x\\to 7} \\frac{\\sqrt{x+2}-\\sqrt[3]{x+20}}{\\sqrt[4]{x+9}-2}\\cdot\\frac{\\sqrt{x+2}+\\sqrt[3]{x+20}}{\\sqrt{x+2}+\\sqrt[3]{x+20}} = $$\n",
    "\n",
    "$$=\\lim_{x\\to 7} \\frac{x+2-\\sqrt[3]{(x+20)^2}}{\\sqrt[4]{x+9}-2}\\cdot\\frac{1}{\\sqrt{x+2}+\\sqrt[3]{x+20}}\\cdot\\frac{\\sqrt[4]{x+9}+2}{\\sqrt[4]{x+9}+2} = $$\n",
    "\n",
    "\n",
    "$$=\\lim_{x\\to 7} \\frac{x+2-\\sqrt[3]{(x+20)^2}}{\\sqrt{x+9}-4}\\cdot\\frac{\\sqrt[4]{x+9}+2}{\\sqrt{x+2}+\\sqrt[3]{x+20}}= \\lim_{x\\to 7} \\frac{x+2-\\sqrt[3]{(x+20)^2}}{\\sqrt{x+9}-4}\\cdot\\frac{4}{6}=$$\n",
    "\n",
    "$$=\\lim_{x\\to 7} \\frac{x+2-\\sqrt[3]{(x+20)^2}}{\\sqrt{x+9}-4}\\cdot\\frac{2}{3}\\cdot\\frac{\\sqrt{x+9}+4}{\\sqrt{x+9}+4}=\\lim_{x\\to 7} \\frac{x+2-\\sqrt[3]{(x+20)^2}}{x+9-16}\\cdot\\frac{2}{3}\\cdot\\frac{\\sqrt{x+9}+4}{1} = $$\n",
    "\n",
    "\n",
    "$$=\\lim_{x\\to 7} \\frac{x+2-\\sqrt[3]{(x+20)^2}}{x+9-16}\\cdot\\frac{2}{3}\\cdot\\frac{\\sqrt{x+9}+4}{1}\\cdot \\frac{(x+2)^2+(x+2)\\sqrt[3]{(x+20)^2}+\\sqrt[3]{(x+20)^4}}{(x+2)^2+(x+2)\\sqrt[3]{(x+20)^2}+\\sqrt[3]{(x+20)^4}}= $$\n",
    "\n",
    "$$=\\lim_{x\\to 7} \\frac{(x+2)^3-(x+20)^2}{x-7}\\cdot\\frac{2}{3}\\cdot\\frac{\\sqrt{x+9}+4}{(x+2)^2+(x+2)\\sqrt[3]{(x+20)^2}+\\sqrt[3]{(x+20)^4}} = $$\n",
    "\n",
    "$$=\\lim_{x\\to 7} \\frac{(x+2)^3-(x+20)^2}{x-7}\\cdot\\frac{2}{3}\\cdot\\frac{8}{81+81+81} = \\frac{189}{1}\\cdot\\frac{2\\cdot8}{3\\cdot243} = \\frac{112}{27}$$"
   ]
  },
  {
   "cell_type": "markdown",
   "id": "8665eea7",
   "metadata": {},
   "source": [
    "**г)**\n",
    "\n",
    "$$\\lim_{x\\to 0} \\frac{3x\\,\\mbox{tg}\\,4x}{1-\\cos4x} =\\lim_{x\\to 0} \\frac{3x\\cdot4x}{\\frac{16x^2}{2}}=\\frac{12}{8}=\\frac{3}{2}$$"
   ]
  },
  {
   "cell_type": "markdown",
   "id": "ff1f8954",
   "metadata": {},
   "source": [
    "**д)**\n",
    "\n",
    "$$\\lim_{x\\to 0} \\frac{\\sqrt2x^2\\sin4x}{(1-\\cos2x)^{\\frac{3}{2}}} = \\lim_{x\\to 0} \\frac{\\sqrt2x^2\\cdot4x}{\\Bigl(\\frac{4x^2}{2}\\Bigr)^{\\frac{3}{2}}}= \\lim_{x\\to 0} \\frac{\\sqrt2x^2\\cdot4x}{\\sqrt{8}x^3}=\\frac{\\sqrt2\\cdot4}{\\sqrt{8}} = 2$$"
   ]
  },
  {
   "cell_type": "markdown",
   "id": "3e616916",
   "metadata": {},
   "source": [
    "**е)**\n",
    "\n",
    "$$\\lim_{x\\to \\infty} \\Bigr(\\frac{4x}{4x+3}\\Bigl)^\\frac{5x^2}{7x-1} =\\lim_{x\\to \\infty} e^{ \\Bigr(\\frac{4x}{4x+3}-1\\Bigl)\\cdot\\frac{5x^2}{7x-1}}=\\lim_{x\\to \\infty} e^{ \\frac{-3}{4x+3}\\cdot\\frac{5x^2}{7x-1}}=e^{\\frac{-3\\cdot5}{4\\cdot7}}=e^{-\\frac{15}{28}}$$"
   ]
  },
  {
   "cell_type": "markdown",
   "id": "9ebe9c4f",
   "metadata": {},
   "source": [
    "**ж)**\n",
    "\n",
    "$$\\lim_{x\\to +0} \\frac{5^x-1}{x} = \\lim_{x\\to +0} \\frac{e^{x\\ln5}-1}{x}= \\lim_{x\\to +0} \\frac{e^{x\\ln5}-1}{x} \\cdot \\frac{\\ln5}{\\ln5} = $$\n",
    "\n",
    "$$=\\lim_{x\\to +0} \\frac{\\ln5\\cdot(e^{x\\ln5}-1)}{x\\ln5} = \\ln5$$\n"
   ]
  },
  {
   "cell_type": "markdown",
   "id": "c8001ea7",
   "metadata": {},
   "source": [
    "**з)**\n",
    "\n",
    "$$\\lim_{x\\to +\\infty} \\frac{\\ln(x^2-x+1)}{\\ln(x^{10}+x+1)} = \\lim_{x\\to +\\infty} \\frac{\\ln(x^2(1-\\frac{1}{x}+\\frac{1}{x^2}))}{\\ln(x^{10}(1+\\frac{1}{x^9}+\\frac{1}{x^{10}}))}= \\lim_{x\\to +\\infty} \\frac{\\ln(x^2)+\\ln(1-\\frac{1}{x}+\\frac{1}{x^2})}{\\ln(x^{10})+\\ln(1+\\frac{1}{x^9}+\\frac{1}{x^{10}})}=$$\n",
    "\n",
    "$$ = \\lim_{x\\to +\\infty} \\frac{\\ln(x^2)}{\\ln(x^{10})} = \\lim_{x\\to +\\infty} \\frac{2\\cdot\\ln(x)}{10\\cdot\\ln(x)} = \\frac{2}{10} = \\frac{1}{5}$$"
   ]
  },
  {
   "cell_type": "markdown",
   "id": "eb72a80f",
   "metadata": {},
   "source": [
    "---"
   ]
  },
  {
   "cell_type": "markdown",
   "id": "a24fee5c",
   "metadata": {},
   "source": [
    "__2*.__ На языке Python предложить алгоритм вычисляющий численно предел последовательности\n",
    "\n",
    "### $$\\lim_{n\\to +\\infty} \\frac{n}{\\sqrt[n]{n!}}$$"
   ]
  },
  {
   "cell_type": "code",
   "execution_count": 17,
   "id": "f032896c",
   "metadata": {},
   "outputs": [
    {
     "name": "stdout",
     "output_type": "stream",
     "text": [
      "2.618690898433316\n"
     ]
    }
   ],
   "source": [
    "import numpy as np\n",
    "import math\n",
    "\n",
    "acc = 0.001\n",
    "n = 2\n",
    "old = 0\n",
    "\n",
    "while True:\n",
    "    f = math.factorial(n)\n",
    "    res = n / f**(1 / n)\n",
    "    if abs(res-old)<acc:\n",
    "        break\n",
    "    old = res\n",
    "    n+=1\n",
    "    \n",
    "print(res)"
   ]
  },
  {
   "cell_type": "markdown",
   "id": "ee9997d9",
   "metadata": {},
   "source": [
    "---"
   ]
  },
  {
   "cell_type": "markdown",
   "id": "0a6f06b7",
   "metadata": {},
   "source": [
    "### Правильные варианты"
   ]
  },
  {
   "cell_type": "code",
   "execution_count": 3,
   "id": "543aa643",
   "metadata": {},
   "outputs": [],
   "source": [
    "from math import lgamma  #lgamma(n) = ln((n-1)!)\n",
    "import numpy as np\n",
    "import math\n",
    "from decimal import Decimal\n",
    "import time"
   ]
  },
  {
   "cell_type": "code",
   "execution_count": 4,
   "id": "70af13dc",
   "metadata": {},
   "outputs": [
    {
     "ename": "TypeError",
     "evalue": "'decimal.Decimal' object cannot be interpreted as an integer",
     "output_type": "error",
     "traceback": [
      "\u001b[1;31m---------------------------------------------------------------------------\u001b[0m",
      "\u001b[1;31mTypeError\u001b[0m                                 Traceback (most recent call last)",
      "\u001b[1;32mC:\\Temp/ipykernel_4876/2772853936.py\u001b[0m in \u001b[0;36m<module>\u001b[1;34m\u001b[0m\n\u001b[0;32m     10\u001b[0m \u001b[0mi\u001b[0m\u001b[1;33m=\u001b[0m\u001b[0mDecimal\u001b[0m\u001b[1;33m(\u001b[0m\u001b[1;36m2\u001b[0m\u001b[1;33m)\u001b[0m\u001b[1;33m\u001b[0m\u001b[1;33m\u001b[0m\u001b[0m\n\u001b[0;32m     11\u001b[0m \u001b[1;33m\u001b[0m\u001b[0m\n\u001b[1;32m---> 12\u001b[1;33m \u001b[1;32mwhile\u001b[0m\u001b[1;33m(\u001b[0m\u001b[0mabs\u001b[0m\u001b[1;33m(\u001b[0m\u001b[0mf\u001b[0m\u001b[1;33m(\u001b[0m\u001b[0mi\u001b[0m\u001b[1;33m)\u001b[0m\u001b[1;33m-\u001b[0m\u001b[0mf\u001b[0m\u001b[1;33m(\u001b[0m\u001b[0mi\u001b[0m\u001b[1;33m-\u001b[0m\u001b[1;36m1\u001b[0m\u001b[1;33m)\u001b[0m\u001b[1;33m)\u001b[0m\u001b[1;33m)\u001b[0m\u001b[1;33m>\u001b[0m\u001b[0macc\u001b[0m\u001b[1;33m:\u001b[0m\u001b[1;33m\u001b[0m\u001b[1;33m\u001b[0m\u001b[0m\n\u001b[0m\u001b[0;32m     13\u001b[0m     \u001b[0mi\u001b[0m \u001b[1;33m+=\u001b[0m\u001b[1;36m1\u001b[0m\u001b[1;33m\u001b[0m\u001b[1;33m\u001b[0m\u001b[0m\n\u001b[0;32m     14\u001b[0m \u001b[0mprint\u001b[0m\u001b[1;33m(\u001b[0m\u001b[0mf\u001b[0m\u001b[1;33m(\u001b[0m\u001b[0mi\u001b[0m\u001b[1;33m)\u001b[0m\u001b[1;33m,\u001b[0m \u001b[0mabs\u001b[0m\u001b[1;33m(\u001b[0m\u001b[0mf\u001b[0m\u001b[1;33m(\u001b[0m\u001b[0mi\u001b[0m\u001b[1;33m)\u001b[0m\u001b[1;33m-\u001b[0m\u001b[0mf\u001b[0m\u001b[1;33m(\u001b[0m\u001b[0mi\u001b[0m\u001b[1;33m-\u001b[0m\u001b[1;36m1\u001b[0m\u001b[1;33m)\u001b[0m\u001b[1;33m)\u001b[0m\u001b[1;33m,\u001b[0m \u001b[0mi\u001b[0m\u001b[1;33m)\u001b[0m\u001b[1;33m\u001b[0m\u001b[1;33m\u001b[0m\u001b[0m\n",
      "\u001b[1;32mC:\\Temp/ipykernel_4876/2772853936.py\u001b[0m in \u001b[0;36mf\u001b[1;34m(n)\u001b[0m\n\u001b[0;32m      3\u001b[0m \u001b[1;33m\u001b[0m\u001b[0m\n\u001b[0;32m      4\u001b[0m \u001b[1;32mdef\u001b[0m \u001b[0mf\u001b[0m\u001b[1;33m(\u001b[0m\u001b[0mn\u001b[0m\u001b[1;33m)\u001b[0m\u001b[1;33m:\u001b[0m\u001b[1;33m\u001b[0m\u001b[1;33m\u001b[0m\u001b[0m\n\u001b[1;32m----> 5\u001b[1;33m     \u001b[0mb\u001b[0m \u001b[1;33m=\u001b[0m \u001b[0mmath\u001b[0m\u001b[1;33m.\u001b[0m\u001b[0mfactorial\u001b[0m\u001b[1;33m(\u001b[0m\u001b[0mn\u001b[0m\u001b[1;33m)\u001b[0m\u001b[1;33m\u001b[0m\u001b[1;33m\u001b[0m\u001b[0m\n\u001b[0m\u001b[0;32m      6\u001b[0m     \u001b[0ma\u001b[0m \u001b[1;33m=\u001b[0m \u001b[0mn\u001b[0m \u001b[1;33m/\u001b[0m \u001b[0mb\u001b[0m\u001b[1;33m**\u001b[0m\u001b[1;33m(\u001b[0m\u001b[1;36m1\u001b[0m \u001b[1;33m/\u001b[0m \u001b[0mn\u001b[0m\u001b[1;33m)\u001b[0m\u001b[1;33m\u001b[0m\u001b[1;33m\u001b[0m\u001b[0m\n\u001b[0;32m      7\u001b[0m     \u001b[1;32mreturn\u001b[0m \u001b[0ma\u001b[0m\u001b[1;33m\u001b[0m\u001b[1;33m\u001b[0m\u001b[0m\n",
      "\u001b[1;31mTypeError\u001b[0m: 'decimal.Decimal' object cannot be interpreted as an integer"
     ]
    }
   ],
   "source": [
    "#Через встроенный факториал\n",
    "start_time = time.time()\n",
    "\n",
    "def f(n):\n",
    "    b = math.factorial(n)\n",
    "    a = n / b**(1 / n)\n",
    "    return a\n",
    "\n",
    "acc = 0.0001\n",
    "i=Decimal(2)\n",
    "\n",
    "while(abs(f(i)-f(i-1)))>acc:\n",
    "    i +=1\n",
    "print(f(i), abs(f(i)-f(i-1)), i)\n",
    "print(\"--- %s seconds ---\" % (time.time() - start_time))"
   ]
  },
  {
   "cell_type": "code",
   "execution_count": 5,
   "id": "3d354efc",
   "metadata": {},
   "outputs": [
    {
     "ename": "TypeError",
     "evalue": "'decimal.Decimal' object cannot be interpreted as an integer",
     "output_type": "error",
     "traceback": [
      "\u001b[1;31m---------------------------------------------------------------------------\u001b[0m",
      "\u001b[1;31mTypeError\u001b[0m                                 Traceback (most recent call last)",
      "\u001b[1;32mC:\\Temp/ipykernel_4876/3100736221.py\u001b[0m in \u001b[0;36m<module>\u001b[1;34m\u001b[0m\n\u001b[0;32m     15\u001b[0m     \u001b[0mi\u001b[0m \u001b[1;33m+=\u001b[0m\u001b[1;36m1\u001b[0m\u001b[1;33m\u001b[0m\u001b[1;33m\u001b[0m\u001b[0m\n\u001b[0;32m     16\u001b[0m \u001b[1;33m\u001b[0m\u001b[0m\n\u001b[1;32m---> 17\u001b[1;33m \u001b[0mprint\u001b[0m\u001b[1;33m(\u001b[0m\u001b[0mf\u001b[0m\u001b[1;33m(\u001b[0m\u001b[0mi\u001b[0m\u001b[1;33m)\u001b[0m\u001b[1;33m,\u001b[0m \u001b[0mabs\u001b[0m\u001b[1;33m(\u001b[0m\u001b[0mf\u001b[0m\u001b[1;33m(\u001b[0m\u001b[0mi\u001b[0m\u001b[1;33m)\u001b[0m\u001b[1;33m-\u001b[0m\u001b[0mf\u001b[0m\u001b[1;33m(\u001b[0m\u001b[0mi\u001b[0m\u001b[1;33m-\u001b[0m\u001b[1;36m1\u001b[0m\u001b[1;33m)\u001b[0m\u001b[1;33m)\u001b[0m\u001b[1;33m,\u001b[0m \u001b[0mi\u001b[0m\u001b[1;33m)\u001b[0m\u001b[1;33m\u001b[0m\u001b[1;33m\u001b[0m\u001b[0m\n\u001b[0m\u001b[0;32m     18\u001b[0m \u001b[0mprint\u001b[0m\u001b[1;33m(\u001b[0m\u001b[1;34m\"--- %s seconds ---\"\u001b[0m \u001b[1;33m%\u001b[0m \u001b[1;33m(\u001b[0m\u001b[0mtime\u001b[0m\u001b[1;33m.\u001b[0m\u001b[0mtime\u001b[0m\u001b[1;33m(\u001b[0m\u001b[1;33m)\u001b[0m \u001b[1;33m-\u001b[0m \u001b[0mstart_time\u001b[0m\u001b[1;33m)\u001b[0m\u001b[1;33m)\u001b[0m\u001b[1;33m\u001b[0m\u001b[1;33m\u001b[0m\u001b[0m\n",
      "\u001b[1;32mC:\\Temp/ipykernel_4876/2772853936.py\u001b[0m in \u001b[0;36mf\u001b[1;34m(n)\u001b[0m\n\u001b[0;32m      3\u001b[0m \u001b[1;33m\u001b[0m\u001b[0m\n\u001b[0;32m      4\u001b[0m \u001b[1;32mdef\u001b[0m \u001b[0mf\u001b[0m\u001b[1;33m(\u001b[0m\u001b[0mn\u001b[0m\u001b[1;33m)\u001b[0m\u001b[1;33m:\u001b[0m\u001b[1;33m\u001b[0m\u001b[1;33m\u001b[0m\u001b[0m\n\u001b[1;32m----> 5\u001b[1;33m     \u001b[0mb\u001b[0m \u001b[1;33m=\u001b[0m \u001b[0mmath\u001b[0m\u001b[1;33m.\u001b[0m\u001b[0mfactorial\u001b[0m\u001b[1;33m(\u001b[0m\u001b[0mn\u001b[0m\u001b[1;33m)\u001b[0m\u001b[1;33m\u001b[0m\u001b[1;33m\u001b[0m\u001b[0m\n\u001b[0m\u001b[0;32m      6\u001b[0m     \u001b[0ma\u001b[0m \u001b[1;33m=\u001b[0m \u001b[0mn\u001b[0m \u001b[1;33m/\u001b[0m \u001b[0mb\u001b[0m\u001b[1;33m**\u001b[0m\u001b[1;33m(\u001b[0m\u001b[1;36m1\u001b[0m \u001b[1;33m/\u001b[0m \u001b[0mn\u001b[0m\u001b[1;33m)\u001b[0m\u001b[1;33m\u001b[0m\u001b[1;33m\u001b[0m\u001b[0m\n\u001b[0;32m      7\u001b[0m     \u001b[1;32mreturn\u001b[0m \u001b[0ma\u001b[0m\u001b[1;33m\u001b[0m\u001b[1;33m\u001b[0m\u001b[0m\n",
      "\u001b[1;31mTypeError\u001b[0m: 'decimal.Decimal' object cannot be interpreted as an integer"
     ]
    }
   ],
   "source": [
    "#Через самописный факториал\n",
    "start_time = time.time()\n",
    "\n",
    "acc = 0.00001\n",
    "fact = Decimal(2)\n",
    "i = Decimal(3)\n",
    "fi_1 = 1/1**(1/1)\n",
    "fi   = 2/2**(1/2)\n",
    "\n",
    "while(abs(fi-fi_1))>acc:\n",
    "    \n",
    "    fact *= i\n",
    "    fi_1 = fi\n",
    "    fi = float(i/fact**(1/i))\n",
    "    i +=1\n",
    "    \n",
    "print(f(i), abs(f(i)-f(i-1)), i)\n",
    "print(\"--- %s seconds ---\" % (time.time() - start_time))"
   ]
  },
  {
   "cell_type": "markdown",
   "id": "a07156bf",
   "metadata": {},
   "source": [
    "### Формула Стирлинга\n",
    "\n",
    "### $$n!\\approx\\sqrt{2\\pi n}\\Bigl(\\frac{n}{e}\\Bigr)^n$$"
   ]
  },
  {
   "cell_type": "code",
   "execution_count": 6,
   "id": "10fba6ff",
   "metadata": {},
   "outputs": [
    {
     "name": "stdout",
     "output_type": "stream",
     "text": [
      "2.7182665937361787 9.99955673819386e-12 1428290\n",
      "--- 1.604363203048706 seconds ---\n"
     ]
    }
   ],
   "source": [
    "#Через формулу Стирлинга\n",
    "start_time = time.time()\n",
    "\n",
    "def f(n):\n",
    "    return np.e/(2*np.pi*n)**(1 / (2 * n))\n",
    "acc = 0.00000000001\n",
    "i=2\n",
    "\n",
    "while(abs(f(i)-f(i-1)))>acc:\n",
    "    i +=1\n",
    "\n",
    "print(f(i), abs(f(i)-f(i-1)), i)\n",
    "print(\"--- %s seconds ---\" % (time.time() - start_time))"
   ]
  },
  {
   "cell_type": "code",
   "execution_count": 7,
   "id": "05940ba4",
   "metadata": {},
   "outputs": [
    {
     "name": "stdout",
     "output_type": "stream",
     "text": [
      "2.7182818284590478\n",
      "2.718281828459045\n"
     ]
    }
   ],
   "source": [
    "n = 30_000_000_000_000_000\n",
    "\n",
    "print (n / np.e**(lgamma(n+1) / n))\n",
    "print (np.e)"
   ]
  },
  {
   "cell_type": "code",
   "execution_count": 8,
   "id": "96f4372c",
   "metadata": {},
   "outputs": [
    {
     "name": "stdout",
     "output_type": "stream",
     "text": [
      "2.7182665873231926 9.99866855977416e-12 1427649\n",
      "--- 1.8584208488464355 seconds ---\n"
     ]
    }
   ],
   "source": [
    "#Через функцию lgamma(n) = ln((n-1)!)\n",
    "start_time = time.time()\n",
    "\n",
    "def f(n):\n",
    "    return n/np.e**(lgamma(n + 1) / n)\n",
    "acc = 0.00000000001\n",
    "i=2\n",
    "while(abs(f(i) - f(i-1))) > acc:\n",
    "    i +=1\n",
    "print(f(i), abs(f(i)-f(i-1)), i)\n",
    "print(\"--- %s seconds ---\" % (time.time() - start_time))"
   ]
  },
  {
   "cell_type": "markdown",
   "id": "11f0db00",
   "metadata": {},
   "source": [
    "---"
   ]
  }
 ],
 "metadata": {
  "kernelspec": {
   "display_name": "Python 3 (ipykernel)",
   "language": "python",
   "name": "python3"
  },
  "language_info": {
   "codemirror_mode": {
    "name": "ipython",
    "version": 3
   },
   "file_extension": ".py",
   "mimetype": "text/x-python",
   "name": "python",
   "nbconvert_exporter": "python",
   "pygments_lexer": "ipython3",
   "version": "3.8.8"
  }
 },
 "nbformat": 4,
 "nbformat_minor": 5
}
