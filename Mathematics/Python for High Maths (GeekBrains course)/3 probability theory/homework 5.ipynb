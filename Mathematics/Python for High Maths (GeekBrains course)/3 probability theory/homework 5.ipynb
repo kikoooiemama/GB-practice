{
 "cells": [
  {
   "cell_type": "markdown",
   "id": "39eb0452",
   "metadata": {},
   "source": [
    "# Домашнее задание 5\n",
    "---\n",
    "## Практическое задание по теме “Элементы теории вероятностей”:"
   ]
  },
  {
   "cell_type": "code",
   "execution_count": 1,
   "id": "e3088a80",
   "metadata": {},
   "outputs": [],
   "source": [
    "%matplotlib inline\n",
    " \n",
    "import numpy as np\n",
    "import matplotlib.pyplot as plt\n",
    "from scipy.special import factorial\n",
    "\n",
    "import warnings\n",
    "warnings.filterwarnings('ignore')"
   ]
  },
  {
   "cell_type": "markdown",
   "id": "cae6acf9",
   "metadata": {},
   "source": [
    "### №1\n",
    "\n",
    "Напишите код, моделирующий выпадение поля в рулетке (с учетом поля зеро)."
   ]
  },
  {
   "cell_type": "markdown",
   "id": "6d914c16",
   "metadata": {},
   "source": [
    "Выпадение поля от 0 до 36 включительно."
   ]
  },
  {
   "cell_type": "code",
   "execution_count": 2,
   "id": "db6695d4",
   "metadata": {},
   "outputs": [
    {
     "data": {
      "text/plain": [
       "29"
      ]
     },
     "execution_count": 2,
     "metadata": {},
     "output_type": "execute_result"
    }
   ],
   "source": [
    "field = np.random.randint(0, 37)\n",
    "field"
   ]
  },
  {
   "cell_type": "markdown",
   "id": "40049326",
   "metadata": {},
   "source": [
    "### №2"
   ]
  },
  {
   "cell_type": "markdown",
   "id": "049b4366",
   "metadata": {},
   "source": [
    "**1)** Напишите код, проверяющий любую из теорем сложения или умножения вероятности на примере рулетки или подбрасывания монетки."
   ]
  },
  {
   "cell_type": "markdown",
   "id": "c0ddd4ec",
   "metadata": {},
   "source": [
    "Выпадение какого либо числа в рулетке является независимым событием. Рассмотрим вероятность события выпадения 1, а затем 36. То есть под испытанием будем понимать двойной прокрут рулетки, а проверять теорему умножения вероятности.\n",
    "\n",
    "Согласно теореме умножения: $P(AB) = P(A)*P(B)$"
   ]
  },
  {
   "cell_type": "code",
   "execution_count": 3,
   "id": "cb364703",
   "metadata": {},
   "outputs": [],
   "source": [
    "# Вероятность выпадения числа 1 (A):\n",
    "p_1 = 1/37\n",
    "# Вероятность выпадения числа 36 (B):\n",
    "p_36 = 1/37"
   ]
  },
  {
   "cell_type": "markdown",
   "id": "96700ed2",
   "metadata": {},
   "source": []
  },
  {
   "cell_type": "code",
   "execution_count": 4,
   "id": "a6376b23",
   "metadata": {},
   "outputs": [
    {
     "data": {
      "text/plain": [
       "0.0007304601899196495"
      ]
     },
     "execution_count": 4,
     "metadata": {},
     "output_type": "execute_result"
    }
   ],
   "source": [
    "p_t = p_1*p_36\n",
    "p_t"
   ]
  },
  {
   "cell_type": "markdown",
   "id": "b004a31a",
   "metadata": {},
   "source": [
    "Эксперимент (1м испытаний):"
   ]
  },
  {
   "cell_type": "code",
   "execution_count": 5,
   "id": "d9b70e9e",
   "metadata": {},
   "outputs": [
    {
     "name": "stdout",
     "output_type": "stream",
     "text": [
      "Количество событий AB: 758\n",
      "Количество испытаний: 1000000\n",
      "Теоретическая вероятность: 0.07305%\n",
      "Экспериментальная вероятность: 0.0758%\n"
     ]
    }
   ],
   "source": [
    "n = 1000001\n",
    "m = 0\n",
    "exp = np.random.randint(0, 37, n)\n",
    "for i in range(0, n-1):\n",
    "    if exp[i] == 1:\n",
    "        if exp[i+1] == 36:\n",
    "            m+=1\n",
    "p_e = m/(n-1)\n",
    "print(f\"Количество событий AB: {m}\")\n",
    "print(f\"Количество испытаний: {n-1}\")\n",
    "print(f\"Теоретическая вероятность: {round(p_t * 100, 5)}%\")\n",
    "print(f\"Экспериментальная вероятность: {round(p_e * 100, 5)}%\")"
   ]
  },
  {
   "cell_type": "markdown",
   "id": "8a9e9c87",
   "metadata": {},
   "source": [
    "Проверка теоремы сложения. Расчитаем вероятность события выпадения либо 1, либо 36.\n",
    "\n",
    "Согласно теореме сложения: $P(A+B) = P(A)*P(B)$"
   ]
  },
  {
   "cell_type": "code",
   "execution_count": 6,
   "id": "ce9ca1c2",
   "metadata": {},
   "outputs": [
    {
     "name": "stdout",
     "output_type": "stream",
     "text": [
      "Количество событий AB: 54187\n",
      "Количество испытаний: 1000000\n",
      "Теоретическая вероятность: 5.40541%\n",
      "Экспериментальная вероятность: 5.4187%\n"
     ]
    }
   ],
   "source": [
    "n = 1000000\n",
    "m = 0\n",
    "exp = np.random.randint(0, 37, n)\n",
    "for i in range(0, n-1):\n",
    "    if exp[i] == 1 or exp[i] == 36:\n",
    "            m+=1\n",
    "p_e = m/(n)\n",
    "p_t = p_1 + p_36\n",
    "print(f\"Количество событий AB: {m}\")\n",
    "print(f\"Количество испытаний: {n}\")\n",
    "print(f\"Теоретическая вероятность: {round(p_t * 100, 5)}%\")\n",
    "print(f\"Экспериментальная вероятность: {round(p_e * 100, 5)}%\")"
   ]
  },
  {
   "cell_type": "markdown",
   "id": "deefaca0",
   "metadata": {},
   "source": [
    "**2)** Сгенерируйте десять выборок случайных чисел х0, …, х9 и постройте гистограмму распределения случайной суммы  +х0+ …+х9."
   ]
  },
  {
   "cell_type": "code",
   "execution_count": 7,
   "id": "141d2793",
   "metadata": {},
   "outputs": [],
   "source": [
    "# количество элементов в одной выборке\n",
    "n = 100\n",
    "# количество выборок\n",
    "k = 10\n",
    "x = np.random.random_sample((k,n))"
   ]
  },
  {
   "cell_type": "code",
   "execution_count": 8,
   "id": "9cf9b6ea",
   "metadata": {},
   "outputs": [],
   "source": [
    "sum_x = []\n",
    "for i in range(0, n):\n",
    "    number = 0\n",
    "    for j in range(0, k):\n",
    "        number += np.random.choice(x[j])\n",
    "    sum_x = np.append(sum_x, number)"
   ]
  },
  {
   "cell_type": "code",
   "execution_count": 9,
   "id": "6779eee3",
   "metadata": {},
   "outputs": [
    {
     "data": {
      "image/png": "[encoded data removed]",
      "text/plain": [
       "<Figure size 432x288 with 1 Axes>"
      ]
     },
     "metadata": {
      "needs_background": "light"
     },
     "output_type": "display_data"
    }
   ],
   "source": [
    "num_bins = 10\n",
    "n, bins, patches = plt.hist(sum_x, num_bins)\n",
    "plt.xlabel('x')\n",
    "plt.ylabel('Probability')\n",
    "plt.title('Histogram')\n",
    "plt.grid()\n",
    "plt.show()"
   ]
  },
  {
   "cell_type": "markdown",
   "id": "4ec44060",
   "metadata": {},
   "source": [
    "### №3"
   ]
  },
  {
   "cell_type": "markdown",
   "id": "2e298b2a",
   "metadata": {},
   "source": [
    "**1)** Дополните код Монте-Карло последовательности независимых испытаний расчетом соответствующих вероятностей (через биномиальное распределение) и сравните результаты."
   ]
  },
  {
   "cell_type": "markdown",
   "id": "3d71a121",
   "metadata": {},
   "source": [
    "Методом Монте-Карло и с помощью биноминального распределения оцениваем с какой вероятностью при 4 испытаниях выпадет 2 орла и 2 решки."
   ]
  },
  {
   "cell_type": "code",
   "execution_count": 10,
   "id": "192f37c1",
   "metadata": {},
   "outputs": [
    {
     "name": "stdout",
     "output_type": "stream",
     "text": [
      "Количество успешных событий: 37655\n",
      "Количество испытаний: 100000\n",
      "Экспериментальная вероятность: 37.655%\n",
      "Теоретическая вероятность (через биноминальное распределение): 37.5%\n"
     ]
    }
   ],
   "source": [
    "k = 2\n",
    "n = 4\n",
    "\n",
    "success, amount = 0, 100000\n",
    "a = np.random.randint(0,2,amount)\n",
    "b = np.random.randint(0,2,amount)\n",
    "c = np.random.randint(0,2,amount)\n",
    "d = np.random.randint(0,2,amount)\n",
    "x = a + b + c + d\n",
    "for i in range(0, amount):\n",
    "    if x[i] == k:\n",
    "        success = success + 1\n",
    "\n",
    "p_e = success / amount\n",
    "# количество испытаний = 4, количество успехов = 2 \n",
    "p_t = factorial(n)/factorial(k)/factorial(n-k)/(2**n)      \n",
    "        \n",
    "print(f\"Количество успешных событий: {success}\")\n",
    "print(f\"Количество испытаний: {amount}\")\n",
    "print(f\"Экспериментальная вероятность: {round(p_e * 100, 3)}%\")\n",
    "print(f\"Теоретическая вероятность (через биноминальное распределение): {round(p_t * 100, 3)}%\")"
   ]
  },
  {
   "cell_type": "markdown",
   "id": "f9c2ec9d",
   "metadata": {},
   "source": [
    "Разница между экспериментальным значением и значением, полученным с помощью формулы Бернулли, разнится в зависимости от объема экспериментальной выборки. Чем она больше, тем ближе экспериментальный результат к расчитанному теоретически."
   ]
  },
  {
   "cell_type": "markdown",
   "id": "edc21895",
   "metadata": {},
   "source": [
    "**2)** Повторите расчеты биномиальных коэффициентов и вероятностей k успехов в последовательности из n независимых испытаний, взяв другие значения n и k."
   ]
  },
  {
   "cell_type": "markdown",
   "id": "49027c4b",
   "metadata": {},
   "source": [
    "Методом Монте-Карло и с помощью биноминального распределения оцениваем с какой вероятностью при 7 испытаниях выпадет 4 орла и 3 решки."
   ]
  },
  {
   "cell_type": "code",
   "execution_count": 11,
   "id": "2d010b80",
   "metadata": {},
   "outputs": [
    {
     "name": "stdout",
     "output_type": "stream",
     "text": [
      "Количество успешных событий: 2754\n",
      "Количество испытаний: 10000\n",
      "Экспериментальная вероятность: 27.54%\n",
      "Теоретическая вероятность (через биноминальное распределение): 27.344%\n"
     ]
    }
   ],
   "source": [
    "k = 4\n",
    "n = 7\n",
    "\n",
    "success, amount = 0, 10000\n",
    "a = np.random.randint(0,2,amount)\n",
    "b = np.random.randint(0,2,amount)\n",
    "c = np.random.randint(0,2,amount)\n",
    "d = np.random.randint(0,2,amount)\n",
    "e = np.random.randint(0,2,amount)\n",
    "f = np.random.randint(0,2,amount)\n",
    "g = np.random.randint(0,2,amount)\n",
    "x = a + b + c + d + e + f + g\n",
    "for i in range(0, amount):\n",
    "    if x[i] == k:\n",
    "        success = success + 1\n",
    "\n",
    "p_e = success / amount\n",
    "p_t = factorial(n)/factorial(k)/factorial(n-k)/(2**n)      \n",
    "        \n",
    "print(f\"Количество успешных событий: {success}\")\n",
    "print(f\"Количество испытаний: {amount}\")\n",
    "print(f\"Экспериментальная вероятность: {round(p_e * 100, 3)}%\")\n",
    "print(f\"Теоретическая вероятность (через биноминальное распределение): {round(p_t * 100, 3)}%\")"
   ]
  },
  {
   "cell_type": "markdown",
   "id": "ed12dc7f",
   "metadata": {},
   "source": [
    "Методом Монте-Карло и с помощью биноминального распределения оцениваем с какой вероятностью при 5 испытаниях выпадет 0 орлов и 5 решек."
   ]
  },
  {
   "cell_type": "code",
   "execution_count": 12,
   "id": "596696dd",
   "metadata": {},
   "outputs": [
    {
     "name": "stdout",
     "output_type": "stream",
     "text": [
      "Количество успешных событий: 6\n",
      "Количество испытаний: 100\n",
      "Экспериментальная вероятность: 6.0%\n",
      "Теоретическая вероятность (через биноминальное распределение): 3.125%\n"
     ]
    }
   ],
   "source": [
    "k = 0\n",
    "n = 5\n",
    "\n",
    "success, amount = 0, 100\n",
    "a = np.random.randint(0,2,amount)\n",
    "b = np.random.randint(0,2,amount)\n",
    "c = np.random.randint(0,2,amount)\n",
    "d = np.random.randint(0,2,amount)\n",
    "e = np.random.randint(0,2,amount)\n",
    "x = a + b + c + d + e \n",
    "for i in range(0, amount):\n",
    "    if x[i] == k:\n",
    "        success = success + 1\n",
    "\n",
    "p_e = success / amount\n",
    "p_t = factorial(n)/factorial(k)/factorial(n-k)/(2**n)      \n",
    "        \n",
    "print(f\"Количество успешных событий: {success}\")\n",
    "print(f\"Количество испытаний: {amount}\")\n",
    "print(f\"Экспериментальная вероятность: {round(p_e * 100, 3)}%\")\n",
    "print(f\"Теоретическая вероятность (через биноминальное распределение): {round(p_t * 100, 3)}%\")"
   ]
  },
  {
   "cell_type": "markdown",
   "id": "f1e01959",
   "metadata": {},
   "source": [
    "Разница между экспериментальным значением и значением, полученным с помощью формулы Бернулли, разнится в зависимости от объема экспериментальной выборки. Чем она больше, тем ближе экспериментальный результат к расчитанному теоретически."
   ]
  },
  {
   "cell_type": "markdown",
   "id": "7699b699",
   "metadata": {},
   "source": [
    "### №4 (Не обязательно)\n",
    "\n",
    "Из урока по комбинаторике повторите расчеты, сгенерировав возможные варианты перестановок для других значений n и k."
   ]
  },
  {
   "cell_type": "code",
   "execution_count": 13,
   "id": "5dbbb596",
   "metadata": {},
   "outputs": [],
   "source": [
    "import itertools\n",
    "from scipy.special import factorial"
   ]
  },
  {
   "cell_type": "markdown",
   "id": "4b531b8a",
   "metadata": {},
   "source": [
    "Размещение $A_{n}^m = \\frac{n!}{(n-m)!}$"
   ]
  },
  {
   "cell_type": "code",
   "execution_count": 14,
   "id": "eb8f8ddc",
   "metadata": {},
   "outputs": [
    {
     "name": "stdout",
     "output_type": "stream",
     "text": [
      "012\n",
      "013\n",
      "021\n",
      "023\n",
      "031\n",
      "032\n",
      "102\n",
      "103\n",
      "120\n",
      "123\n",
      "130\n",
      "132\n",
      "201\n",
      "203\n",
      "210\n",
      "213\n",
      "230\n",
      "231\n",
      "301\n",
      "302\n",
      "310\n",
      "312\n",
      "320\n",
      "321\n",
      "Calculate: 24.0\n",
      "Count: 24\n"
     ]
    }
   ],
   "source": [
    "var = '0123'\n",
    "m = 3\n",
    "n = len(var)\n",
    "\n",
    "count = 0 \n",
    "for p in itertools.permutations(var, m):\n",
    "    print(''.join(p))\n",
    "    count += 1\n",
    "    \n",
    "print(f\"Calculate: {factorial(n)/factorial(n-m)}\")    \n",
    "print(f\"Count: {count}\")  "
   ]
  },
  {
   "cell_type": "markdown",
   "id": "705f190c",
   "metadata": {},
   "source": [
    "Сочетание $C_{n}^k = \\frac{n!}{k!(n-k)!}$"
   ]
  },
  {
   "cell_type": "code",
   "execution_count": 15,
   "id": "c021bbe6",
   "metadata": {},
   "outputs": [
    {
     "name": "stdout",
     "output_type": "stream",
     "text": [
      "01\n",
      "02\n",
      "03\n",
      "04\n",
      "05\n",
      "06\n",
      "07\n",
      "12\n",
      "13\n",
      "14\n",
      "15\n",
      "16\n",
      "17\n",
      "23\n",
      "24\n",
      "25\n",
      "26\n",
      "27\n",
      "34\n",
      "35\n",
      "36\n",
      "37\n",
      "45\n",
      "46\n",
      "47\n",
      "56\n",
      "57\n",
      "67\n",
      "Calculate: 28.0\n",
      "Count: 28\n"
     ]
    }
   ],
   "source": [
    "var = '01234567'\n",
    "k = 2\n",
    "n = len(var)\n",
    "\n",
    "count = 0 \n",
    "for p in itertools.combinations(var, k):\n",
    "    print(''.join(p))\n",
    "    count += 1\n",
    "    \n",
    "print(f\"Calculate: {factorial(n)/factorial(k)/factorial(n-k)}\")    \n",
    "print(f\"Count: {count}\")  "
   ]
  },
  {
   "cell_type": "markdown",
   "id": "d61264bf",
   "metadata": {},
   "source": [
    "Комбинации $n^k$, где $n$ - из скольки элементов, $k$ - по скольки элементам."
   ]
  },
  {
   "cell_type": "code",
   "execution_count": 16,
   "id": "6134d0b7",
   "metadata": {},
   "outputs": [
    {
     "name": "stdout",
     "output_type": "stream",
     "text": [
      "0000\n",
      "0001\n",
      "0002\n",
      "0010\n",
      "0011\n",
      "0012\n",
      "0020\n",
      "0021\n",
      "0022\n",
      "0100\n",
      "0101\n",
      "0102\n",
      "0110\n",
      "0111\n",
      "0112\n",
      "0120\n",
      "0121\n",
      "0122\n",
      "0200\n",
      "0201\n",
      "0202\n",
      "0210\n",
      "0211\n",
      "0212\n",
      "0220\n",
      "0221\n",
      "0222\n",
      "1000\n",
      "1001\n",
      "1002\n",
      "1010\n",
      "1011\n",
      "1012\n",
      "1020\n",
      "1021\n",
      "1022\n",
      "1100\n",
      "1101\n",
      "1102\n",
      "1110\n",
      "1111\n",
      "1112\n",
      "1120\n",
      "1121\n",
      "1122\n",
      "1200\n",
      "1201\n",
      "1202\n",
      "1210\n",
      "1211\n",
      "1212\n",
      "1220\n",
      "1221\n",
      "1222\n",
      "2000\n",
      "2001\n",
      "2002\n",
      "2010\n",
      "2011\n",
      "2012\n",
      "2020\n",
      "2021\n",
      "2022\n",
      "2100\n",
      "2101\n",
      "2102\n",
      "2110\n",
      "2111\n",
      "2112\n",
      "2120\n",
      "2121\n",
      "2122\n",
      "2200\n",
      "2201\n",
      "2202\n",
      "2210\n",
      "2211\n",
      "2212\n",
      "2220\n",
      "2221\n",
      "2222\n",
      "Calculate: 81\n",
      "Count: 81\n"
     ]
    }
   ],
   "source": [
    "var = '012'\n",
    "n = len(var)\n",
    "k = 4\n",
    "count = 0 \n",
    "for p in itertools.product(var, repeat=k):\n",
    "    print(''.join(p))\n",
    "    count += 1\n",
    "\n",
    "print(f\"Calculate: {n**k}\")\n",
    "print(f\"Count: {count}\") "
   ]
  },
  {
   "cell_type": "markdown",
   "id": "f2281c23",
   "metadata": {},
   "source": [
    "### №5 (Не обязательно)\n",
    "\n",
    "Дополните код расчетом коэффициента корреляции $x$ и $y$ по формуле:\n",
    "\n",
    "\n",
    "$R = \\frac{\\sum(x_i-x_m)(y_i-y_m)}{\\sqrt{\\sum(x_i-x_m)^2\\sum(y_i-y_m)^2}}$"
   ]
  },
  {
   "cell_type": "code",
   "execution_count": 17,
   "id": "536b37ab",
   "metadata": {},
   "outputs": [
    {
     "name": "stdout",
     "output_type": "stream",
     "text": [
      "Коэффициент корреляции R:\n",
      "\tВручную:                    R=0.93799650881594\n",
      "\tС помощью библиотеки numpy: R=0.9379965088159399\n",
      "\n",
      "Параметры линейной регрессии a,b:\n",
      "\tВручную:                    a=0.7272050560643353, b=0.1304861870892838\n",
      "\tС помощью библиотеки numpy: a=0.7272050560643353, b=0.130486187089284\n"
     ]
    },
    {
     "data": {
      "image/png": "[encoded data removed]",
      "text/plain": [
       "<Figure size 432x288 with 1 Axes>"
      ]
     },
     "metadata": {
      "needs_background": "light"
     },
     "output_type": "display_data"
    }
   ],
   "source": [
    "n = 100\n",
    "r = 0.7\n",
    "x = np.random.rand(n)\n",
    "y = r*x + (1 - r)*np.random.rand(n)\n",
    "plt.plot(x, y, 'o')\n",
    "plt.xlabel('x')\n",
    "plt.ylabel('y')\n",
    "plt.grid(True)\n",
    "\n",
    "# Расчет коэффициента корреляции\n",
    "x_mean = np.mean(x)\n",
    "y_mean = np.mean(y)\n",
    "\n",
    "R = (np.sum((x - x_mean) * (y - y_mean))) / (np.sqrt(np.sum((x - x_mean)**2) * np.sum((y - y_mean)**2)))\n",
    "R1 = np.corrcoef(x, y)[0][1]\n",
    "\n",
    "print(\"Коэффициент корреляции R:\")\n",
    "print(f\"\\tВручную:                    R={R}\")\n",
    "print(f\"\\tС помощью библиотеки numpy: R={R1}\")\n",
    "\n",
    "# Расчет параметров линейной регрессии a,b:\n",
    "a = (np.sum(x)*np.sum(y) - n*np.sum(x*y))/(np.sum(x)*np.sum(x) - n*np.sum(x*x))\n",
    "b = (np.sum(y) - a*np.sum(x))/n\n",
    "\n",
    "A = np.vstack([x, np.ones(len(x))]).T\n",
    "a1, b1 = np.linalg.lstsq(A, y)[0]\n",
    "print(\"\\nПараметры линейной регрессии a,b:\")\n",
    "print(f\"\\tВручную:                    a={a}, b={b}\")\n",
    "print(f\"\\tС помощью библиотеки numpy: a={a1}, b={b1}\")\n",
    "\n",
    "plt.plot([0, 1], [b, a + b])\n",
    "plt.show()"
   ]
  }
 ],
 "metadata": {
  "kernelspec": {
   "display_name": "Python 3 (ipykernel)",
   "language": "python",
   "name": "python3"
  },
  "language_info": {
   "codemirror_mode": {
    "name": "ipython",
    "version": 3
   },
   "file_extension": ".py",
   "mimetype": "text/x-python",
   "name": "python",
   "nbconvert_exporter": "python",
   "pygments_lexer": "ipython3",
   "version": "3.8.8"
  }
 },
 "nbformat": 4,
 "nbformat_minor": 5
}
