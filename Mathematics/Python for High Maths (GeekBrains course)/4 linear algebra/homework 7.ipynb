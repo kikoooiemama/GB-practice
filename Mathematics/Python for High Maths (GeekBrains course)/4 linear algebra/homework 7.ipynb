{
 "cells": [
  {
   "cell_type": "markdown",
   "id": "a67b29c6",
   "metadata": {},
   "source": [
    "# Домашнее задание 7\n",
    "---\n",
    "## Практическое задание по теме “Введение в линейную алгебру”:"
   ]
  },
  {
   "cell_type": "code",
   "execution_count": 1,
   "id": "9f1642ca",
   "metadata": {},
   "outputs": [],
   "source": [
    "%matplotlib inline\n",
    " \n",
    "import numpy as np\n",
    "import matplotlib.pyplot as plt\n",
    "from scipy.special import factorial\n",
    "import scipy.linalg  \n",
    "from mpl_toolkits.mplot3d import Axes3D\n",
    "from pylab import *\n",
    "\n",
    "import warnings\n",
    "warnings.filterwarnings('ignore')"
   ]
  },
  {
   "cell_type": "markdown",
   "id": "ea8814db",
   "metadata": {},
   "source": [
    "### №1"
   ]
  },
  {
   "cell_type": "markdown",
   "id": "bd2f5217",
   "metadata": {},
   "source": [
    "**1)** Вектор – это частный случай матрицы $1хN$ и $Nх1$. Повторите материал для векторов, уделяя особое внимание умножению $A∙B$."
   ]
  },
  {
   "cell_type": "code",
   "execution_count": 2,
   "id": "9c2f3506",
   "metadata": {},
   "outputs": [
    {
     "data": {
      "text/plain": [
       "(1, 4)"
      ]
     },
     "execution_count": 2,
     "metadata": {},
     "output_type": "execute_result"
    }
   ],
   "source": [
    "a = np.matrix([[2,6,7,8]])\n",
    "a.shape"
   ]
  },
  {
   "cell_type": "code",
   "execution_count": 3,
   "id": "79efa805",
   "metadata": {},
   "outputs": [
    {
     "name": "stdout",
     "output_type": "stream",
     "text": [
      "[[ 6 18 21 24]]\n"
     ]
    }
   ],
   "source": [
    "b = a * 3\n",
    "print(b)"
   ]
  },
  {
   "cell_type": "code",
   "execution_count": 4,
   "id": "2ba75202",
   "metadata": {},
   "outputs": [
    {
     "name": "stdout",
     "output_type": "stream",
     "text": [
      "[[ 4  8  9 10]]\n"
     ]
    }
   ],
   "source": [
    "c = a + 2\n",
    "print(c)"
   ]
  },
  {
   "cell_type": "code",
   "execution_count": 5,
   "id": "c49add7d",
   "metadata": {},
   "outputs": [
    {
     "name": "stdout",
     "output_type": "stream",
     "text": [
      "[[ 2 10 12 14]]\n"
     ]
    }
   ],
   "source": [
    "d = b - c\n",
    "print(d)"
   ]
  },
  {
   "cell_type": "code",
   "execution_count": 6,
   "id": "248a5f63",
   "metadata": {},
   "outputs": [
    {
     "name": "stdout",
     "output_type": "stream",
     "text": [
      "[[ 2]\n",
      " [10]\n",
      " [12]\n",
      " [14]]\n"
     ]
    }
   ],
   "source": [
    "f = d.T\n",
    "print(f)"
   ]
  },
  {
   "cell_type": "code",
   "execution_count": 7,
   "id": "507e253a",
   "metadata": {
    "scrolled": true
   },
   "outputs": [
    {
     "data": {
      "text/plain": [
       "((1, 4), (4, 1))"
      ]
     },
     "execution_count": 7,
     "metadata": {},
     "output_type": "execute_result"
    }
   ],
   "source": [
    "d.shape, f.shape"
   ]
  },
  {
   "cell_type": "code",
   "execution_count": 8,
   "id": "d0599fc2",
   "metadata": {
    "scrolled": true
   },
   "outputs": [
    {
     "name": "stdout",
     "output_type": "stream",
     "text": [
      "[[444]]\n"
     ]
    }
   ],
   "source": [
    "g = np.dot(d, f)\n",
    "print(g)"
   ]
  },
  {
   "cell_type": "code",
   "execution_count": 9,
   "id": "009fd008",
   "metadata": {},
   "outputs": [
    {
     "data": {
      "text/plain": [
       "matrix([[0.00225225]])"
      ]
     },
     "execution_count": 9,
     "metadata": {},
     "output_type": "execute_result"
    }
   ],
   "source": [
    "p = np.linalg.inv(g)\n",
    "p"
   ]
  },
  {
   "cell_type": "code",
   "execution_count": 10,
   "id": "0424851b",
   "metadata": {},
   "outputs": [
    {
     "data": {
      "text/plain": [
       "matrix([[1.]])"
      ]
     },
     "execution_count": 10,
     "metadata": {},
     "output_type": "execute_result"
    }
   ],
   "source": [
    "np.dot(g, p)"
   ]
  },
  {
   "cell_type": "code",
   "execution_count": 11,
   "id": "b42bdf08",
   "metadata": {},
   "outputs": [
    {
     "data": {
      "text/plain": [
       "matrix([[1.]])"
      ]
     },
     "execution_count": 11,
     "metadata": {},
     "output_type": "execute_result"
    }
   ],
   "source": [
    "np.dot(p,g)"
   ]
  },
  {
   "cell_type": "markdown",
   "id": "29a24235",
   "metadata": {},
   "source": [
    "Свойства:"
   ]
  },
  {
   "cell_type": "code",
   "execution_count": 12,
   "id": "b12364db",
   "metadata": {},
   "outputs": [],
   "source": [
    "k = 2\n",
    "l = 3"
   ]
  },
  {
   "cell_type": "code",
   "execution_count": 13,
   "id": "771e7e50",
   "metadata": {},
   "outputs": [
    {
     "data": {
      "text/plain": [
       "matrix([[ True,  True,  True,  True]])"
      ]
     },
     "execution_count": 13,
     "metadata": {},
     "output_type": "execute_result"
    }
   ],
   "source": [
    "# 1\n",
    "k * l * a == k * (l * a)"
   ]
  },
  {
   "cell_type": "code",
   "execution_count": 14,
   "id": "3c38e25f",
   "metadata": {},
   "outputs": [
    {
     "data": {
      "text/plain": [
       "matrix([[ True,  True,  True,  True]])"
      ]
     },
     "execution_count": 14,
     "metadata": {},
     "output_type": "execute_result"
    }
   ],
   "source": [
    "# 2\n",
    "k * (a + b) == k * a + k * b"
   ]
  },
  {
   "cell_type": "code",
   "execution_count": 15,
   "id": "1d1cb10c",
   "metadata": {
    "scrolled": true
   },
   "outputs": [
    {
     "data": {
      "text/plain": [
       "matrix([[ True,  True,  True,  True]])"
      ]
     },
     "execution_count": 15,
     "metadata": {},
     "output_type": "execute_result"
    }
   ],
   "source": [
    "# 3\n",
    "(k + l) * a == k * a + l * a "
   ]
  },
  {
   "cell_type": "code",
   "execution_count": 16,
   "id": "6b41e978",
   "metadata": {},
   "outputs": [],
   "source": [
    "A = np.matrix([[2,6,7,8]])\n",
    "B = (A + 2) * 1.5\n",
    "B = B.T\n",
    "C = (A - 1) * 2"
   ]
  },
  {
   "cell_type": "code",
   "execution_count": 17,
   "id": "2ebe1c4e",
   "metadata": {},
   "outputs": [
    {
     "data": {
      "text/plain": [
       "matrix([[ True,  True,  True,  True]])"
      ]
     },
     "execution_count": 17,
     "metadata": {},
     "output_type": "execute_result"
    }
   ],
   "source": [
    "# 4\n",
    "(A*B)*C == A*(B*C)"
   ]
  },
  {
   "cell_type": "code",
   "execution_count": 18,
   "id": "10d212a9",
   "metadata": {},
   "outputs": [
    {
     "data": {
      "text/plain": [
       "matrix([[ True]])"
      ]
     },
     "execution_count": 18,
     "metadata": {},
     "output_type": "execute_result"
    }
   ],
   "source": [
    "# 5\n",
    "(A + C) * B == A * B + C * B "
   ]
  },
  {
   "cell_type": "code",
   "execution_count": 19,
   "id": "bb5a601b",
   "metadata": {},
   "outputs": [
    {
     "data": {
      "text/plain": [
       "matrix([[ True,  True,  True,  True],\n",
       "        [ True,  True,  True,  True],\n",
       "        [ True,  True,  True,  True],\n",
       "        [ True,  True,  True,  True]])"
      ]
     },
     "execution_count": 19,
     "metadata": {},
     "output_type": "execute_result"
    }
   ],
   "source": [
    "# 6\n",
    "B*(A + C) == B*A + B*C"
   ]
  },
  {
   "cell_type": "markdown",
   "id": "6f730685",
   "metadata": {},
   "source": [
    "**2)** Вычислите, по возможности, не используя программирование: $I = (5E)^{-1}$, где $E$ - единичная матрица размера 5x5."
   ]
  },
  {
   "cell_type": "code",
   "execution_count": 20,
   "id": "88cafa13",
   "metadata": {},
   "outputs": [
    {
     "data": {
      "text/plain": [
       "array([[5., 0., 0., 0., 0.],\n",
       "       [0., 5., 0., 0., 0.],\n",
       "       [0., 0., 5., 0., 0.],\n",
       "       [0., 0., 0., 5., 0.],\n",
       "       [0., 0., 0., 0., 5.]])"
      ]
     },
     "execution_count": 20,
     "metadata": {},
     "output_type": "execute_result"
    }
   ],
   "source": [
    "E = np.identity(5)\n",
    "X = 5*E\n",
    "X"
   ]
  },
  {
   "cell_type": "code",
   "execution_count": 21,
   "id": "6689ae01",
   "metadata": {
    "scrolled": true
   },
   "outputs": [
    {
     "data": {
      "text/plain": [
       "array([[ 0.2,  0. ,  0. ,  0. ,  0. ],\n",
       "       [ 0. ,  0.2,  0. ,  0. ,  0. ],\n",
       "       [ 0. ,  0. ,  0.2,  0. ,  0. ],\n",
       "       [-0. , -0. , -0. ,  0.2, -0. ],\n",
       "       [ 0. ,  0. ,  0. ,  0. ,  0.2]])"
      ]
     },
     "execution_count": 21,
     "metadata": {},
     "output_type": "execute_result"
    }
   ],
   "source": [
    "I = np.linalg.inv(X)\n",
    "I"
   ]
  },
  {
   "cell_type": "code",
   "execution_count": 22,
   "id": "da5e83bc",
   "metadata": {},
   "outputs": [
    {
     "data": {
      "text/plain": [
       "array([[1., 0., 0., 0., 0.],\n",
       "       [0., 1., 0., 0., 0.],\n",
       "       [0., 0., 1., 0., 0.],\n",
       "       [0., 0., 0., 1., 0.],\n",
       "       [0., 0., 0., 0., 1.]])"
      ]
     },
     "execution_count": 22,
     "metadata": {},
     "output_type": "execute_result"
    }
   ],
   "source": [
    "np.dot(X,I)"
   ]
  },
  {
   "cell_type": "markdown",
   "id": "6b008891",
   "metadata": {},
   "source": [
    "### №2\n",
    "\n",
    "Вычислите определитель: \n",
    "$\\begin{pmatrix}\n",
    "1 & 2 & 3\\\\\n",
    "4 & 0 & 6\\\\\n",
    "7 & 8 & 9\n",
    "\\end{pmatrix}$"
   ]
  },
  {
   "cell_type": "code",
   "execution_count": 23,
   "id": "dfead20e",
   "metadata": {},
   "outputs": [],
   "source": [
    "A = np.matrix([[1,2,3],[4,0,6],[7,8,9]])"
   ]
  },
  {
   "cell_type": "code",
   "execution_count": 24,
   "id": "204c138f",
   "metadata": {},
   "outputs": [
    {
     "name": "stdout",
     "output_type": "stream",
     "text": [
      "det A = 60.0\n"
     ]
    }
   ],
   "source": [
    "det_A = np.linalg.det(A)\n",
    "print(f\"det A = {round(det_A, 5)}\")"
   ]
  },
  {
   "cell_type": "markdown",
   "id": "6dac6e07",
   "metadata": {},
   "source": [
    "### №3 "
   ]
  },
  {
   "cell_type": "markdown",
   "id": "c9c10d08",
   "metadata": {},
   "source": [
    "**1)** Вычислите матрицу, обратную данной: \n",
    "$\\begin{pmatrix}\n",
    "1 & 2 & 3\\\\\n",
    "4 & 0 & 6\\\\\n",
    "7 & 8 & 9\n",
    "\\end{pmatrix}$"
   ]
  },
  {
   "cell_type": "code",
   "execution_count": 25,
   "id": "6c761a22",
   "metadata": {},
   "outputs": [
    {
     "data": {
      "text/plain": [
       "matrix([[-0.8       ,  0.1       ,  0.2       ],\n",
       "        [ 0.1       , -0.2       ,  0.1       ],\n",
       "        [ 0.53333333,  0.1       , -0.13333333]])"
      ]
     },
     "execution_count": 25,
     "metadata": {},
     "output_type": "execute_result"
    }
   ],
   "source": [
    "A = np.matrix([[1,2,3],[4,0,6],[7,8,9]])\n",
    "A_inv = np.linalg.inv(A)\n",
    "A_inv"
   ]
  },
  {
   "cell_type": "code",
   "execution_count": 26,
   "id": "f0182ffe",
   "metadata": {},
   "outputs": [
    {
     "data": {
      "text/plain": [
       "array([[ 1., -0.,  0.],\n",
       "       [ 0.,  1.,  0.],\n",
       "       [ 0.,  0.,  1.]])"
      ]
     },
     "execution_count": 26,
     "metadata": {},
     "output_type": "execute_result"
    }
   ],
   "source": [
    "np.round(np.dot(A, A_inv), 10)"
   ]
  },
  {
   "cell_type": "markdown",
   "id": "d6eb4f44",
   "metadata": {},
   "source": [
    "**2)** Приведите пример матрицы 4x4, ранг которой равен 1."
   ]
  },
  {
   "cell_type": "code",
   "execution_count": 27,
   "id": "97d8d4c2",
   "metadata": {
    "scrolled": false
   },
   "outputs": [
    {
     "name": "stdout",
     "output_type": "stream",
     "text": [
      "[[ 3.5  1.   4.   5. ]\n",
      " [ 7.   2.   8.  10. ]\n",
      " [14.   4.  16.  20. ]\n",
      " [ 0.   0.   0.   0. ]]\n",
      "Rank: 1\n"
     ]
    }
   ],
   "source": [
    "A = np.matrix([[3.5, 1, 4, 5],[7, 2, 8, 10],[14, 4, 16, 20],[0,0,0,0]])\n",
    "print(A)\n",
    "print(f\"Rank: {np.linalg.matrix_rank(A)}\")"
   ]
  },
  {
   "cell_type": "markdown",
   "id": "6cb683a4",
   "metadata": {},
   "source": [
    "### №4\n",
    "\n",
    "Вычислите скалярное произведение двух векторов: $(1,5)$ и $(2,8)$"
   ]
  },
  {
   "cell_type": "code",
   "execution_count": 28,
   "id": "4985597a",
   "metadata": {},
   "outputs": [
    {
     "name": "stdout",
     "output_type": "stream",
     "text": [
      "Скалярное произведение векторов (1,5) и (2,8): 42\n"
     ]
    }
   ],
   "source": [
    "a = np.array([1,5])\n",
    "b = np.array([2,8])\n",
    "result = np.inner(a,b)\n",
    "print(f\"Скалярное произведение векторов (1,5) и (2,8): {result}\")"
   ]
  },
  {
   "cell_type": "markdown",
   "id": "0b13be78",
   "metadata": {},
   "source": [
    "### №5\n",
    "\n",
    "Вычислите смешанное произведение трех векторов: $(1, 5, 0)$, $(2, 8, 7)$ и $(7, 1.5, 3)$"
   ]
  },
  {
   "cell_type": "code",
   "execution_count": 29,
   "id": "9623647b",
   "metadata": {},
   "outputs": [
    {
     "name": "stdout",
     "output_type": "stream",
     "text": [
      "Смешанное произведение: 228.5\n"
     ]
    }
   ],
   "source": [
    "a = np.array([1, 5, 0], float)\n",
    "b = np.array([2, 8, 7], float)\n",
    "c = np.array([7, 1.5, 3], float)\n",
    "v = np.cross(a, b)\n",
    "print(f\"Смешанное произведение: {np.inner(v, c)}\")"
   ]
  },
  {
   "cell_type": "markdown",
   "id": "2494c03d",
   "metadata": {},
   "source": [
    "---\n",
    "## Практическое задание по теме “Системы линейных алгебраических уравнений”: "
   ]
  },
  {
   "cell_type": "markdown",
   "id": "dfc6b422",
   "metadata": {},
   "source": [
    "### №1 \n",
    "\n",
    "Решите линейную систему: $\n",
    "\\begin{bmatrix}\n",
    "1 & 2 & 3\\\\\n",
    "4 & 0 & 6\\\\\n",
    "7 & 8 & 9\n",
    "\\end{bmatrix} ∙ X = \n",
    "\\begin{bmatrix}\n",
    "2 \\\\\n",
    "5 \\\\\n",
    "1\n",
    "\\end{bmatrix}\n",
    "$"
   ]
  },
  {
   "cell_type": "code",
   "execution_count": 30,
   "id": "ee990d32",
   "metadata": {},
   "outputs": [
    {
     "data": {
      "text/plain": [
       "array([-0.9 , -0.7 ,  1.43])"
      ]
     },
     "execution_count": 30,
     "metadata": {},
     "output_type": "execute_result"
    }
   ],
   "source": [
    "A = np.array([[1, 2, 3], [4, 0, 6], [7, 8, 9]])\n",
    "B = np.array([2, 5, 1])\n",
    "np.round(np.linalg.solve(A, B),2)"
   ]
  },
  {
   "cell_type": "markdown",
   "id": "480ca063",
   "metadata": {},
   "source": [
    "### №2\n",
    "\n",
    "Найдите псевдорешение системы: \n",
    "$\n",
    "x + 2y – z = 1 \\\\\n",
    "3x – 4y = 7 \\\\\n",
    "8x – 5y + 2z = 12 \\\\\n",
    "2x – 5z = 7 \\\\\n",
    "11x +4y – 7z = 15\n",
    "$"
   ]
  },
  {
   "cell_type": "code",
   "execution_count": 31,
   "id": "3389d27b",
   "metadata": {},
   "outputs": [
    {
     "name": "stdout",
     "output_type": "stream",
     "text": [
      "Псевдорешение:  [ 1.13919353 -0.90498444 -0.9009803 ]\n",
      "Ошибка:         0.7152321111819753\n",
      "Ранг матрицы А: 3\n"
     ]
    }
   ],
   "source": [
    "A = np.array([[1, 2, -1], [3, -4, 0], [8, -5, 2], [2, 0, -5], [11, 4, -7]], float)\n",
    "B = np.array([1, 7, 12, 7, 15])\n",
    "solution = np.linalg.lstsq(A, B)\n",
    "print(f\"Псевдорешение:  {solution[0]}\")\n",
    "print(f\"Ошибка:         {solution[1][0]}\")\n",
    "print(f\"Ранг матрицы А: {solution[2]}\")"
   ]
  },
  {
   "cell_type": "markdown",
   "id": "1f2d8232",
   "metadata": {},
   "source": [
    "### №3\n",
    "\n",
    "Сколько решений имеет линейная система: \n",
    "$\n",
    "\\begin{bmatrix}\n",
    "1 & 2 & 3\\\\\n",
    "4 & 5 & 6\\\\\n",
    "7 & 8 & 9\n",
    "\\end{bmatrix} ∙ X = \n",
    "\\begin{bmatrix}\n",
    "12 \\\\\n",
    "2 \\\\\n",
    "1\n",
    "\\end{bmatrix}\n",
    "$\n",
    "\n",
    "Если ноль - то измените вектор правой части так, чтобы система стала совместной, и решите ее."
   ]
  },
  {
   "cell_type": "code",
   "execution_count": 32,
   "id": "e4bd9b92",
   "metadata": {
    "scrolled": true
   },
   "outputs": [
    {
     "name": "stdout",
     "output_type": "stream",
     "text": [
      "Ранг матрицы А: 2\n",
      "Ранг матрицы C: 3\n"
     ]
    }
   ],
   "source": [
    "A = np.array([[1, 2, 3], [4, 5, 6], [7, 8, 9]])\n",
    "B = np.array([[12, 2, 1]])\n",
    "C = np.concatenate((A,B.T), axis=1)\n",
    "print(f\"Ранг матрицы А: {np.linalg.matrix_rank(A, 0.0001)}\")\n",
    "print(f\"Ранг матрицы C: {np.linalg.matrix_rank(C, 0.0001)}\")"
   ]
  },
  {
   "cell_type": "markdown",
   "id": "ad623fa2",
   "metadata": {},
   "source": [
    "Ранг основной матрицы меньше чем ранг расширенной матрицы. По Т. Кронекера-Капелли данная СЛАУ не имеет решений.\n",
    "\n",
    "Согласно заданию: \"Если ноль - то измените вектор правой части так, чтобы система стала совместной, и решите ее\", попробуем решить СЛАУ.\n",
    "\n",
    "Изменим в линейной системе $B_0$ с 12 на 3: \n",
    "$\n",
    "\\begin{bmatrix}\n",
    "1 & 2 & 3\\\\\n",
    "4 & 5 & 6\\\\\n",
    "7 & 8 & 9\n",
    "\\end{bmatrix} ∙ X = \n",
    "\\begin{bmatrix}\n",
    "3 \\\\\n",
    "2 \\\\\n",
    "1\n",
    "\\end{bmatrix}\n",
    "$\n"
   ]
  },
  {
   "cell_type": "code",
   "execution_count": 33,
   "id": "92c196e6",
   "metadata": {},
   "outputs": [
    {
     "name": "stdout",
     "output_type": "stream",
     "text": [
      "Ранг матрицы А: 2\n",
      "Ранг матрицы C: 2\n"
     ]
    }
   ],
   "source": [
    "A = np.array([[1, 2, 3], [4, 5, 6], [7, 8, 9]])\n",
    "B = np.array([[3, 2, 1]])\n",
    "C = np.concatenate((A,B.T), axis=1)\n",
    "print(f\"Ранг матрицы А: {np.linalg.matrix_rank(A, 0.0001)}\")\n",
    "print(f\"Ранг матрицы C: {np.linalg.matrix_rank(C, 0.0001)}\")"
   ]
  },
  {
   "cell_type": "markdown",
   "id": "2657d6e5",
   "metadata": {},
   "source": [
    "Так как изначально матрица А вырождена, то имея возможность менять только правую часть, мы не можем добиться чтобы решение было единственное. Поскольку для единственности решения нужно, чтобы ранг матрицы А был равен количеству неизвестных. \n",
    "\n",
    "В нашем случае 3 неизвестных, а ранг равен 2.\n",
    "\n",
    "Поскольку мы добились равенства рангов основной и расширенной матрицы, то решений бесконечное множество.\n",
    "\n",
    "Для решения системы мы должны выбрать количество уравнений, равных рангу матрицы и решить эти уравнения.\n",
    "\n",
    "$\n",
    "\\begin{bmatrix}\n",
    "1 & 2 & 3\\\\\n",
    "4 & 5 & 6\\\\\n",
    "7 & 8 & 9\n",
    "\\end{bmatrix} ∙ \n",
    "\\begin{bmatrix}\n",
    "x \\\\\n",
    "y \\\\\n",
    "z\n",
    "\\end{bmatrix}= \n",
    "\\begin{bmatrix}\n",
    "3 \\\\\n",
    "2 \\\\\n",
    "1\n",
    "\\end{bmatrix}\n",
    "$\n",
    "\n",
    "Вычитаем х2 первую строку из второй строчки и х3 первую строку из третьей строки:\n",
    "$\n",
    "\\begin{bmatrix}\n",
    "1 & 2 & 3\\\\\n",
    "2 & 1 & 0\\\\\n",
    "4 & 2 & 0\n",
    "\\end{bmatrix} ∙ \n",
    "\\begin{bmatrix}\n",
    "x \\\\\n",
    "y \\\\\n",
    "z\n",
    "\\end{bmatrix}= \n",
    "\\begin{bmatrix}\n",
    "3 \\\\\n",
    "-4 \\\\\n",
    "-8\n",
    "\\end{bmatrix}\n",
    "$\n",
    "\n",
    "Вычитаем х2 вторую строку из третьей строчки:\n",
    "$\n",
    "\\begin{bmatrix}\n",
    "1 & 2 & 3\\\\\n",
    "2 & 1 & 0\\\\\n",
    "0 & 0 & 0\n",
    "\\end{bmatrix} ∙ \n",
    "\\begin{bmatrix}\n",
    "x \\\\\n",
    "y \\\\\n",
    "z\n",
    "\\end{bmatrix}= \n",
    "\\begin{bmatrix}\n",
    "3 \\\\\n",
    "-4 \\\\\n",
    "0\n",
    "\\end{bmatrix}\n",
    "$\n",
    "\n",
    "Выкидываем 3 строку: \n",
    "$\n",
    "\\begin{bmatrix}\n",
    "1 & 2 & 3\\\\\n",
    "2 & 1 & 0\n",
    "\\end{bmatrix} ∙ \n",
    "\\begin{bmatrix}\n",
    "x \\\\\n",
    "y \\\\\n",
    "z\n",
    "\\end{bmatrix}= \n",
    "\\begin{bmatrix}\n",
    "3 \\\\\n",
    "-4\n",
    "\\end{bmatrix}\n",
    "$"
   ]
  },
  {
   "cell_type": "code",
   "execution_count": 34,
   "id": "16de8e9f",
   "metadata": {
    "scrolled": false
   },
   "outputs": [
    {
     "name": "stdout",
     "output_type": "stream",
     "text": [
      "Ранг матрицы А: 2\n",
      "Ранг матрицы C: 2\n"
     ]
    }
   ],
   "source": [
    "A = np.array([[1, 2, 3], [2, 1, 0]])\n",
    "B = np.array([[3, -4]])\n",
    "C = np.concatenate((A,B.T), axis=1)\n",
    "print(f\"Ранг матрицы А: {np.linalg.matrix_rank(A, 0.0001)}\")\n",
    "print(f\"Ранг матрицы C: {np.linalg.matrix_rank(C, 0.0001)}\")"
   ]
  },
  {
   "cell_type": "markdown",
   "id": "be1f5c2e",
   "metadata": {},
   "source": [
    "**Решение**\n",
    "\n",
    "$\n",
    "\\begin{cases}\n",
    "X - любое\\\\\n",
    "Y = - 4 - 2X \\\\\n",
    "Z = 1 - \\frac{2}{3}Y - \\frac{1}{3}X\n",
    "\\end{cases}\n",
    "$\n",
    "\n",
    "Покажем решение графически, так как их бесконечное множество."
   ]
  },
  {
   "cell_type": "code",
   "execution_count": 35,
   "id": "be8fca46",
   "metadata": {
    "scrolled": false
   },
   "outputs": [
    {
     "data": {
      "image/png": "[encoded data removed]",
      "text/plain": [
       "<Figure size 864x576 with 1 Axes>"
      ]
     },
     "metadata": {
      "needs_background": "light"
     },
     "output_type": "display_data"
    }
   ],
   "source": [
    "fig = figure()\n",
    "fig.set_size_inches(12, 8)\n",
    "ax = Axes3D(fig)\n",
    "X = np.arange(-150, 150, 0.5)\n",
    "Y = -4-2*X\n",
    "X, Y = np.meshgrid(X, Y)\n",
    "Z = 1 - Y*2/3 - X/3\n",
    "ax.plot_surface(X, Y, Z)\n",
    "show()"
   ]
  },
  {
   "cell_type": "markdown",
   "id": "3f6f5aea",
   "metadata": {},
   "source": [
    "Пример решения:\n",
    "\n",
    "Если $x_1 = 3$, тогда $X = \\begin{pmatrix}3\\\\-10\\\\ \\frac{-20}{3} \\end{pmatrix}$"
   ]
  },
  {
   "cell_type": "markdown",
   "id": "3663d3a8",
   "metadata": {},
   "source": [
    "### №4\n",
    "\n",
    "Вычислите LU-разложение матрицы: \n",
    "\n",
    "$\n",
    "\\begin{bmatrix}\n",
    "1 & 2 & 3 \\\\\n",
    "2 & 16 & 21 \\\\\n",
    "4 & 28 & 73\n",
    "\\end{bmatrix}\n",
    "$"
   ]
  },
  {
   "cell_type": "code",
   "execution_count": 36,
   "id": "41b562ea",
   "metadata": {
    "scrolled": false
   },
   "outputs": [
    {
     "name": "stdout",
     "output_type": "stream",
     "text": [
      "A:\n",
      "[[ 1  2  3]\n",
      " [ 2 16 21]\n",
      " [ 4 28 73]]\n",
      "\n",
      "P:\n",
      "[[0. 1. 0.]\n",
      " [0. 0. 1.]\n",
      " [1. 0. 0.]]\n",
      "\n",
      "L:\n",
      "[[ 1.    0.    0.  ]\n",
      " [ 0.25  1.    0.  ]\n",
      " [ 0.5  -0.4   1.  ]]\n",
      "\n",
      "U:\n",
      "[[  4.    28.    73.  ]\n",
      " [  0.    -5.   -15.25]\n",
      " [  0.     0.   -21.6 ]]\n",
      "\n"
     ]
    },
    {
     "data": {
      "text/plain": [
       "array([[ True,  True,  True],\n",
       "       [ True,  True,  True],\n",
       "       [ True,  True,  True]])"
      ]
     },
     "execution_count": 36,
     "metadata": {},
     "output_type": "execute_result"
    }
   ],
   "source": [
    "A = np.array([[1,2,3], [2,16,21], [4,28,73]])\n",
    "P, L, U = scipy.linalg.lu(A)\n",
    "\n",
    "print(f\"A:\\n{A}\\n\")\n",
    "print(f\"P:\\n{P}\\n\")\n",
    "print(f\"L:\\n{L}\\n\")\n",
    "print(f\"U:\\n{U}\\n\")\n",
    "\n",
    "np.dot(P.T, A) == np.dot(L, U)"
   ]
  },
  {
   "cell_type": "markdown",
   "id": "0e088e93",
   "metadata": {},
   "source": [
    "### №5\n",
    "\n",
    "Найдите нормальное псевдорешение недоопределенной системы:\n",
    "$\n",
    "x + 2y – z = 1  \\\\\n",
    "8x – 5y + 2z = 12\n",
    "$\n",
    "\n",
    "$\n",
    "\\begin{pmatrix}\n",
    "1 & 2 & -1\\\\\n",
    "8 & -5 & 2\n",
    "\\end{pmatrix} ∙ \n",
    "\\begin{pmatrix}\n",
    "x \\\\\n",
    "y \\\\\n",
    "z\n",
    "\\end{pmatrix}= \n",
    "\\begin{pmatrix}\n",
    "1 \\\\\n",
    "12 \n",
    "\\end{pmatrix}\n",
    "$\n",
    "\n",
    "Для этого определите функцию Q(x,y,z), равную норме решения, и найдите ее минимум.\n",
    "\n",
    "$\n",
    "\\begin{cases}\n",
    "X - любое\\\\\n",
    "Y = 10X - 14 \\\\\n",
    "Z = X - 2Y - 1\n",
    "\\end{cases}\n",
    "$         $\n",
    "\\begin{cases}\n",
    "X - любое\\\\\n",
    "Y = 10X - 14 \\\\\n",
    "Z = 21X - 29\n",
    "\\end{cases}\n",
    "$"
   ]
  },
  {
   "cell_type": "code",
   "execution_count": 37,
   "id": "6b3d2284",
   "metadata": {
    "scrolled": true
   },
   "outputs": [
    {
     "data": {
      "image/png": "[encoded data removed]",
      "text/plain": [
       "<Figure size 432x288 with 1 Axes>"
      ]
     },
     "metadata": {
      "needs_background": "light"
     },
     "output_type": "display_data"
    },
    {
     "name": "stdout",
     "output_type": "stream",
     "text": [
      "1.3819999999995174 -0.18000000000482608 0.021999999989866126\n"
     ]
    }
   ],
   "source": [
    "def Q(x, y, z):\n",
    "    return (x**2 + y**2 + z**2)\n",
    "from pylab import *\n",
    "from mpl_toolkits.mplot3d import Axes3D\n",
    "fig = figure()\n",
    "ax = Axes3D(fig)\n",
    "X = np.arange(-3, 3, 0.001)\n",
    "Y = np.arange(-3, 3, 0.001)\n",
    "X, Y = np.meshgrid(X, Y)\n",
    "Z = Q(X, 10*X - 14, 21*X-29)\n",
    "ax.plot_surface(X, Y, Z)\n",
    "show()\n",
    "\n",
    "# График построен, находим минимум Х по графику:\n",
    "xmin, ymin = np.unravel_index(np.argmin(Z), Z.shape)\n",
    "\n",
    "# По X находим минимумы Y и Z:\n",
    "min_point_X = X[xmin, ymin]\n",
    "min_point_Y = 10*min_point_X - 14\n",
    "min_point_Z = 21*min_point_X - 29\n",
    "\n",
    "print(min_point_X, min_point_Y, min_point_Z)"
   ]
  },
  {
   "cell_type": "code",
   "execution_count": 38,
   "id": "839dbfca",
   "metadata": {},
   "outputs": [
    {
     "name": "stdout",
     "output_type": "stream",
     "text": [
      "1.3819188191881924 -0.1808118081180802 0.020295202952029096\n"
     ]
    }
   ],
   "source": [
    "A = np.array([[1,2,-1],[8,-5,2]])\n",
    "B = np.array([1,12])\n",
    "min_point_X_lstsq, min_point_Y_lstsq, min_point_Z_lstsq = np.linalg.lstsq(A, B)[0]\n",
    "print(min_point_X_lstsq, min_point_Y_lstsq, min_point_Z_lstsq)"
   ]
  },
  {
   "cell_type": "code",
   "execution_count": 39,
   "id": "b08fa358",
   "metadata": {
    "scrolled": true
   },
   "outputs": [
    {
     "name": "stdout",
     "output_type": "stream",
     "text": [
      "По графику:       (1.3819999999995174, -0.18000000000482608, 0.021999999989866126)\n",
      "По функции lstsq: (1.3819188191881924, -0.1808118081180802, 0.020295202952029096)\n"
     ]
    }
   ],
   "source": [
    "print(f\"По графику:       {min_point_X, min_point_Y, min_point_Z}\")\n",
    "print(f\"По функции lstsq: {min_point_X_lstsq, min_point_Y_lstsq, min_point_Z_lstsq}\")"
   ]
  },
  {
   "cell_type": "code",
   "execution_count": 40,
   "id": "b0226636",
   "metadata": {},
   "outputs": [
    {
     "name": "stdout",
     "output_type": "stream",
     "text": [
      "По графику:       [ 1.38 -0.18  0.02]\n",
      "По функции lstsq: [ 1.38 -0.18  0.02]\n"
     ]
    }
   ],
   "source": [
    "print(f\"По графику:       {np.round((min_point_X,min_point_Y, min_point_Z),2)}\")\n",
    "print(f\"По функции lstsq: {np.round((min_point_X_lstsq, min_point_Y_lstsq, min_point_Z_lstsq),2)}\")"
   ]
  },
  {
   "cell_type": "markdown",
   "id": "13971028",
   "metadata": {},
   "source": [
    "### №6\n",
    "\n",
    "Найдите псевдорешение вырожденной линейной системы:\n",
    "\n",
    "$\n",
    "\\begin{bmatrix}\n",
    "1 & 2 & 3\\\\\n",
    "4 & 5 & 6\\\\\n",
    "7 & 8 & 9\n",
    "\\end{bmatrix} ∙ X = \n",
    "\\begin{bmatrix}\n",
    "2 \\\\\n",
    "5 \\\\\n",
    "11\n",
    "\\end{bmatrix}\n",
    "$\n",
    "\n",
    "Попробуйте отыскать нормальное псевдорешение."
   ]
  },
  {
   "cell_type": "markdown",
   "id": "2ee57afd",
   "metadata": {},
   "source": [
    "Проверим является ли СЛАУ вырожденной и имеет ли решения:"
   ]
  },
  {
   "cell_type": "code",
   "execution_count": 41,
   "id": "19fc9bfe",
   "metadata": {},
   "outputs": [
    {
     "name": "stdout",
     "output_type": "stream",
     "text": [
      "det A = -0.0, rank = 2\n"
     ]
    }
   ],
   "source": [
    "A = np.array([[1,2,3],[4,5,6],[7,8,9]])\n",
    "print(f\"det A = {round(np.linalg.det(A),5)}, rank = {np.linalg.matrix_rank(A)}\")"
   ]
  },
  {
   "cell_type": "code",
   "execution_count": 42,
   "id": "db7c7471",
   "metadata": {},
   "outputs": [
    {
     "name": "stdout",
     "output_type": "stream",
     "text": [
      "Ранг матрицы А: 2\n",
      "Ранг матрицы C: 3\n"
     ]
    }
   ],
   "source": [
    "A = np.array([[1, 2, 3], [4, 5, 6], [7, 8, 9]])\n",
    "B = np.array([[2, 5, 11]])\n",
    "C = np.concatenate((A,B.T), axis=1)\n",
    "print(f\"Ранг матрицы А: {np.linalg.matrix_rank(A, 0.0001)}\")\n",
    "print(f\"Ранг матрицы C: {np.linalg.matrix_rank(C, 0.0001)}\")"
   ]
  },
  {
   "cell_type": "markdown",
   "id": "a8a7791d",
   "metadata": {},
   "source": [
    "СЛАУ вырожденная, определитель матрица А равен 0, однако ранг основной матрицы меньше ранга расширенной матрицы, что означает что решений нет."
   ]
  },
  {
   "cell_type": "markdown",
   "id": "5ec2cadf",
   "metadata": {},
   "source": [
    "### 1 способ: \"С помощью библиотеки numpy и QR-разложения\""
   ]
  },
  {
   "cell_type": "markdown",
   "id": "818f9dd0",
   "metadata": {},
   "source": [
    "**1) Найдем псевдорешение:**"
   ]
  },
  {
   "cell_type": "code",
   "execution_count": 43,
   "id": "e5da3dfd",
   "metadata": {
    "scrolled": true
   },
   "outputs": [
    {
     "name": "stdout",
     "output_type": "stream",
     "text": [
      "[[-0.12309149  0.90453403  0.40824829]\n",
      " [-0.49236596  0.30151134 -0.81649658]\n",
      " [-0.86164044 -0.30151134  0.40824829]]\n",
      "[[-8.12403840e+00 -9.60113630e+00 -1.10782342e+01]\n",
      " [ 0.00000000e+00  9.04534034e-01  1.80906807e+00]\n",
      " [ 0.00000000e+00  0.00000000e+00 -1.11164740e-15]]\n"
     ]
    }
   ],
   "source": [
    "A = np.array([[1,2,3],[4,5,6],[7,8,9]])\n",
    "B = np.array([2,5,11])\n",
    "Q, R = np.linalg.qr(A)\n",
    "print(Q)\n",
    "print(R)"
   ]
  },
  {
   "cell_type": "code",
   "execution_count": 44,
   "id": "cff793b7",
   "metadata": {},
   "outputs": [
    {
     "data": {
      "text/plain": [
       "(array([[-8.1240384 , -9.6011363 ],\n",
       "        [ 0.        ,  0.90453403]]),\n",
       " array([-1.21860576e+01,  8.54871729e-15]),\n",
       " array([1.50000000e+00, 9.45096256e-15]))"
      ]
     },
     "execution_count": 44,
     "metadata": {},
     "output_type": "execute_result"
    }
   ],
   "source": [
    "R1 = R[:2, :2]\n",
    "B1 = np.dot(Q.T, B)[:2]\n",
    "X1 = np.linalg.solve(R1,B1)\n",
    "R1, B1, X1"
   ]
  },
  {
   "cell_type": "code",
   "execution_count": 45,
   "id": "b894bf93",
   "metadata": {},
   "outputs": [
    {
     "name": "stdout",
     "output_type": "stream",
     "text": [
      "Найденное псевдорешение: [1.5 0.  0. ]\n",
      "Норма X: 1.5\n",
      "Норма невязки: 1.224744871391589\n"
     ]
    },
    {
     "data": {
      "text/plain": [
       "1.5"
      ]
     },
     "execution_count": 45,
     "metadata": {},
     "output_type": "execute_result"
    }
   ],
   "source": [
    "X = np.append(X1, 0)\n",
    "X = np.round(X, 10)\n",
    "print(f\"Найденное псевдорешение: {X}\")\n",
    "print(f\"Норма X: {np.linalg.norm(X)}\")\n",
    "print(f\"Норма невязки: {np.linalg.norm(np.dot(A,X)-B)}\")\n",
    "np.linalg.norm(X)"
   ]
  },
  {
   "cell_type": "markdown",
   "id": "17cb223b",
   "metadata": {},
   "source": [
    "**2) Найдем нормальное псевдорешение:**"
   ]
  },
  {
   "cell_type": "code",
   "execution_count": 46,
   "id": "724f3f2e",
   "metadata": {
    "scrolled": true
   },
   "outputs": [
    {
     "name": "stdout",
     "output_type": "stream",
     "text": [
      "Нормальное псевдорешение через np.linalg.lstsq: [ 1.25  0.5  -0.25]\n",
      "Норма X (нормальное псевдорешение): 1.3693063937629153\n",
      "Норма невязки: 1.224744871391589\n"
     ]
    }
   ],
   "source": [
    "A = np.array([[1,2,3],[4,5,6],[7,8,9]])\n",
    "B = np.array([2,5,11])\n",
    "print(f\"Нормальное псевдорешение через np.linalg.lstsq: {np.linalg.lstsq(A, B)[0]}\")\n",
    "X = np.array([1.25,  0.5,  -0.25])\n",
    "print(f\"Норма X (нормальное псевдорешение): {np.linalg.norm(X)}\")\n",
    "print(f\"Норма невязки: {np.linalg.norm(np.dot(A,X)-B)}\")"
   ]
  },
  {
   "cell_type": "markdown",
   "id": "538b8c66",
   "metadata": {},
   "source": [
    "### 2 способ: \"На листочке\""
   ]
  },
  {
   "cell_type": "markdown",
   "id": "9f0361b2",
   "metadata": {},
   "source": [
    "$AX=B$\n",
    "\n",
    "$\n",
    "\\begin{pmatrix}\n",
    "1 & 2 & 3\\\\\n",
    "4 & 5 & 6\\\\\n",
    "7 & 8 & 9\n",
    "\\end{pmatrix} ∙ \n",
    "\\begin{pmatrix}\n",
    "x_1 \\\\\n",
    "x_2 \\\\\n",
    "x_3\n",
    "\\end{pmatrix} = \n",
    "\\begin{pmatrix}\n",
    "2 \\\\\n",
    "5 \\\\\n",
    "11\n",
    "\\end{pmatrix}\n",
    "$"
   ]
  },
  {
   "cell_type": "markdown",
   "id": "e68ac3df",
   "metadata": {},
   "source": [
    "**1) Поиск псевдорешения**\n",
    "\n",
    "$\n",
    "A = \\begin{pmatrix}\n",
    "1 & 2 & 3\\\\\n",
    "4 & 5 & 6\\\\\n",
    "7 & 8 & 9\n",
    "\\end{pmatrix}\n",
    "$ $\n",
    "B = \\begin{pmatrix}\n",
    "2 \\\\\n",
    "5 \\\\\n",
    "11\n",
    "\\end{pmatrix}\n",
    "$ $\n",
    "A^{T} = \\begin{pmatrix}\n",
    "1 & 4 & 7\\\\\n",
    "2 & 5 & 8\\\\\n",
    "3 & 6 & 9\n",
    "\\end{pmatrix}\n",
    "$\n",
    "\n",
    "Вместо $AX=B$ будем решать: $A^{T}AX=A^{T}B$\n",
    "\n",
    "$\n",
    "A^{T}B = \\begin{pmatrix}\n",
    "66 & 78 & 90\\\\\n",
    "78 & 93 & 108\\\\\n",
    "90 & 108 & 126\n",
    "\\end{pmatrix}\n",
    "$ $\n",
    "A^{T}A = \\begin{pmatrix}\n",
    "99\\\\\n",
    "117\\\\\n",
    "135\n",
    "\\end{pmatrix}\n",
    "$\n",
    "\n",
    "Решаем систему $A^{T}AX=A^{T}B$ :\n",
    "\n",
    "$\n",
    "\\begin{pmatrix}\n",
    "66 & 78 & 90 & | & 99 \\\\\n",
    "78 & 93 & 108 & | & 117\\\\\n",
    "90 & 108 & 126 & | & 135\n",
    "\\end{pmatrix} \\to\n",
    "\\begin{pmatrix}\n",
    "1 & \\frac{13}{11} & \\frac{15}{11} & | & 1.5 \\\\\n",
    "78 & 93 & 108 & | & 117\\\\\n",
    "90 & 108 & 126 & | & 135\n",
    "\\end{pmatrix} \\to\n",
    "\\begin{pmatrix}\n",
    "1 & \\frac{13}{11} & \\frac{15}{11} & | & 1.5 \\\\\n",
    "0 & \\frac{9}{11} & \\frac{18}{11} & | & 0\\\\\n",
    "0 & \\frac{18}{11} & \\frac{36}{11} & | & 0\n",
    "\\end{pmatrix} \\to$\n",
    "\n",
    "\n",
    "$\\to \\begin{pmatrix}\n",
    "1 & \\frac{13}{11} & \\frac{15}{11} & | & 1.5 \\\\\n",
    "0 & 1 & 2 & | & 0\\\\\n",
    "0 & \\frac{18}{11} & \\frac{36}{11} & | & 0\n",
    "\\end{pmatrix} \\to \n",
    "\\begin{pmatrix}\n",
    "1 & 0 & -1 & | & 1.5 \\\\\n",
    "0 & 1 & 2 & | & 0\\\\\n",
    "0 & 0 & 0 & | & 0\n",
    "\\end{pmatrix}\n",
    "$ \n",
    "\n",
    "Пусть $x_3$ - свободный, тогда общее псевдорешение $X = \\begin{pmatrix}x_3 + 1.5\\\\-2x_3\\\\x_3\\end{pmatrix}$\n",
    "\n",
    "Примеры:\n",
    "<ul>\n",
    "    <li>$x_3=0$, $X = \\begin{pmatrix}1.5\\\\0\\\\0\\end{pmatrix}$</li>\n",
    "    <li>$x_3=1$, $X = \\begin{pmatrix}2.5\\\\-2\\\\1\\end{pmatrix}$</li>\n",
    "</ul>"
   ]
  },
  {
   "cell_type": "markdown",
   "id": "537e289a",
   "metadata": {},
   "source": [
    "**2) Поиск нормального псевдорешения**\n",
    "\n",
    "Функция нормали: \n",
    "$\n",
    "f(x_1, x_2, x_3) = x_1^{2} + x_2^{2} + x_3^{2} \\\\\n",
    "f(x_3) = (x_3 + 1.5)^2 + (-2x_3)^2 + x_3^{2}\n",
    "$\n",
    "\n",
    "Найдем минимум:\n",
    "\n",
    "$ f'(x_3) = 0 $\n",
    "\n",
    "Вычисляем производную:\n",
    "$\n",
    "f'(x_3) = ((x_3 + 1.5)^2 + (-2x_3)^2 + x_3^{2})' \\\\\n",
    "f'(x_3) = (2.25 + 6x_3^{2} + 3x_3)' \\\\\n",
    "f'(x_3) = 12x_3 + 3\n",
    "$\n",
    "\n",
    "Подставляем:\n",
    "\n",
    "$12x_3 + 3 = 0\\\\\n",
    "x_3 = -0.25, x_1 = 1.25, x_2 = 0.5$\n",
    "\n",
    "Нормальное псевдорешение $X = \\begin{pmatrix}1.25\\\\0.5\\\\-0.25\\end{pmatrix}$"
   ]
  },
  {
   "cell_type": "code",
   "execution_count": 47,
   "id": "661cae7c",
   "metadata": {},
   "outputs": [
    {
     "name": "stdout",
     "output_type": "stream",
     "text": [
      "1 псевдорешение:\n",
      "\tX1: [1.5 0.  0. ]\n",
      "\tНорма X1: 1.5\n",
      "\tНорма невязки X1: 1.224744871391589\n",
      "2 псевдорешение:\n",
      "\tX2: [ 2.5 -2.   1. ]\n",
      "\tНорма X2: 3.3541019662496847\n",
      "\tНорма невязки X2: 1.224744871391589\n"
     ]
    }
   ],
   "source": [
    "A = np.array([[1,2,3],[4,5,6],[7,8,9]])\n",
    "B = np.array([2,5,11])\n",
    "X1 = np.array([1.5, 0, 0])\n",
    "X2 = np.array([2.5, -2, 1])\n",
    "print(\"1 псевдорешение:\")\n",
    "print(f\"\\tX1: {X1}\")\n",
    "print(f\"\\tНорма X1: {np.linalg.norm(X1)}\")\n",
    "print(f\"\\tНорма невязки X1: {np.linalg.norm(np.dot(A,X1)-B)}\")\n",
    "print(\"2 псевдорешение:\")\n",
    "print(f\"\\tX2: {X2}\")\n",
    "print(f\"\\tНорма X2: {np.linalg.norm(X2)}\")\n",
    "print(f\"\\tНорма невязки X2: {np.linalg.norm(np.dot(A,X2)-B)}\")"
   ]
  },
  {
   "cell_type": "code",
   "execution_count": 48,
   "id": "aa98628e",
   "metadata": {},
   "outputs": [
    {
     "name": "stdout",
     "output_type": "stream",
     "text": [
      "Нормальное псевдорешение:\n",
      "\tX_norm: [ 1.25  0.5  -0.25]\n",
      "\tНорма X_norm: 1.3693063937629153\n",
      "\tНорма невязки X_norm: 1.224744871391589\n"
     ]
    }
   ],
   "source": [
    "X_norm = np.array([1.25, 0.5, -0.25])\n",
    "print(\"Нормальное псевдорешение:\")\n",
    "print(f\"\\tX_norm: {X_norm}\")\n",
    "print(f\"\\tНорма X_norm: {np.linalg.norm(X_norm)}\")\n",
    "print(f\"\\tНорма невязки X_norm: {np.linalg.norm(np.dot(A,X_norm)-B)}\")"
   ]
  }
 ],
 "metadata": {
  "kernelspec": {
   "display_name": "Python 3 (ipykernel)",
   "language": "python",
   "name": "python3"
  },
  "language_info": {
   "codemirror_mode": {
    "name": "ipython",
    "version": 3
   },
   "file_extension": ".py",
   "mimetype": "text/x-python",
   "name": "python",
   "nbconvert_exporter": "python",
   "pygments_lexer": "ipython3",
   "version": "3.8.8"
  }
 },
 "nbformat": 4,
 "nbformat_minor": 5
}
