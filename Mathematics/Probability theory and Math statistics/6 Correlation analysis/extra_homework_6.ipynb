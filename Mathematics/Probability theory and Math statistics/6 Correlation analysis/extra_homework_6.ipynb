{
 "cells": [
  {
   "cell_type": "markdown",
   "id": "8b554bab",
   "metadata": {},
   "source": [
    "# Практическое задание №6 по теме \"Взаимосвязь величин. Показатели корреляции. Корреляционный анализ. Проверка на нормальность\".\n",
    "\n",
    "Дополнительное задание"
   ]
  },
  {
   "cell_type": "code",
   "execution_count": 1,
   "id": "a66d4b42",
   "metadata": {},
   "outputs": [],
   "source": [
    "import numpy as np\n",
    "from scipy import stats"
   ]
  },
  {
   "cell_type": "markdown",
   "id": "b9f3a5c8",
   "metadata": {},
   "source": [
    "## Задача 1\n",
    "\n",
    "Даны значения величины заработной платы заемщиков банка (`salary`) и значения их поведенческого кредитного скоринга (`scoring`):\n",
    "```\n",
    "salary = [35, 45, 190, 200, 40, 70, 54, 150, 120, 110]\n",
    "scoring = [401, 574, 874, 919, 459, 739, 653, 902, 746, 832]\n",
    "```\n",
    "Используя только встроенные питоновские функции и структуры данных (т.е. без библиотек `numpy`, `pandas` и др.) найдите коэффициент корреляции Пирсона двух выборок."
   ]
  },
  {
   "cell_type": "markdown",
   "id": "28c59ff4",
   "metadata": {},
   "source": [
    "__Решение__"
   ]
  },
  {
   "cell_type": "markdown",
   "id": "4ef62b66",
   "metadata": {},
   "source": [
    "Найдем коэффициент корреляции Пирсона, который можно посчитать следующим образом:\n",
    "\n",
    "$$r_{XY} = \\dfrac{\\sigma_{XY}}{\\sigma_X \\cdot \\sigma_Y},$$\n",
    "\n",
    "где $\\sigma_X$, $\\sigma_Y$ — среднее квадратическое отклонение, $\\sigma_{XY}$ - ковариация (несмещенная оценка).\n",
    "\n",
    "$$\\sigma_{XY} = \\dfrac{1}{n - 1} \\displaystyle\\sum_{i = 1}^n \\left( x_i - \\overline{X} \\right) \\cdot \\left( y_i - \\overline{Y} \\right)$$"
   ]
  },
  {
   "cell_type": "code",
   "execution_count": 2,
   "id": "9426057b",
   "metadata": {},
   "outputs": [],
   "source": [
    "salary = [35, 45, 190, 200, 40, 70, 54, 150, 120, 110]\n",
    "scoring = [401, 574, 874, 919, 459, 739, 653, 902, 746, 832]\n",
    "n = len(scoring) if len(scoring)  == len(salary)  else 0"
   ]
  },
  {
   "cell_type": "code",
   "execution_count": 3,
   "id": "09791a0d",
   "metadata": {},
   "outputs": [
    {
     "data": {
      "text/plain": [
       "(101.4, 709.9)"
      ]
     },
     "execution_count": 3,
     "metadata": {},
     "output_type": "execute_result"
    }
   ],
   "source": [
    "salary_mean = sum(salary)/n\n",
    "scoring_mean = sum(scoring)/n\n",
    "\n",
    "salary_mean, scoring_mean"
   ]
  },
  {
   "cell_type": "code",
   "execution_count": 4,
   "id": "f45391dc",
   "metadata": {},
   "outputs": [
    {
     "data": {
      "text/plain": [
       "10175.377777777778"
      ]
     },
     "execution_count": 4,
     "metadata": {},
     "output_type": "execute_result"
    }
   ],
   "source": [
    "cov = sum([(scoring[i] - scoring_mean)*(salary[i] - salary_mean) for i in range(n)])/(n-1)\n",
    "cov"
   ]
  },
  {
   "cell_type": "code",
   "execution_count": 5,
   "id": "348a4a7d",
   "metadata": {},
   "outputs": [
    {
     "data": {
      "text/plain": [
       "(62.31318747531162, 183.99544076477068)"
      ]
     },
     "execution_count": 5,
     "metadata": {},
     "output_type": "execute_result"
    }
   ],
   "source": [
    "salary_std = (sum([(s - salary_mean)**2 for s in salary])/(n-1))**0.5\n",
    "scoring_std = (sum([(s - scoring_mean)**2 for s in scoring])/(n-1))**0.5\n",
    "\n",
    "salary_std, scoring_std"
   ]
  },
  {
   "cell_type": "code",
   "execution_count": 6,
   "id": "831a4457",
   "metadata": {},
   "outputs": [
    {
     "data": {
      "text/plain": [
       "0.88749009"
      ]
     },
     "execution_count": 6,
     "metadata": {},
     "output_type": "execute_result"
    }
   ],
   "source": [
    "corr = cov/salary_std/scoring_std\n",
    "round(corr, 8)"
   ]
  },
  {
   "cell_type": "markdown",
   "id": "ae307856",
   "metadata": {},
   "source": [
    "__Ответ__: $\\sigma_{XY}$ = 0.88749009"
   ]
  },
  {
   "cell_type": "markdown",
   "id": "8178ea95",
   "metadata": {},
   "source": [
    "---"
   ]
  },
  {
   "cell_type": "markdown",
   "id": "2ea1a9df",
   "metadata": {},
   "source": [
    "## Задача 2\n",
    "\n",
    "Проведите тест на значимость коэффициента корреляции Пирсона, найденного в предыдущей задаче. Что для этого нужно знать:\n",
    "* Нулевая гипотеза: реальный коэффициент корреляции равен 0. Альтернативная гипотеза двухсторонняя.\n",
    "* Статистика: `t = r * sqrt(n - 2) / sqrt(1 - r ** 2)`, где `r` - коэффициент корреляции Пирсона, посчитанный по выборке.\n",
    "* В предположении верности нулевой гипотезы эта статистика имеет распределение Стьюдента с параметром `df = n - 2`.\n",
    "\n",
    "В качестве ответа запишите 1, если нулевая гипотеза верна, и 0 иначе."
   ]
  },
  {
   "cell_type": "markdown",
   "id": "14d65b08",
   "metadata": {},
   "source": [
    "__Решение__"
   ]
  },
  {
   "cell_type": "markdown",
   "id": "654d0002",
   "metadata": {},
   "source": [
    "1. В качестве нулевой гипотезы $H_{0}$ берется гипотеза о том, что реальный коэффициент корреляции Пирсона равен `0`"
   ]
  },
  {
   "cell_type": "markdown",
   "id": "58787708",
   "metadata": {},
   "source": [
    "2. По условию задания выбрана следующая статистика: `t = r * sqrt(n - 2) / sqrt(1 - r ** 2)`, где `r` - коэффициент корреляции Пирсона, посчитанный по выборке."
   ]
  },
  {
   "cell_type": "markdown",
   "id": "3f2a3345",
   "metadata": {},
   "source": [
    "3. Возьмем уровень значимости $\\alpha = 0.05$"
   ]
  },
  {
   "cell_type": "markdown",
   "id": "fc054aaf",
   "metadata": {},
   "source": [
    "4. Критическая область $\\Omega_\\alpha$\n",
    "\n",
    "Выбранная по условию задания статистика имеет имеет __распределение Стьюдента__ или __t-распределение__ с параметром $df = n - 2$. Также нам известно, что альтернативная гипотеза является двухсторонней, а это значит, что критическая область также будет двухсторонней. Для её построения нам понадобятся квантили $t_{\\alpha / 2}$ и $t_{1 - \\alpha / 2}$ t-распределения. Найдём их с помощью `scipy.stats.t.ppf`."
   ]
  },
  {
   "cell_type": "code",
   "execution_count": 7,
   "id": "13105138",
   "metadata": {},
   "outputs": [],
   "source": [
    "def t_statistic(n: int, r: float) -> float:\n",
    "    return (r * np.sqrt(n - 2) / np.sqrt(1 - r ** 2))"
   ]
  },
  {
   "cell_type": "code",
   "execution_count": 8,
   "id": "55e963b2",
   "metadata": {},
   "outputs": [],
   "source": [
    "alpha = 0.05"
   ]
  },
  {
   "cell_type": "code",
   "execution_count": 9,
   "id": "efbf8b6a",
   "metadata": {},
   "outputs": [
    {
     "data": {
      "text/plain": [
       "array([-2.30600414,  2.30600414])"
      ]
     },
     "execution_count": 9,
     "metadata": {},
     "output_type": "execute_result"
    }
   ],
   "source": [
    "t1 = stats.t.ppf(alpha/2, df=n-2)\n",
    "t2 = stats.t.ppf(1-alpha/2, df=n-2)\n",
    "\n",
    "np.round((t1, t2), 8)"
   ]
  },
  {
   "cell_type": "markdown",
   "id": "5c427296",
   "metadata": {},
   "source": [
    "Итак, критическая область:\n",
    "$$\\Omega_\\alpha = (-\\infty, -2.30600414) \\cup (2.30600414, \\infty)$$"
   ]
  },
  {
   "cell_type": "markdown",
   "id": "6606ad60",
   "metadata": {},
   "source": [
    "5. Статистический тест"
   ]
  },
  {
   "cell_type": "code",
   "execution_count": 10,
   "id": "96de0889",
   "metadata": {},
   "outputs": [
    {
     "data": {
      "text/plain": [
       "5.447168150485575"
      ]
     },
     "execution_count": 10,
     "metadata": {},
     "output_type": "execute_result"
    }
   ],
   "source": [
    "S = t_statistic(n, corr)\n",
    "S"
   ]
  },
  {
   "cell_type": "markdown",
   "id": "963a041b",
   "metadata": {},
   "source": [
    "Найденное значение попало в критическую область $\\Omega_\\alpha = (-\\infty, -2.30600414) \\cup (2.30600414, \\infty)$. Нулевау гипотезу стоит отвергнуть. "
   ]
  },
  {
   "cell_type": "markdown",
   "id": "5502e003",
   "metadata": {},
   "source": [
    "Для чистоты найдем __P-значение__:"
   ]
  },
  {
   "cell_type": "code",
   "execution_count": 11,
   "id": "4a4fea50",
   "metadata": {},
   "outputs": [
    {
     "name": "stdout",
     "output_type": "stream",
     "text": [
      "P-value: 0.0006107546587257318\n"
     ]
    }
   ],
   "source": [
    "p_left = stats.t.cdf(S, df=n - 2)\n",
    "p_right = 1 - stats.t.cdf(S, df=n - 2)\n",
    "\n",
    "pvalue = 2 * min(p_left, p_right)\n",
    "print(f\"P-value: {pvalue}\")"
   ]
  },
  {
   "cell_type": "markdown",
   "id": "a1ffc974",
   "metadata": {},
   "source": [
    "__P-значение__ приблизительно равно нулю, это означает, что сколько бы мы не уменьшали $\\alpha$ (уровень значимости), не попасть в критическую область довольно сложность. Нулевую гипотезу $H_{0}$ смело можно отвергать."
   ]
  },
  {
   "cell_type": "markdown",
   "id": "408ea442",
   "metadata": {},
   "source": [
    "__Ответ__: 0"
   ]
  },
  {
   "cell_type": "markdown",
   "id": "a0ec2443",
   "metadata": {},
   "source": [
    "---"
   ]
  },
  {
   "cell_type": "markdown",
   "id": "26fc00eb",
   "metadata": {},
   "source": [
    "## Задача 3\n",
    "\n",
    "Измерены значения IQ выборки студентов, обучающихся в местных технических вузах:\n",
    "```\n",
    "131, 125, 115, 122, 131, 115, 107, 99, 125, 111\n",
    "```\n",
    "Известно, что в генеральной совокупности IQ распределен нормально. Найдите ширину доверительного интервала для математического ожидания с надежностью 0.95.\n",
    "\n",
    "__Ответ__: 15.0878327"
   ]
  },
  {
   "cell_type": "markdown",
   "id": "408a6624",
   "metadata": {},
   "source": [
    "__Решение__"
   ]
  },
  {
   "cell_type": "markdown",
   "id": "74180248",
   "metadata": {},
   "source": [
    "Генеральная совокупность распределена нормально, дисперсия неизвестна, оценка математического ожидания. На основании этих данных используем __t-статистику__, которая имеет распределение Стьюдента:\n",
    "$$t = \\dfrac{\\overline{X} - \\mu}{\\sigma_X / \\sqrt{n}}$$\n",
    "\n",
    "Требуется построить доверительный интервал для математического ожидания $\\mu$ с доверительной вероятностью $p=0.95$\n",
    "\n",
    "$$P \\left( \\overline{X} + t_{\\alpha / 2, \\: n - 1} \\cdot \\dfrac{\\sigma_X}{\\sqrt{n}} \\leq \\mu \\leq \\overline{X} + t_{1 - \\alpha / 2, \\: n - 1} \\cdot \\dfrac{\\sigma_X}{\\sqrt{n}} \\right) = p$$"
   ]
  },
  {
   "cell_type": "code",
   "execution_count": 12,
   "id": "4311b749",
   "metadata": {},
   "outputs": [],
   "source": [
    "IQ = np.array([131, 125, 115, 122, 131, 115, 107, 99, 125, 111])\n",
    "p = 0.95"
   ]
  },
  {
   "cell_type": "markdown",
   "id": "a318a192",
   "metadata": {},
   "source": [
    "Расчитаем $\\overline X$, $\\sigma_{X}$, $n$, $alpha$"
   ]
  },
  {
   "cell_type": "code",
   "execution_count": 13,
   "id": "6eb3f434",
   "metadata": {},
   "outputs": [
    {
     "data": {
      "text/plain": [
       "(10, 118.1, 10.54566788359614, 0.050000000000000044)"
      ]
     },
     "execution_count": 13,
     "metadata": {},
     "output_type": "execute_result"
    }
   ],
   "source": [
    "n = IQ.shape[0]\n",
    "mean = IQ.mean()\n",
    "std = IQ.std(ddof=1)\n",
    "alpha = 1 - p\n",
    "\n",
    "n, mean, std, alpha"
   ]
  },
  {
   "cell_type": "markdown",
   "id": "a79271b8",
   "metadata": {},
   "source": [
    "Найдем квантили:"
   ]
  },
  {
   "cell_type": "code",
   "execution_count": 14,
   "id": "3f5ca7dd",
   "metadata": {},
   "outputs": [
    {
     "data": {
      "text/plain": [
       "(-2.2621571627409915, 2.2621571627409915)"
      ]
     },
     "execution_count": 14,
     "metadata": {},
     "output_type": "execute_result"
    }
   ],
   "source": [
    "t1 = stats.t.ppf(alpha/2, df=n-1)\n",
    "t2 = stats.t.ppf(1-alpha/2, df=n-1)\n",
    "\n",
    "t1, t2"
   ]
  },
  {
   "cell_type": "markdown",
   "id": "f7eb8df9",
   "metadata": {},
   "source": [
    "Итак, доверительный интервал:"
   ]
  },
  {
   "cell_type": "code",
   "execution_count": 15,
   "id": "b07b31ee",
   "metadata": {},
   "outputs": [
    {
     "data": {
      "text/plain": [
       "(110.55608365158724, 125.64391634841274)"
      ]
     },
     "execution_count": 15,
     "metadata": {},
     "output_type": "execute_result"
    }
   ],
   "source": [
    "CI = (mean + t1 * std / np.sqrt(n), mean + t2 * std / np.sqrt(n))\n",
    "CI"
   ]
  },
  {
   "cell_type": "markdown",
   "id": "5bf85114",
   "metadata": {},
   "source": [
    "Ширина доверительного интервала:"
   ]
  },
  {
   "cell_type": "code",
   "execution_count": 16,
   "id": "13ef9330",
   "metadata": {},
   "outputs": [
    {
     "data": {
      "text/plain": [
       "15.0878327"
      ]
     },
     "execution_count": 16,
     "metadata": {},
     "output_type": "execute_result"
    }
   ],
   "source": [
    "np.round(CI[1] - CI[0], 8)"
   ]
  },
  {
   "cell_type": "markdown",
   "id": "344853f2",
   "metadata": {},
   "source": [
    "__Ответ__: 15.0878327"
   ]
  },
  {
   "cell_type": "markdown",
   "id": "0b91d64a",
   "metadata": {},
   "source": [
    "---"
   ]
  }
 ],
 "metadata": {
  "kernelspec": {
   "display_name": "Python 3 (ipykernel)",
   "language": "python",
   "name": "python3"
  },
  "language_info": {
   "codemirror_mode": {
    "name": "ipython",
    "version": 3
   },
   "file_extension": ".py",
   "mimetype": "text/x-python",
   "name": "python",
   "nbconvert_exporter": "python",
   "pygments_lexer": "ipython3",
   "version": "3.8.8"
  }
 },
 "nbformat": 4,
 "nbformat_minor": 5
}
