{
 "cells": [
  {
   "cell_type": "markdown",
   "metadata": {
    "id": "PmkSkDnHJEm6"
   },
   "source": [
    "# Теория вероятностей и математическая статистика\n",
    "\n",
    "## Урок 1\n",
    "\n",
    "## Случайные события. Вероятность события. Условная вероятность. Формула Байеса\n",
    "\n",
    "### Разбор домашнего задания"
   ]
  },
  {
   "cell_type": "code",
   "execution_count": 25,
   "metadata": {
    "execution": {
     "iopub.execute_input": "2021-02-13T12:55:07.433202Z",
     "iopub.status.busy": "2021-02-13T12:55:07.431889Z",
     "iopub.status.idle": "2021-02-13T12:55:07.538537Z",
     "shell.execute_reply": "2021-02-13T12:55:07.539341Z"
    },
    "id": "O4YFcXw9JEnC"
   },
   "outputs": [],
   "source": [
    "import numpy as np"
   ]
  },
  {
   "cell_type": "code",
   "execution_count": 26,
   "metadata": {
    "execution": {
     "iopub.execute_input": "2021-02-13T12:55:07.545252Z",
     "iopub.status.busy": "2021-02-13T12:55:07.544525Z",
     "iopub.status.idle": "2021-02-13T12:55:07.546489Z",
     "shell.execute_reply": "2021-02-13T12:55:07.547193Z"
    },
    "id": "2KEFBb41JEnF"
   },
   "outputs": [],
   "source": [
    "def combinations(n: int, k: int) -> int:\n",
    "    \"\"\"Число сочетаний.\n",
    "    \"\"\"\n",
    "    \n",
    "    return np.math.factorial(n) // (np.math.factorial(k) * np.math.factorial(n - k))"
   ]
  },
  {
   "cell_type": "markdown",
   "metadata": {
    "id": "_ZXDHkgxJEnM"
   },
   "source": [
    "__Задачи 1 и 2__\n",
    "\n",
    "Из 60 вопросов, входящих в экзаменационные билеты, студент знает 50. Случайным образом студент вытягивает 3 вопроса. Какова вероятность, что все выбранные вопросы знакомы студенту? Какова вероятность что два из трёх вопросов знакомы студенту?"
   ]
  },
  {
   "cell_type": "markdown",
   "metadata": {
    "id": "lBHIIibNJEnN"
   },
   "source": [
    "__Решение__\n",
    "\n",
    "Общее число исходов при вытягивании $3$ билетов из $60$ равно \n",
    "$C_{60}^3 = \\dfrac{60!}{3! \\cdot 57!} = \\dfrac{60 \\cdot 59 \\cdot 58}{6}$.\n",
    "\n",
    "Число исходов, благоприятных для события «все билеты знакомые», равно \n",
    "$C_{50}^3 = \\dfrac{50 \\cdot 49 \\cdot 48}{6}$. Итак, вероятность первого события:"
   ]
  },
  {
   "cell_type": "code",
   "execution_count": 27,
   "metadata": {
    "execution": {
     "iopub.execute_input": "2021-02-13T12:55:07.591204Z",
     "iopub.status.busy": "2021-02-13T12:55:07.590291Z",
     "iopub.status.idle": "2021-02-13T12:55:07.593349Z",
     "shell.execute_reply": "2021-02-13T12:55:07.594163Z"
    },
    "id": "EaKRo49YJEnN",
    "outputId": "aa0cdb67-b3a1-4406-9f8d-dcaae10e620e"
   },
   "outputs": [
    {
     "data": {
      "text/plain": [
       "0.5727644652250146"
      ]
     },
     "execution_count": 27,
     "metadata": {},
     "output_type": "execute_result"
    }
   ],
   "source": [
    "combinations(50, 3) / combinations(60, 3)"
   ]
  },
  {
   "cell_type": "markdown",
   "metadata": {
    "id": "3b0tkzkDJEnN"
   },
   "source": [
    "Чтобы посчитить число благоприятных исходов для второго события, надо посчитать число возможностей выбрать $2$ знакомых билета (из $50$) и $1$ незнакомый билет (из $10$). Число таких исходов: \n",
    "$C_{50}^2 \\cdot C_{10}^1 = \\dfrac{50 \\cdot 49}{2} \\cdot 10$. Итак, вероятность второго события:"
   ]
  },
  {
   "cell_type": "code",
   "execution_count": 28,
   "metadata": {
    "execution": {
     "iopub.execute_input": "2021-02-13T12:55:07.599711Z",
     "iopub.status.busy": "2021-02-13T12:55:07.598852Z",
     "iopub.status.idle": "2021-02-13T12:55:07.601946Z",
     "shell.execute_reply": "2021-02-13T12:55:07.602803Z"
    },
    "id": "IWkR6u5RJEnO",
    "outputId": "474e3160-ead1-42b2-912e-9276ef5a7b30"
   },
   "outputs": [
    {
     "data": {
      "text/plain": [
       "0.35797779076563413"
      ]
     },
     "execution_count": 28,
     "metadata": {},
     "output_type": "execute_result"
    }
   ],
   "source": [
    "combinations(50, 2) * combinations(10, 1) / combinations(60, 3)"
   ]
  },
  {
   "cell_type": "markdown",
   "metadata": {
    "id": "wJwkgTbUJEnS"
   },
   "source": [
    "__Задача 3__\n",
    "\n",
    "Подбрасываются три игральных кубика. Оцените вероятность того, что сумма значений этих кубиков не будет превышать 6.\n",
    "\n",
    "_Подсказка_: оценкой вероятности может служить, например, относительная частота при большом числе опытов. Попробуйте реализовать наибольшее число опытов, которое позволяют ваш компьютер и/или ваше терпение.\n",
    "\n",
    "_Замечание_: вообще в этом курсе мы не используем такие численные методы оценки вероятностей, и в будущем мы не будем их применять. Но тут сделаем исключение один раз."
   ]
  },
  {
   "cell_type": "markdown",
   "metadata": {
    "id": "bX9GbWc3JEnS"
   },
   "source": [
    "__Решение__\n",
    "\n",
    "Результаты бросков трёх игральных кубиков можно моделировать с помощью функции `randint` из модуля `random` библиотеки `numpy`. Ранее мы подавали туда аргумент `size`, отвечающий за число возвращаемых реализаций. В этот аргумент можно подать не число, а кортеж чисел, тогда вернётся не одномерный массив, а многомерный."
   ]
  },
  {
   "cell_type": "code",
   "execution_count": 33,
   "metadata": {
    "execution": {
     "iopub.execute_input": "2021-02-13T12:55:07.662370Z",
     "iopub.status.busy": "2021-02-13T12:55:07.661417Z",
     "iopub.status.idle": "2021-02-13T12:55:11.995717Z",
     "shell.execute_reply": "2021-02-13T12:55:11.996509Z"
    },
    "id": "kzZI-P7UJEnS",
    "outputId": "780ac6b9-a79b-416d-f453-dce96c55c339"
   },
   "outputs": [
    {
     "data": {
      "text/plain": [
       "array([[6, 4, 2],\n",
       "       [3, 3, 3],\n",
       "       [5, 2, 4],\n",
       "       ...,\n",
       "       [1, 3, 4],\n",
       "       [6, 4, 3],\n",
       "       [5, 2, 2]])"
      ]
     },
     "execution_count": 33,
     "metadata": {},
     "output_type": "execute_result"
    }
   ],
   "source": [
    "n_samples = 10 ** 8\n",
    "\n",
    "dice_values = np.random.randint(1, 7, size=(n_samples, 3))\n",
    "dice_values"
   ]
  },
  {
   "cell_type": "markdown",
   "metadata": {
    "id": "7Nt5rDdpJEnT"
   },
   "source": [
    "Чтобы посчитать сумму значений кубиков при каждой реализации, можно воспользоваться методом `.sum()`, при этом передать туда аргумент `axis=1`. Тогда суммирование будет производиться вдоль второй (начиная с нуля) оси, т.е. суммироваться будут только отдельные строчки."
   ]
  },
  {
   "cell_type": "code",
   "execution_count": 35,
   "metadata": {
    "execution": {
     "iopub.execute_input": "2021-02-13T12:55:12.001311Z",
     "iopub.status.busy": "2021-02-13T12:55:12.000089Z",
     "iopub.status.idle": "2021-02-13T12:55:16.144307Z",
     "shell.execute_reply": "2021-02-13T12:55:16.144955Z"
    },
    "id": "bmosh47qJEnT",
    "outputId": "661234cc-3789-4d3c-ec01-a9808f8d644d"
   },
   "outputs": [
    {
     "data": {
      "text/plain": [
       "array([12,  9, 11, ...,  8, 13,  9])"
      ]
     },
     "execution_count": 35,
     "metadata": {},
     "output_type": "execute_result"
    }
   ],
   "source": [
    "samples = dice_values.sum(axis=1)\n",
    "samples"
   ]
  },
  {
   "cell_type": "markdown",
   "metadata": {
    "id": "gXiHwnMUJEnU"
   },
   "source": [
    "Итак, нас интересует событие $A$, заключающееся в том, что сумма трёх кубиков оказалась не больше $6$. Посчитаем, сколько раз такое событие наступило."
   ]
  },
  {
   "cell_type": "code",
   "execution_count": 36,
   "metadata": {
    "execution": {
     "iopub.execute_input": "2021-02-13T12:55:16.149296Z",
     "iopub.status.busy": "2021-02-13T12:55:16.148662Z",
     "iopub.status.idle": "2021-02-13T12:55:16.447349Z",
     "shell.execute_reply": "2021-02-13T12:55:16.448069Z"
    },
    "id": "O5VgQc4ZJEnU",
    "outputId": "2de4f1e6-e414-4d81-c9a1-7d6104802560"
   },
   "outputs": [
    {
     "data": {
      "text/plain": [
       "9260401"
      ]
     },
     "execution_count": 36,
     "metadata": {},
     "output_type": "execute_result"
    }
   ],
   "source": [
    "n_successes = (samples <= 6).sum()\n",
    "n_successes"
   ]
  },
  {
   "cell_type": "markdown",
   "metadata": {
    "id": "l8PJZ5HdJEnU"
   },
   "source": [
    "Чтобы получить относительную частоту, разделим это число на общее число опытов:"
   ]
  },
  {
   "cell_type": "code",
   "execution_count": 37,
   "metadata": {
    "execution": {
     "iopub.execute_input": "2021-02-13T12:55:16.453088Z",
     "iopub.status.busy": "2021-02-13T12:55:16.452344Z",
     "iopub.status.idle": "2021-02-13T12:55:16.454722Z",
     "shell.execute_reply": "2021-02-13T12:55:16.455371Z"
    },
    "id": "j3ccAdJHJEnU",
    "outputId": "4fee9084-6e61-4979-9ec6-b646ee24ec32"
   },
   "outputs": [
    {
     "data": {
      "text/plain": [
       "0.09260401"
      ]
     },
     "execution_count": 37,
     "metadata": {},
     "output_type": "execute_result"
    }
   ],
   "source": [
    "frequency = n_successes / n_samples\n",
    "frequency"
   ]
  },
  {
   "cell_type": "markdown",
   "metadata": {
    "id": "LrwYD8OcJEnV"
   },
   "source": [
    "А давайте попробуем найти ту же вероятность аналитически. (Этого не требовалось в задаче, но любопытства ради давайте найдём.) Есть классный элегантный способ это сделать.\n",
    "\n",
    "Сперва найдём вероятность того, что сумма трёх кубиков будет в точности равна $6$. Другими словами, нужно найти число способов составить число $6$ из трёх кусков. Представим себе ленту из $6$ ячеек. Разбиение её на 3 части равнозначно выбору $2$ позиций, в которых эту ленту нужно разрезать. Все таких позиций $5$. Итак, получается, что число исходов для числа $6$ равно $C_5^2 = 10$:"
   ]
  },
  {
   "cell_type": "code",
   "execution_count": 38,
   "metadata": {
    "execution": {
     "iopub.execute_input": "2021-02-13T12:55:16.459938Z",
     "iopub.status.busy": "2021-02-13T12:55:16.459334Z",
     "iopub.status.idle": "2021-02-13T12:55:16.461471Z",
     "shell.execute_reply": "2021-02-13T12:55:16.462077Z"
    },
    "id": "J0F0Bh4nJEnV",
    "outputId": "a014709b-eb4d-495a-d683-7fda94a73034"
   },
   "outputs": [
    {
     "data": {
      "text/plain": [
       "10"
      ]
     },
     "execution_count": 38,
     "metadata": {},
     "output_type": "execute_result"
    }
   ],
   "source": [
    "combinations(5, 2)"
   ]
  },
  {
   "cell_type": "markdown",
   "metadata": {
    "id": "5079Ru1DJEnV"
   },
   "source": [
    "А сколько всего исходов? Поскольку мы бросаем $3$ кубика, каждый из которых имеет $6$ разных сторон, число исходов будет равно $6^3 = 216$. Итак, вероятность получить в сумме ровно $6$:"
   ]
  },
  {
   "cell_type": "code",
   "execution_count": 39,
   "metadata": {
    "execution": {
     "iopub.execute_input": "2021-02-13T12:55:16.466347Z",
     "iopub.status.busy": "2021-02-13T12:55:16.465734Z",
     "iopub.status.idle": "2021-02-13T12:55:16.467958Z",
     "shell.execute_reply": "2021-02-13T12:55:16.468580Z"
    },
    "id": "pcvfnsdOJEnV",
    "outputId": "21973825-73a3-4f62-e6ab-828b3a1b6102"
   },
   "outputs": [
    {
     "data": {
      "text/plain": [
       "0.046296296296296294"
      ]
     },
     "execution_count": 39,
     "metadata": {},
     "output_type": "execute_result"
    }
   ],
   "source": [
    "combinations(5, 2) / 6 ** 3"
   ]
  },
  {
   "cell_type": "markdown",
   "metadata": {
    "id": "FbzHQMZ3JEnW"
   },
   "source": [
    "Продолжим аналогично. Чтобы получить $5$, нужно разбить ленту с пятью ячейками на $3$ части:"
   ]
  },
  {
   "cell_type": "code",
   "execution_count": 40,
   "metadata": {
    "execution": {
     "iopub.execute_input": "2021-02-13T12:55:16.472904Z",
     "iopub.status.busy": "2021-02-13T12:55:16.472317Z",
     "iopub.status.idle": "2021-02-13T12:55:16.474753Z",
     "shell.execute_reply": "2021-02-13T12:55:16.475393Z"
    },
    "id": "AxEhOS1UJEnW",
    "outputId": "a302cd27-c3b6-4829-f001-24d0b924e381"
   },
   "outputs": [
    {
     "data": {
      "text/plain": [
       "0.027777777777777776"
      ]
     },
     "execution_count": 40,
     "metadata": {},
     "output_type": "execute_result"
    }
   ],
   "source": [
    "combinations(4, 2) / 6 ** 3"
   ]
  },
  {
   "cell_type": "markdown",
   "metadata": {
    "id": "ZnKJRc22JEnW"
   },
   "source": [
    "Чтобы получить $4$:"
   ]
  },
  {
   "cell_type": "code",
   "execution_count": 41,
   "metadata": {
    "execution": {
     "iopub.execute_input": "2021-02-13T12:55:16.479827Z",
     "iopub.status.busy": "2021-02-13T12:55:16.479209Z",
     "iopub.status.idle": "2021-02-13T12:55:16.481318Z",
     "shell.execute_reply": "2021-02-13T12:55:16.481951Z"
    },
    "id": "o26mu9cxJEnW",
    "outputId": "76ffe645-298b-4623-de5f-fb8ed6b7c1a7"
   },
   "outputs": [
    {
     "data": {
      "text/plain": [
       "0.013888888888888888"
      ]
     },
     "execution_count": 41,
     "metadata": {},
     "output_type": "execute_result"
    }
   ],
   "source": [
    "combinations(3, 2) / 6 ** 3"
   ]
  },
  {
   "cell_type": "markdown",
   "metadata": {
    "id": "ZnGzvao9JEnW"
   },
   "source": [
    "Чтобы получить $3$:"
   ]
  },
  {
   "cell_type": "code",
   "execution_count": 42,
   "metadata": {
    "execution": {
     "iopub.execute_input": "2021-02-13T12:55:16.486485Z",
     "iopub.status.busy": "2021-02-13T12:55:16.485803Z",
     "iopub.status.idle": "2021-02-13T12:55:16.487819Z",
     "shell.execute_reply": "2021-02-13T12:55:16.488415Z"
    },
    "id": "v5476qYOJEnW",
    "outputId": "c2acdc46-c1f6-46d8-ad82-3e843201e7b0"
   },
   "outputs": [
    {
     "data": {
      "text/plain": [
       "0.004629629629629629"
      ]
     },
     "execution_count": 42,
     "metadata": {},
     "output_type": "execute_result"
    }
   ],
   "source": [
    "combinations(2, 2) / 6 ** 3"
   ]
  },
  {
   "cell_type": "markdown",
   "metadata": {
    "id": "KghOAIWSJEnW"
   },
   "source": [
    "Ну а меньше трёх число быть не может, поскольку оно составлено из трёх значений кубиков. Итак, искомая вероятность:"
   ]
  },
  {
   "cell_type": "code",
   "execution_count": 43,
   "metadata": {
    "execution": {
     "iopub.execute_input": "2021-02-13T12:55:16.493003Z",
     "iopub.status.busy": "2021-02-13T12:55:16.492323Z",
     "iopub.status.idle": "2021-02-13T12:55:16.494451Z",
     "shell.execute_reply": "2021-02-13T12:55:16.495156Z"
    },
    "id": "U7AfcTqUJEnW",
    "outputId": "017fabf0-463a-47de-fe34-f727f66a8c5d"
   },
   "outputs": [
    {
     "data": {
      "text/plain": [
       "0.09259259259259259"
      ]
     },
     "execution_count": 43,
     "metadata": {},
     "output_type": "execute_result"
    }
   ],
   "source": [
    "sum(combinations(k, 2) for k in range(2, 6)) / 6 ** 3"
   ]
  }
 ],
 "metadata": {
  "colab": {
   "name": "solutions1.ipynb",
   "provenance": []
  },
  "kernelspec": {
   "display_name": "Python 3 (ipykernel)",
   "language": "python",
   "name": "python3"
  },
  "language_info": {
   "codemirror_mode": {
    "name": "ipython",
    "version": 3
   },
   "file_extension": ".py",
   "mimetype": "text/x-python",
   "name": "python",
   "nbconvert_exporter": "python",
   "pygments_lexer": "ipython3",
   "version": "3.8.8"
  }
 },
 "nbformat": 4,
 "nbformat_minor": 4
}
