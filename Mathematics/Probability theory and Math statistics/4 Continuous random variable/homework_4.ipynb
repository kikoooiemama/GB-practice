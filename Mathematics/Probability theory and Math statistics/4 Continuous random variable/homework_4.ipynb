{
 "cells": [
  {
   "cell_type": "markdown",
   "id": "cf04f47c",
   "metadata": {},
   "source": [
    "# Практическое задание №4 по теме \"Непрерывные случайные величины. Функция распределения и функция плотности. Нормальное распределение. Центральная предельная теорема\"."
   ]
  },
  {
   "cell_type": "code",
   "execution_count": 1,
   "id": "41a0f314",
   "metadata": {},
   "outputs": [],
   "source": [
    "import numpy as np\n",
    "from scipy import stats\n",
    "from scipy import integrate\n",
    "\n",
    "from matplotlib import pyplot as plt\n",
    "plt.style.use('seaborn-whitegrid')\n",
    "%config InlineBackend.figure_formats = ['svg']"
   ]
  },
  {
   "cell_type": "markdown",
   "id": "89f90e24",
   "metadata": {},
   "source": [
    "## Задача 1\n",
    "\n",
    "Случайная непрерывная величина A имеет равномерное распределение на промежутке (200, 800].\n",
    "Найдите ее среднее значение и дисперсию."
   ]
  },
  {
   "cell_type": "markdown",
   "id": "bcbe4a4c",
   "metadata": {},
   "source": [
    "___Решение___"
   ]
  },
  {
   "cell_type": "markdown",
   "id": "6cbd86a7",
   "metadata": {},
   "source": [
    "1-ый способ:"
   ]
  },
  {
   "cell_type": "code",
   "execution_count": 2,
   "id": "e322d327",
   "metadata": {},
   "outputs": [],
   "source": [
    "a = stats.uniform.rvs(loc=200, scale=600, size=100000000)"
   ]
  },
  {
   "cell_type": "code",
   "execution_count": 3,
   "id": "c4097c51",
   "metadata": {
    "scrolled": true
   },
   "outputs": [
    {
     "name": "stdout",
     "output_type": "stream",
     "text": [
      "Среднее значение: 500.00317\n",
      "Дисперсия: 29999.27\n"
     ]
    }
   ],
   "source": [
    "a_mean = a.mean()\n",
    "a_var = a.var()\n",
    "print(f\"Среднее значение: {np.round(a_mean, 5)}\\nДисперсия: {np.round(a_var, 5)}\")"
   ]
  },
  {
   "cell_type": "markdown",
   "id": "2bc9a6b6",
   "metadata": {},
   "source": [
    "2-ой способ:\n",
    "\n",
    "$$M(X) = \\displaystyle\\int_{-\\infty}^\\infty x \\cdot f(x) \\: dx$$ \n",
    "\n",
    "$$D(X) = \\displaystyle\\int_{-\\infty}^\\infty (x - M(X))^2 \\cdot f(x) \\: dx$$\n",
    "\n",
    "$$f(x) = \\frac{1}{b-a}$$"
   ]
  },
  {
   "cell_type": "markdown",
   "id": "1d8c9762",
   "metadata": {},
   "source": [
    "Численно"
   ]
  },
  {
   "cell_type": "code",
   "execution_count": 4,
   "id": "dec97b81",
   "metadata": {},
   "outputs": [],
   "source": [
    "def f_mx(x):\n",
    "    return 1/(b-a)*x\n",
    "\n",
    "a=200\n",
    "b=800\n",
    "MX, err = integrate.quad(f_mx, a, b)"
   ]
  },
  {
   "cell_type": "code",
   "execution_count": 5,
   "id": "ac3c24bc",
   "metadata": {},
   "outputs": [],
   "source": [
    "def f_dx(x):\n",
    "    return (x-MX)**2/(b-a)\n",
    "DX, err = integrate.quad(f_dx, a, b)"
   ]
  },
  {
   "cell_type": "code",
   "execution_count": 6,
   "id": "89f0f333",
   "metadata": {},
   "outputs": [
    {
     "name": "stdout",
     "output_type": "stream",
     "text": [
      "Мат.ожидание M=500, Дисперсия D=30000\n"
     ]
    }
   ],
   "source": [
    "print (f\"Мат.ожидание M={round(MX)}, Дисперсия D={round(DX)}\")"
   ]
  },
  {
   "cell_type": "markdown",
   "id": "d1f8007c",
   "metadata": {},
   "source": [
    "Аналитически"
   ]
  },
  {
   "cell_type": "code",
   "execution_count": 7,
   "id": "d482334c",
   "metadata": {},
   "outputs": [],
   "source": [
    "from sympy import *"
   ]
  },
  {
   "cell_type": "code",
   "execution_count": 8,
   "id": "434c7ed9",
   "metadata": {},
   "outputs": [
    {
     "name": "stdout",
     "output_type": "stream",
     "text": [
      "Мат.ожидание M=500\n"
     ]
    }
   ],
   "source": [
    "a=200\n",
    "b=800\n",
    "x=Symbol('x')\n",
    "f_mx = 1/(b-a)*x\n",
    "MX = integrate(f_mx,(x, a, b))\n",
    "print (f\"Мат.ожидание M={round(MX)}\")"
   ]
  },
  {
   "cell_type": "code",
   "execution_count": 9,
   "id": "bc29ca63",
   "metadata": {
    "scrolled": true
   },
   "outputs": [
    {
     "name": "stdout",
     "output_type": "stream",
     "text": [
      "Мат.ожидание D=30000\n"
     ]
    }
   ],
   "source": [
    "f_dx = (x-MX)**2/(b-a)\n",
    "DX = integrate(f_dx,(x, a, b))\n",
    "print (f\"Мат.ожидание D={round(DX)}\")"
   ]
  },
  {
   "cell_type": "markdown",
   "id": "eae9ef57",
   "metadata": {},
   "source": [
    "3-ий способ:\n",
    "\n",
    "$$f(x)=1/(b-a)$$\n",
    "\n",
    "$$M(X) = \\displaystyle\\int_{a}^{b} x \\cdot f(x) \\: dx = \\displaystyle\\frac{x^2}{2(b-a)}\\bigg|_{a}^{b} = \\frac{b+a}{2}$$\n",
    "\n",
    "$$D(X) = \\displaystyle\\int_{a}^{b} (x - M(X))^2 \\cdot f(x) \\: dx = \\displaystyle\\frac{(x-M(X))^3}{3(b-a)}\\bigg|_{a}^{b} = \\frac{(b-\\frac{a+b}{2})^3}{3(b-a)} - \\frac{(a-\\frac{a+b}{2})^3}{3(b-a)} = $$\n",
    "\n",
    "$$ = \\frac{(b-a)^3}{24(b-a)} + \\frac{(a-b)^3}{24(a-b)} = \\frac{(b-a)^2}{24} + \\frac{(b-a)^2}{24} = \\frac{(b-a)^2}{12}$$"
   ]
  },
  {
   "cell_type": "code",
   "execution_count": 10,
   "id": "bdc772b5",
   "metadata": {},
   "outputs": [
    {
     "name": "stdout",
     "output_type": "stream",
     "text": [
      "Мат.ожидание M=500, Дисперсия D=30000\n"
     ]
    }
   ],
   "source": [
    "b = 800\n",
    "a = 200\n",
    "MX = (b+a)/2\n",
    "DX = (b-a)**2/12\n",
    "print (f\"Мат.ожидание M={round(MX)}, Дисперсия D={round(DX)}\")"
   ]
  },
  {
   "cell_type": "markdown",
   "id": "df6b1cde",
   "metadata": {},
   "source": [
    "___Ответ:___ Среднее значение: 500, Дисперсия: 30000"
   ]
  },
  {
   "cell_type": "markdown",
   "id": "e9b3cd45",
   "metadata": {},
   "source": [
    "---"
   ]
  },
  {
   "cell_type": "markdown",
   "id": "884e4f21",
   "metadata": {},
   "source": [
    "## Задача 2\n",
    "\n",
    "О случайной непрерывной равномерно распределенной величине B известно, что ее дисперсия равна 0.2. Можно ли найти правую границу величины B и ее среднее значение зная, что левая граница равна 0.5? Если да, найдите ее."
   ]
  },
  {
   "cell_type": "markdown",
   "id": "154b8e99",
   "metadata": {},
   "source": [
    "___Решение___"
   ]
  },
  {
   "cell_type": "markdown",
   "id": "9b7fafb6",
   "metadata": {},
   "source": [
    "1-ый способ:"
   ]
  },
  {
   "cell_type": "code",
   "execution_count": 11,
   "id": "e421d991",
   "metadata": {},
   "outputs": [
    {
     "name": "stdout",
     "output_type": "stream",
     "text": [
      "Правая граница величины B: 2.048\n",
      "Дисперсия: 0.2\n"
     ]
    }
   ],
   "source": [
    "right_border = 0.5\n",
    "left_border = 0.5\n",
    "k = 3\n",
    "step = np.power(0.1, k)\n",
    "n = 1000000\n",
    "result = 0\n",
    "for i in range(n):\n",
    "    right_border += step\n",
    "    b = np.random.uniform(left_border, right_border, 1000000)\n",
    "    b_var = b.var(ddof=1)\n",
    "    if (b_var >= 0.2):\n",
    "        result = right_border\n",
    "        break\n",
    "print(f\"Правая граница величины B: {np.round(result, k)}\\nДисперсия: {np.round(b_var, k)}\")"
   ]
  },
  {
   "cell_type": "markdown",
   "id": "75ec1f93",
   "metadata": {},
   "source": [
    "Проверка:"
   ]
  },
  {
   "cell_type": "code",
   "execution_count": 12,
   "id": "9bada38c",
   "metadata": {},
   "outputs": [
    {
     "data": {
      "text/plain": [
       "0.20023180841244156"
      ]
     },
     "execution_count": 12,
     "metadata": {},
     "output_type": "execute_result"
    }
   ],
   "source": [
    "b = np.random.uniform(0.5, 2.05, 10000000)\n",
    "b.var(ddof=1)"
   ]
  },
  {
   "cell_type": "code",
   "execution_count": 13,
   "id": "d3a4f173",
   "metadata": {},
   "outputs": [
    {
     "data": {
      "text/plain": [
       "1.275"
      ]
     },
     "execution_count": 13,
     "metadata": {},
     "output_type": "execute_result"
    }
   ],
   "source": [
    "# Среднее значение\n",
    "np.round(b.mean(), 3)"
   ]
  },
  {
   "cell_type": "markdown",
   "id": "5306e688",
   "metadata": {},
   "source": [
    "2-ой способ:\n",
    "\n",
    "$$a = 0.5$$\n",
    "\n",
    "$$D(X) = \\frac{(b-a)^2}{12} = 0.2$$\n",
    "\n",
    "Можно составить уравнение: \n",
    "$$\\frac{(b-0.5)^2}{12} = 0.2$$\n",
    "\n",
    "$$(b-0.5-\\sqrt{2.4})(b-0.5+\\sqrt{2.4})=0$$\n",
    "\n",
    "$$\\begin{gathered}\n",
    "b = 0.5 + \\sqrt{2.4} \\\\\n",
    "b = 0.5 - \\sqrt{2.4}\n",
    "\\end{gathered}\\,\\,\\,\\Rightarrow\\,\\,\\,\n",
    "\\begin{gathered}\n",
    "b = 2.049193338482967 \\\\\n",
    "b = -1.0491933384829668\n",
    "\\end{gathered}$$"
   ]
  },
  {
   "cell_type": "code",
   "execution_count": 14,
   "id": "18a9303a",
   "metadata": {},
   "outputs": [],
   "source": [
    "DX = 0.2\n",
    "a = 0.5"
   ]
  },
  {
   "cell_type": "code",
   "execution_count": 15,
   "id": "9e662bfc",
   "metadata": {
    "scrolled": true
   },
   "outputs": [
    {
     "data": {
      "text/plain": [
       "(2.049193338482967, -1.0491933384829668)"
      ]
     },
     "execution_count": 15,
     "metadata": {},
     "output_type": "execute_result"
    }
   ],
   "source": [
    "b1 = 0.5 + np.sqrt(2.4) \n",
    "b2 = 0.5 - np.sqrt(2.4)\n",
    "(b1, b2)"
   ]
  },
  {
   "cell_type": "code",
   "execution_count": 16,
   "id": "1f0a9bc5",
   "metadata": {},
   "outputs": [],
   "source": [
    "b = b1\n",
    "MX = (b+a)/2"
   ]
  },
  {
   "cell_type": "code",
   "execution_count": 17,
   "id": "e8e1e515",
   "metadata": {},
   "outputs": [
    {
     "name": "stdout",
     "output_type": "stream",
     "text": [
      "Правая граница величины B: 2.04919\n",
      "Среднее значение: 1.2746\n"
     ]
    }
   ],
   "source": [
    "print(f\"Правая граница величины B: {np.round(b, 5)}\\nСреднее значение: {np.round(MX, 5)}\")"
   ]
  },
  {
   "cell_type": "markdown",
   "id": "86aeb67a",
   "metadata": {},
   "source": [
    "___Ответ:___ Правая граница: 2.04919, Среднее значение: 1.2746"
   ]
  },
  {
   "cell_type": "markdown",
   "id": "37e0c2da",
   "metadata": {},
   "source": [
    "---"
   ]
  },
  {
   "cell_type": "markdown",
   "id": "20619c1c",
   "metadata": {},
   "source": [
    "## Задача 3\n",
    "\n",
    "Непрерывная случайная величина X распределена нормально и задана плотностью распределения $f(x)=\\frac{1}{4\\sqrt{2\\pi}}\\cdot\\frac{e^{-(x+2)^{2}}}{32}$\n",
    "\n",
    "Найдите:\n",
    "\n",
    "    а) M(X)\n",
    "    б) D(X)\n",
    "    в) std(X) (среднее квадратичное отклонение)"
   ]
  },
  {
   "cell_type": "markdown",
   "id": "80fe4ab2",
   "metadata": {},
   "source": [
    "___Решение___"
   ]
  },
  {
   "cell_type": "markdown",
   "id": "9f4a02e1",
   "metadata": {},
   "source": [
    "Плотность вероятности нормального распределения:\n",
    "$$f(x) = \\dfrac{1}{\\sqrt{2 \\pi \\sigma^2}} \\cdot \\exp \\left(- \\frac{(x - \\mu)^2}{2 \\sigma^2} \\right)$$\n",
    "\n",
    "Выражение $f(x)=\\frac{1}{4\\sqrt{2\\pi}}\\cdot\\frac{e^{-(x+2)^{2}}}{32}$ соответствует нормальному распределнию с параметрами $\\mu = -2$ и $\\sigma = 4$ "
   ]
  },
  {
   "cell_type": "code",
   "execution_count": 18,
   "id": "581779b5",
   "metadata": {},
   "outputs": [],
   "source": [
    "mu = -2\n",
    "sigma = 4\n",
    "X = stats.norm(loc=mu, scale=sigma)"
   ]
  },
  {
   "cell_type": "code",
   "execution_count": 19,
   "id": "f00dbd4c",
   "metadata": {},
   "outputs": [],
   "source": [
    "X_mean = X.mean()\n",
    "X_var = X.var()\n",
    "X_std = X.std()"
   ]
  },
  {
   "cell_type": "code",
   "execution_count": 20,
   "id": "1d8a2b0c",
   "metadata": {
    "scrolled": true
   },
   "outputs": [
    {
     "data": {
      "text/plain": [
       "(-2.0, 16.0, 4.0)"
      ]
     },
     "execution_count": 20,
     "metadata": {},
     "output_type": "execute_result"
    }
   ],
   "source": [
    "X_mean, X_var, X_std"
   ]
  },
  {
   "cell_type": "markdown",
   "id": "ae680912",
   "metadata": {},
   "source": [
    "Другой способ в виде интегрирования по определению MX, DX непрерывной случайной величины:\n",
    "\n",
    "$$M(X) = \\displaystyle\\int_{a}^{b} x \\cdot f(x) \\: dx$$\n",
    "\n",
    "$$D(X) = \\displaystyle\\int_{a}^{b} (x - M(X))^2 \\cdot f(x) \\: dx $$"
   ]
  },
  {
   "cell_type": "code",
   "execution_count": 21,
   "id": "6afd0469",
   "metadata": {},
   "outputs": [],
   "source": [
    "from scipy import integrate"
   ]
  },
  {
   "cell_type": "code",
   "execution_count": 22,
   "id": "0edba4e5",
   "metadata": {},
   "outputs": [],
   "source": [
    "mu = -2\n",
    "sigma = 4\n",
    "pi = np.pi\n",
    "a = -200\n",
    "b = 200  "
   ]
  },
  {
   "cell_type": "code",
   "execution_count": 23,
   "id": "17f3520a",
   "metadata": {
    "scrolled": true
   },
   "outputs": [
    {
     "data": {
      "text/plain": [
       "-2.0"
      ]
     },
     "execution_count": 23,
     "metadata": {},
     "output_type": "execute_result"
    }
   ],
   "source": [
    "def f_mx(x):\n",
    "    return x * (1/np.sqrt(2*pi*sigma**2)) * np.exp(-((x-mu)**2) / (2*sigma**2))\n",
    "                                        \n",
    "MX, err = integrate.quad(f_mx, a, b)\n",
    "np.round(MX, 8)"
   ]
  },
  {
   "cell_type": "code",
   "execution_count": 24,
   "id": "f55922ad",
   "metadata": {},
   "outputs": [
    {
     "data": {
      "text/plain": [
       "16.0"
      ]
     },
     "execution_count": 24,
     "metadata": {},
     "output_type": "execute_result"
    }
   ],
   "source": [
    "def f_dx(x):\n",
    "    return  ((x-MX)**2) * (1/np.sqrt(2*pi*sigma**2)) * np.exp(-((x-mu)**2) / (2*sigma**2))\n",
    "                                        \n",
    "DX, err = integrate.quad(f_dx, a, b)\n",
    "np.round(DX, 8)"
   ]
  },
  {
   "cell_type": "code",
   "execution_count": 25,
   "id": "7be244b3",
   "metadata": {},
   "outputs": [
    {
     "data": {
      "text/plain": [
       "4.0"
      ]
     },
     "execution_count": 25,
     "metadata": {},
     "output_type": "execute_result"
    }
   ],
   "source": [
    "std = np.sqrt(DX)\n",
    "std"
   ]
  },
  {
   "cell_type": "markdown",
   "id": "36f87576",
   "metadata": {},
   "source": [
    "___Ответ:___ _а)_ $M(X) = -2$; _б)_ $D(X) = 16$; _в)_ $std(X) = 4$"
   ]
  },
  {
   "cell_type": "markdown",
   "id": "0ba97bcf",
   "metadata": {},
   "source": [
    "---"
   ]
  },
  {
   "cell_type": "markdown",
   "id": "b176c88d",
   "metadata": {},
   "source": [
    "## Задача 4\n",
    "\n",
    "Рост взрослого населения города X имеет нормальное распределение. Причем, средний рост равен 174 см, а среднее квадратичное отклонение равно 8 см. Какова вероятность того, что случайным образом выбранный взрослый человек имеет рост:\n",
    "\n",
    "    а) больше 182 см\n",
    "    б) больше 190 см\n",
    "    в) от 166 см до 190 см\n",
    "    г) от 166 см до 182 см\n",
    "    д) от 158 см до 190 см\n",
    "    е) не выше 150 см или не ниже 190 см\n",
    "    ё) не выше 150 см или не ниже 198 см\n",
    "    ж) ниже 166 см.\n"
   ]
  },
  {
   "cell_type": "markdown",
   "id": "90d90857",
   "metadata": {},
   "source": [
    "___Решение___"
   ]
  },
  {
   "cell_type": "markdown",
   "id": "1523f1a2",
   "metadata": {},
   "source": [
    "Параметры нормального распределения из условия задания: $\\mu = 174$ и $\\sigma = 8$ "
   ]
  },
  {
   "cell_type": "code",
   "execution_count": 26,
   "id": "54184398",
   "metadata": {},
   "outputs": [],
   "source": [
    "mu = 174\n",
    "sigma = 8\n",
    "X = stats.norm(loc=mu, scale=sigma)"
   ]
  },
  {
   "cell_type": "code",
   "execution_count": 27,
   "id": "8999e694",
   "metadata": {},
   "outputs": [],
   "source": [
    "a_ = 1 - X.cdf(182)\n",
    "b_ = 1 - X.cdf(190)\n",
    "v_ = X.cdf(190) - X.cdf(166)\n",
    "g_ = X.cdf(182) - X.cdf(166)\n",
    "d_ = X.cdf(190) - X.cdf(158)\n",
    "e_ = X.cdf(150) + (1 - X.cdf(190))\n",
    "i_ = X.cdf(150) + (1 - X.cdf(198))\n",
    "j_ = X.cdf(166)"
   ]
  },
  {
   "cell_type": "code",
   "execution_count": 28,
   "id": "c7a2d33a",
   "metadata": {},
   "outputs": [
    {
     "name": "stdout",
     "output_type": "stream",
     "text": [
      "a) x>182 Вероятность P=0.15865525393145707\n",
      "б) x>190 Вероятность P=0.02275013194817921\n",
      "в) 166<x<190 Вероятность P=0.8185946141203637\n",
      "г) 166<x<182 Вероятность P=0.6826894921370859\n",
      "д) 158<x<190 Вероятность P=0.9544997361036416\n",
      "е) x<150 или x>190 Вероятность P=0.0241000299798093\n",
      "ё) x<150 или x>198 Вероятность P=0.0026997960632601965\n",
      "ж) x<166 Вероятность P=0.15865525393145707\n"
     ]
    }
   ],
   "source": [
    "print (f\"a) x>182 Вероятность P={a_}\")\n",
    "print (f\"б) x>190 Вероятность P={b_}\")\n",
    "print (f\"в) 166<x<190 Вероятность P={v_}\")\n",
    "print (f\"г) 166<x<182 Вероятность P={g_}\")\n",
    "print (f\"д) 158<x<190 Вероятность P={d_}\")\n",
    "print (f\"е) x<150 или x>190 Вероятность P={e_}\")\n",
    "print (f\"ё) x<150 или x>198 Вероятность P={i_}\")\n",
    "print (f\"ж) x<166 Вероятность P={j_}\")"
   ]
  },
  {
   "cell_type": "code",
   "execution_count": 29,
   "id": "b1df7c6e",
   "metadata": {},
   "outputs": [],
   "source": [
    "result = (a_, b_, v_, g_, d_, e_, i_, j_)\n",
    "result = np.round(result, 5)"
   ]
  },
  {
   "cell_type": "code",
   "execution_count": 30,
   "id": "1697cb60",
   "metadata": {
    "scrolled": true
   },
   "outputs": [
    {
     "data": {
      "text/plain": [
       "array([0.15866, 0.02275, 0.81859, 0.68269, 0.9545 , 0.0241 , 0.0027 ,\n",
       "       0.15866])"
      ]
     },
     "execution_count": 30,
     "metadata": {},
     "output_type": "execute_result"
    }
   ],
   "source": [
    "result"
   ]
  },
  {
   "cell_type": "markdown",
   "id": "ada3e51b",
   "metadata": {},
   "source": [
    "Другой способ в виде интегрирования по определению:\n",
    "\n",
    "$$N(x) = \\frac{1}{8\\cdot\\sqrt{2\\pi}}\\cdot e^{-\\frac{(x-174)^2}{2\\cdot64}}$$\n",
    "\n",
    "$$Ф(a,b) = \\int_{a}^{b} N(x) \\: dx $$ "
   ]
  },
  {
   "cell_type": "code",
   "execution_count": 31,
   "id": "7804e4c4",
   "metadata": {},
   "outputs": [],
   "source": [
    "def FF(x):\n",
    "    return   (1/np.sqrt(2*pi*sigma**2)) * np.exp(-((x-mu)**2) / (2*sigma**2))\n",
    "\n",
    "mu = 174\n",
    "sigma = 8"
   ]
  },
  {
   "cell_type": "code",
   "execution_count": 32,
   "id": "055ea12e",
   "metadata": {},
   "outputs": [
    {
     "data": {
      "text/plain": [
       "0.15865525"
      ]
     },
     "execution_count": 32,
     "metadata": {},
     "output_type": "execute_result"
    }
   ],
   "source": [
    "# a)\n",
    "FF_a, err = integrate.quad(FF, 182, 1000)\n",
    "np.round(FF_a, 8)"
   ]
  },
  {
   "cell_type": "code",
   "execution_count": 33,
   "id": "bfe947d3",
   "metadata": {},
   "outputs": [
    {
     "data": {
      "text/plain": [
       "0.02275013"
      ]
     },
     "execution_count": 33,
     "metadata": {},
     "output_type": "execute_result"
    }
   ],
   "source": [
    "# б)\n",
    "FF_b, err = integrate.quad(FF, 190, 1000)\n",
    "np.round(FF_b, 8)"
   ]
  },
  {
   "cell_type": "code",
   "execution_count": 34,
   "id": "abe6a8a7",
   "metadata": {},
   "outputs": [
    {
     "data": {
      "text/plain": [
       "0.81859461"
      ]
     },
     "execution_count": 34,
     "metadata": {},
     "output_type": "execute_result"
    }
   ],
   "source": [
    "# в)\n",
    "FF_v, err = integrate.quad(FF, 166, 190)\n",
    "np.round(FF_v, 8)"
   ]
  },
  {
   "cell_type": "code",
   "execution_count": 35,
   "id": "1f8cb822",
   "metadata": {},
   "outputs": [
    {
     "data": {
      "text/plain": [
       "0.68268949"
      ]
     },
     "execution_count": 35,
     "metadata": {},
     "output_type": "execute_result"
    }
   ],
   "source": [
    "# г)\n",
    "FF_g, err = integrate.quad(FF, 166, 182)\n",
    "np.round(FF_g, 8)"
   ]
  },
  {
   "cell_type": "code",
   "execution_count": 36,
   "id": "ef12ac20",
   "metadata": {},
   "outputs": [
    {
     "data": {
      "text/plain": [
       "0.95449974"
      ]
     },
     "execution_count": 36,
     "metadata": {},
     "output_type": "execute_result"
    }
   ],
   "source": [
    "# д)\n",
    "FF_d, err = integrate.quad(FF, 158, 190)\n",
    "np.round(FF_d, 8)"
   ]
  },
  {
   "cell_type": "code",
   "execution_count": 37,
   "id": "b4c8c3d0",
   "metadata": {},
   "outputs": [
    {
     "data": {
      "text/plain": [
       "0.02410003"
      ]
     },
     "execution_count": 37,
     "metadata": {},
     "output_type": "execute_result"
    }
   ],
   "source": [
    "# е)\n",
    "FF_e_1, err = integrate.quad(FF, -1000, 150) \n",
    "FF_e_2, err = integrate.quad(FF, 190, 1000)\n",
    "FF_e = FF_e_1 + FF_e_2\n",
    "np.round(FF_e, 8)"
   ]
  },
  {
   "cell_type": "code",
   "execution_count": 38,
   "id": "25bb0fc3",
   "metadata": {},
   "outputs": [
    {
     "data": {
      "text/plain": [
       "0.0026998"
      ]
     },
     "execution_count": 38,
     "metadata": {},
     "output_type": "execute_result"
    }
   ],
   "source": [
    "# ё)\n",
    "FF_i_1, err = integrate.quad(FF, -1000, 150) \n",
    "FF_i_2, err = integrate.quad(FF, 198, 1000)\n",
    "FF_i = FF_i_1 + FF_i_2\n",
    "np.round(FF_i, 8)"
   ]
  },
  {
   "cell_type": "code",
   "execution_count": 39,
   "id": "1ca4103b",
   "metadata": {},
   "outputs": [
    {
     "data": {
      "text/plain": [
       "0.15865525"
      ]
     },
     "execution_count": 39,
     "metadata": {},
     "output_type": "execute_result"
    }
   ],
   "source": [
    "# ж)\n",
    "FF_a, err = integrate.quad(FF, -1000, 166)\n",
    "np.round(FF_a, 8)"
   ]
  },
  {
   "cell_type": "markdown",
   "id": "c5b75587",
   "metadata": {},
   "source": [
    "___Ответ:___\n",
    "\n",
    "    а) 0.15866,\n",
    "    б) 0.02275,\n",
    "    в) 0.81859,\n",
    "    г) 0.68269,\n",
    "    д) 0.9545,\n",
    "    е) 0.0241,\n",
    "    ё) 0.0027,\n",
    "    ж) 0.15866"
   ]
  },
  {
   "cell_type": "markdown",
   "id": "02579736",
   "metadata": {},
   "source": [
    "---"
   ]
  },
  {
   "cell_type": "markdown",
   "id": "bdd98adf",
   "metadata": {},
   "source": [
    "## Задача 5\n",
    "\n",
    "На сколько сигм (средних квадратичных отклонений) отклоняется рост человека, равный 190 см, от математического ожидания роста в популяции, в которой $M(X)$ = 178 см и $D(X)$ = 25 кв.см?"
   ]
  },
  {
   "cell_type": "markdown",
   "id": "c2696502",
   "metadata": {},
   "source": [
    "___Решение___"
   ]
  },
  {
   "cell_type": "markdown",
   "id": "8eb9ea4c",
   "metadata": {},
   "source": [
    "$\\sigma = \\sqrt{D(X)}$ $$\\frac{|190-M(X)|} {\\sigma}= \\frac{190-178} {5} = 2.4$$"
   ]
  },
  {
   "cell_type": "code",
   "execution_count": 41,
   "id": "1597e49e",
   "metadata": {},
   "outputs": [
    {
     "data": {
      "text/plain": [
       "2.4"
      ]
     },
     "execution_count": 41,
     "metadata": {},
     "output_type": "execute_result"
    }
   ],
   "source": [
    "value = 190\n",
    "mx = 178\n",
    "dx = 25\n",
    "sigma = np.sqrt(dx)\n",
    "deviation = np.abs(value - mx)/sigma \n",
    "deviation"
   ]
  },
  {
   "cell_type": "markdown",
   "id": "8e0b8675",
   "metadata": {},
   "source": [
    "___Ответ:___ Отклонение на $2.4\\sigma$"
   ]
  },
  {
   "cell_type": "markdown",
   "id": "5288ccf9",
   "metadata": {},
   "source": [
    "---"
   ]
  }
 ],
 "metadata": {
  "kernelspec": {
   "display_name": "Python 3 (ipykernel)",
   "language": "python",
   "name": "python3"
  },
  "language_info": {
   "codemirror_mode": {
    "name": "ipython",
    "version": 3
   },
   "file_extension": ".py",
   "mimetype": "text/x-python",
   "name": "python",
   "nbconvert_exporter": "python",
   "pygments_lexer": "ipython3",
   "version": "3.8.8"
  }
 },
 "nbformat": 4,
 "nbformat_minor": 5
}
